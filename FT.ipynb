{
 "cells": [
  {
   "cell_type": "code",
   "execution_count": 1,
   "id": "b1be241e",
   "metadata": {},
   "outputs": [],
   "source": [
    "import pandas as pd\n",
    "import numpy as np\n",
    "from pulp import LpProblem, LpVariable, LpMaximize, lpSum, LpBinary\n",
    "import matplotlib.pyplot as plt\n",
    "import seaborn as sns\n",
    "import plotly.express as px\n",
    "\n",
    "pd.set_option('display.max_columns', None)\n",
    "pd.set_option('display.max_rows', None)\n",
    "\n",
    "df_players = pd.read_parquet('df_players.parquet')\n",
    "df_positions = pd.read_parquet('df_positions.parquet')\n",
    "df_teams = pd.read_parquet('df_teams.parquet')"
   ]
  },
  {
   "cell_type": "code",
   "execution_count": 2,
   "id": "5657ee98",
   "metadata": {},
   "outputs": [
    {
     "data": {
      "text/html": [
       "<div>\n",
       "<style scoped>\n",
       "    .dataframe tbody tr th:only-of-type {\n",
       "        vertical-align: middle;\n",
       "    }\n",
       "\n",
       "    .dataframe tbody tr th {\n",
       "        vertical-align: top;\n",
       "    }\n",
       "\n",
       "    .dataframe thead th {\n",
       "        text-align: right;\n",
       "    }\n",
       "</style>\n",
       "<table border=\"1\" class=\"dataframe\">\n",
       "  <thead>\n",
       "    <tr style=\"text-align: right;\">\n",
       "      <th></th>\n",
       "      <th>first_name</th>\n",
       "      <th>web_name</th>\n",
       "      <th>team_short</th>\n",
       "      <th>team_name</th>\n",
       "      <th>position</th>\n",
       "      <th>price</th>\n",
       "      <th>total_points</th>\n",
       "      <th>points_per_cost</th>\n",
       "      <th>points_per_minutes</th>\n",
       "      <th>fdr_next_6</th>\n",
       "      <th>ict_index</th>\n",
       "      <th>selected_by_percent</th>\n",
       "      <th>selected_rank</th>\n",
       "      <th>form</th>\n",
       "      <th>minutes</th>\n",
       "      <th>transfers_in</th>\n",
       "      <th>transfers_in_event</th>\n",
       "      <th>transfers_out</th>\n",
       "      <th>transfers_out_event</th>\n",
       "      <th>assists</th>\n",
       "      <th>goals_scored</th>\n",
       "      <th>goal_involvements</th>\n",
       "      <th>expected_goals</th>\n",
       "      <th>expected_assists</th>\n",
       "      <th>expected_goal_involvements</th>\n",
       "      <th>GI_on_xGI</th>\n",
       "      <th>expected_goals_per_90</th>\n",
       "      <th>saves_per_90</th>\n",
       "      <th>expected_assists_per_90</th>\n",
       "      <th>expected_goal_involvements_per_90</th>\n",
       "      <th>expected_goals_conceded_per_90</th>\n",
       "      <th>goals_conceded_per_90</th>\n",
       "      <th>defensive_contribution_per_90</th>\n",
       "      <th>minutes_last</th>\n",
       "      <th>xGI_last</th>\n",
       "      <th>xG_last</th>\n",
       "      <th>ict_last</th>\n",
       "      <th>total_points_last</th>\n",
       "      <th>total_points_last_per_xGI_last</th>\n",
       "    </tr>\n",
       "    <tr>\n",
       "      <th>id</th>\n",
       "      <th></th>\n",
       "      <th></th>\n",
       "      <th></th>\n",
       "      <th></th>\n",
       "      <th></th>\n",
       "      <th></th>\n",
       "      <th></th>\n",
       "      <th></th>\n",
       "      <th></th>\n",
       "      <th></th>\n",
       "      <th></th>\n",
       "      <th></th>\n",
       "      <th></th>\n",
       "      <th></th>\n",
       "      <th></th>\n",
       "      <th></th>\n",
       "      <th></th>\n",
       "      <th></th>\n",
       "      <th></th>\n",
       "      <th></th>\n",
       "      <th></th>\n",
       "      <th></th>\n",
       "      <th></th>\n",
       "      <th></th>\n",
       "      <th></th>\n",
       "      <th></th>\n",
       "      <th></th>\n",
       "      <th></th>\n",
       "      <th></th>\n",
       "      <th></th>\n",
       "      <th></th>\n",
       "      <th></th>\n",
       "      <th></th>\n",
       "      <th></th>\n",
       "      <th></th>\n",
       "      <th></th>\n",
       "      <th></th>\n",
       "      <th></th>\n",
       "      <th></th>\n",
       "    </tr>\n",
       "  </thead>\n",
       "  <tbody>\n",
       "    <tr>\n",
       "      <th>260</th>\n",
       "      <td>Marc</td>\n",
       "      <td>Guéhi</td>\n",
       "      <td>CRY</td>\n",
       "      <td>Crystal Palace</td>\n",
       "      <td>DEF</td>\n",
       "      <td>47.0</td>\n",
       "      <td>43.0</td>\n",
       "      <td>0.914894</td>\n",
       "      <td>0.079630</td>\n",
       "      <td>3.333333</td>\n",
       "      <td>18.0</td>\n",
       "      <td>25.9</td>\n",
       "      <td>10</td>\n",
       "      <td>8.8</td>\n",
       "      <td>540.0</td>\n",
       "      <td>1954035</td>\n",
       "      <td>53527</td>\n",
       "      <td>411308</td>\n",
       "      <td>1516</td>\n",
       "      <td>2.0</td>\n",
       "      <td>1.0</td>\n",
       "      <td>3.0</td>\n",
       "      <td>0.39</td>\n",
       "      <td>0.08</td>\n",
       "      <td>0.47</td>\n",
       "      <td>6.382979</td>\n",
       "      <td>0.06</td>\n",
       "      <td>0.00</td>\n",
       "      <td>0.01</td>\n",
       "      <td>0.07</td>\n",
       "      <td>1.16</td>\n",
       "      <td>0.50</td>\n",
       "      <td>7.83</td>\n",
       "      <td>90.000000</td>\n",
       "      <td>0.078333</td>\n",
       "      <td>0.065000</td>\n",
       "      <td>3.000000</td>\n",
       "      <td>7.166667</td>\n",
       "      <td>91.489362</td>\n",
       "    </tr>\n",
       "    <tr>\n",
       "      <th>72</th>\n",
       "      <td>Marcos</td>\n",
       "      <td>Senesi</td>\n",
       "      <td>BOU</td>\n",
       "      <td>Bournemouth</td>\n",
       "      <td>DEF</td>\n",
       "      <td>48.0</td>\n",
       "      <td>43.0</td>\n",
       "      <td>0.895833</td>\n",
       "      <td>0.079630</td>\n",
       "      <td>3.166667</td>\n",
       "      <td>20.2</td>\n",
       "      <td>18.5</td>\n",
       "      <td>19</td>\n",
       "      <td>8.0</td>\n",
       "      <td>540.0</td>\n",
       "      <td>2176131</td>\n",
       "      <td>53920</td>\n",
       "      <td>174115</td>\n",
       "      <td>1359</td>\n",
       "      <td>2.0</td>\n",
       "      <td>0.0</td>\n",
       "      <td>2.0</td>\n",
       "      <td>0.14</td>\n",
       "      <td>0.37</td>\n",
       "      <td>0.51</td>\n",
       "      <td>3.921569</td>\n",
       "      <td>0.02</td>\n",
       "      <td>0.00</td>\n",
       "      <td>0.06</td>\n",
       "      <td>0.08</td>\n",
       "      <td>0.91</td>\n",
       "      <td>1.17</td>\n",
       "      <td>13.50</td>\n",
       "      <td>90.000000</td>\n",
       "      <td>0.085000</td>\n",
       "      <td>0.023333</td>\n",
       "      <td>3.366667</td>\n",
       "      <td>7.166667</td>\n",
       "      <td>84.313725</td>\n",
       "    </tr>\n",
       "    <tr>\n",
       "      <th>348</th>\n",
       "      <td>Joe</td>\n",
       "      <td>Rodon</td>\n",
       "      <td>LEE</td>\n",
       "      <td>Leeds</td>\n",
       "      <td>DEF</td>\n",
       "      <td>40.0</td>\n",
       "      <td>29.0</td>\n",
       "      <td>0.725000</td>\n",
       "      <td>0.053704</td>\n",
       "      <td>2.666667</td>\n",
       "      <td>10.5</td>\n",
       "      <td>4.6</td>\n",
       "      <td>76</td>\n",
       "      <td>5.0</td>\n",
       "      <td>540.0</td>\n",
       "      <td>439453</td>\n",
       "      <td>14620</td>\n",
       "      <td>148481</td>\n",
       "      <td>926</td>\n",
       "      <td>0.0</td>\n",
       "      <td>1.0</td>\n",
       "      <td>1.0</td>\n",
       "      <td>0.33</td>\n",
       "      <td>0.01</td>\n",
       "      <td>0.34</td>\n",
       "      <td>2.941176</td>\n",
       "      <td>0.06</td>\n",
       "      <td>0.00</td>\n",
       "      <td>0.00</td>\n",
       "      <td>0.06</td>\n",
       "      <td>1.22</td>\n",
       "      <td>1.50</td>\n",
       "      <td>9.33</td>\n",
       "      <td>90.000000</td>\n",
       "      <td>0.056667</td>\n",
       "      <td>0.055000</td>\n",
       "      <td>1.750000</td>\n",
       "      <td>4.833333</td>\n",
       "      <td>85.294118</td>\n",
       "    </tr>\n",
       "    <tr>\n",
       "      <th>575</th>\n",
       "      <td>Micky</td>\n",
       "      <td>Van de Ven</td>\n",
       "      <td>TOT</td>\n",
       "      <td>Spurs</td>\n",
       "      <td>DEF</td>\n",
       "      <td>47.0</td>\n",
       "      <td>29.0</td>\n",
       "      <td>0.617021</td>\n",
       "      <td>0.059917</td>\n",
       "      <td>2.666667</td>\n",
       "      <td>16.3</td>\n",
       "      <td>34.4</td>\n",
       "      <td>7</td>\n",
       "      <td>4.2</td>\n",
       "      <td>484.0</td>\n",
       "      <td>1568694</td>\n",
       "      <td>12114</td>\n",
       "      <td>599382</td>\n",
       "      <td>4031</td>\n",
       "      <td>0.0</td>\n",
       "      <td>1.0</td>\n",
       "      <td>1.0</td>\n",
       "      <td>0.69</td>\n",
       "      <td>0.16</td>\n",
       "      <td>0.85</td>\n",
       "      <td>1.176471</td>\n",
       "      <td>0.13</td>\n",
       "      <td>0.00</td>\n",
       "      <td>0.03</td>\n",
       "      <td>0.16</td>\n",
       "      <td>1.15</td>\n",
       "      <td>0.56</td>\n",
       "      <td>5.76</td>\n",
       "      <td>80.666667</td>\n",
       "      <td>0.141667</td>\n",
       "      <td>0.115000</td>\n",
       "      <td>2.716667</td>\n",
       "      <td>4.833333</td>\n",
       "      <td>34.117647</td>\n",
       "    </tr>\n",
       "    <tr>\n",
       "      <th>38</th>\n",
       "      <td>Ezri</td>\n",
       "      <td>Konsa</td>\n",
       "      <td>AVL</td>\n",
       "      <td>Aston Villa</td>\n",
       "      <td>DEF</td>\n",
       "      <td>45.0</td>\n",
       "      <td>12.0</td>\n",
       "      <td>0.266667</td>\n",
       "      <td>0.035821</td>\n",
       "      <td>3.333333</td>\n",
       "      <td>8.5</td>\n",
       "      <td>11.5</td>\n",
       "      <td>37</td>\n",
       "      <td>2.2</td>\n",
       "      <td>335.0</td>\n",
       "      <td>176643</td>\n",
       "      <td>1432</td>\n",
       "      <td>1097306</td>\n",
       "      <td>5497</td>\n",
       "      <td>0.0</td>\n",
       "      <td>0.0</td>\n",
       "      <td>0.0</td>\n",
       "      <td>0.00</td>\n",
       "      <td>0.07</td>\n",
       "      <td>0.07</td>\n",
       "      <td>0.000000</td>\n",
       "      <td>0.00</td>\n",
       "      <td>0.00</td>\n",
       "      <td>0.02</td>\n",
       "      <td>0.02</td>\n",
       "      <td>1.86</td>\n",
       "      <td>1.07</td>\n",
       "      <td>4.84</td>\n",
       "      <td>55.833333</td>\n",
       "      <td>0.011667</td>\n",
       "      <td>0.000000</td>\n",
       "      <td>1.416667</td>\n",
       "      <td>2.000000</td>\n",
       "      <td>171.428571</td>\n",
       "    </tr>\n",
       "    <tr>\n",
       "      <th>249</th>\n",
       "      <td>João Pedro</td>\n",
       "      <td>João Pedro</td>\n",
       "      <td>CHE</td>\n",
       "      <td>Chelsea</td>\n",
       "      <td>FWD</td>\n",
       "      <td>78.0</td>\n",
       "      <td>37.0</td>\n",
       "      <td>0.474359</td>\n",
       "      <td>0.072549</td>\n",
       "      <td>2.833333</td>\n",
       "      <td>36.3</td>\n",
       "      <td>67.7</td>\n",
       "      <td>1</td>\n",
       "      <td>5.0</td>\n",
       "      <td>510.0</td>\n",
       "      <td>2665845</td>\n",
       "      <td>11385</td>\n",
       "      <td>1074210</td>\n",
       "      <td>51766</td>\n",
       "      <td>3.0</td>\n",
       "      <td>2.0</td>\n",
       "      <td>5.0</td>\n",
       "      <td>1.50</td>\n",
       "      <td>0.23</td>\n",
       "      <td>1.73</td>\n",
       "      <td>2.890173</td>\n",
       "      <td>0.26</td>\n",
       "      <td>0.00</td>\n",
       "      <td>0.04</td>\n",
       "      <td>0.30</td>\n",
       "      <td>1.22</td>\n",
       "      <td>1.24</td>\n",
       "      <td>4.94</td>\n",
       "      <td>85.000000</td>\n",
       "      <td>0.288333</td>\n",
       "      <td>0.250000</td>\n",
       "      <td>6.050000</td>\n",
       "      <td>6.166667</td>\n",
       "      <td>21.387283</td>\n",
       "    </tr>\n",
       "    <tr>\n",
       "      <th>430</th>\n",
       "      <td>Erling</td>\n",
       "      <td>Haaland</td>\n",
       "      <td>MCI</td>\n",
       "      <td>Man City</td>\n",
       "      <td>FWD</td>\n",
       "      <td>143.0</td>\n",
       "      <td>59.0</td>\n",
       "      <td>0.412587</td>\n",
       "      <td>0.117296</td>\n",
       "      <td>3.000000</td>\n",
       "      <td>52.2</td>\n",
       "      <td>50.3</td>\n",
       "      <td>3</td>\n",
       "      <td>11.0</td>\n",
       "      <td>503.0</td>\n",
       "      <td>3339690</td>\n",
       "      <td>121431</td>\n",
       "      <td>613256</td>\n",
       "      <td>870</td>\n",
       "      <td>1.0</td>\n",
       "      <td>8.0</td>\n",
       "      <td>9.0</td>\n",
       "      <td>7.35</td>\n",
       "      <td>0.57</td>\n",
       "      <td>7.92</td>\n",
       "      <td>1.136364</td>\n",
       "      <td>1.32</td>\n",
       "      <td>0.00</td>\n",
       "      <td>0.10</td>\n",
       "      <td>1.42</td>\n",
       "      <td>1.14</td>\n",
       "      <td>0.89</td>\n",
       "      <td>4.29</td>\n",
       "      <td>83.833333</td>\n",
       "      <td>1.320000</td>\n",
       "      <td>1.225000</td>\n",
       "      <td>8.700000</td>\n",
       "      <td>9.833333</td>\n",
       "      <td>7.449495</td>\n",
       "    </tr>\n",
       "    <tr>\n",
       "      <th>100</th>\n",
       "      <td>Eli Junior</td>\n",
       "      <td>Kroupi.Jr</td>\n",
       "      <td>BOU</td>\n",
       "      <td>Bournemouth</td>\n",
       "      <td>FWD</td>\n",
       "      <td>45.0</td>\n",
       "      <td>7.0</td>\n",
       "      <td>0.155556</td>\n",
       "      <td>0.333333</td>\n",
       "      <td>3.166667</td>\n",
       "      <td>0.2</td>\n",
       "      <td>1.5</td>\n",
       "      <td>151</td>\n",
       "      <td>1.2</td>\n",
       "      <td>21.0</td>\n",
       "      <td>180391</td>\n",
       "      <td>3830</td>\n",
       "      <td>131103</td>\n",
       "      <td>1696</td>\n",
       "      <td>0.0</td>\n",
       "      <td>1.0</td>\n",
       "      <td>1.0</td>\n",
       "      <td>0.23</td>\n",
       "      <td>0.00</td>\n",
       "      <td>0.23</td>\n",
       "      <td>4.347826</td>\n",
       "      <td>0.99</td>\n",
       "      <td>0.00</td>\n",
       "      <td>0.00</td>\n",
       "      <td>0.99</td>\n",
       "      <td>1.33</td>\n",
       "      <td>4.29</td>\n",
       "      <td>8.57</td>\n",
       "      <td>3.500000</td>\n",
       "      <td>0.038333</td>\n",
       "      <td>0.038333</td>\n",
       "      <td>0.033333</td>\n",
       "      <td>1.166667</td>\n",
       "      <td>30.434783</td>\n",
       "    </tr>\n",
       "    <tr>\n",
       "      <th>470</th>\n",
       "      <td>Martin</td>\n",
       "      <td>Dúbravka</td>\n",
       "      <td>BUR</td>\n",
       "      <td>Burnley</td>\n",
       "      <td>GKP</td>\n",
       "      <td>40.0</td>\n",
       "      <td>18.0</td>\n",
       "      <td>0.450000</td>\n",
       "      <td>0.033333</td>\n",
       "      <td>3.166667</td>\n",
       "      <td>14.3</td>\n",
       "      <td>34.5</td>\n",
       "      <td>6</td>\n",
       "      <td>2.5</td>\n",
       "      <td>540.0</td>\n",
       "      <td>724179</td>\n",
       "      <td>5736</td>\n",
       "      <td>386320</td>\n",
       "      <td>4136</td>\n",
       "      <td>0.0</td>\n",
       "      <td>0.0</td>\n",
       "      <td>0.0</td>\n",
       "      <td>0.00</td>\n",
       "      <td>0.00</td>\n",
       "      <td>0.00</td>\n",
       "      <td>NaN</td>\n",
       "      <td>0.00</td>\n",
       "      <td>4.00</td>\n",
       "      <td>0.00</td>\n",
       "      <td>0.00</td>\n",
       "      <td>2.06</td>\n",
       "      <td>2.17</td>\n",
       "      <td>0.00</td>\n",
       "      <td>90.000000</td>\n",
       "      <td>0.000000</td>\n",
       "      <td>0.000000</td>\n",
       "      <td>2.383333</td>\n",
       "      <td>3.000000</td>\n",
       "      <td>0.000000</td>\n",
       "    </tr>\n",
       "    <tr>\n",
       "      <th>220</th>\n",
       "      <td>Robert</td>\n",
       "      <td>Sánchez</td>\n",
       "      <td>CHE</td>\n",
       "      <td>Chelsea</td>\n",
       "      <td>GKP</td>\n",
       "      <td>49.0</td>\n",
       "      <td>17.0</td>\n",
       "      <td>0.346939</td>\n",
       "      <td>0.037445</td>\n",
       "      <td>2.833333</td>\n",
       "      <td>8.1</td>\n",
       "      <td>17.0</td>\n",
       "      <td>22</td>\n",
       "      <td>1.5</td>\n",
       "      <td>454.0</td>\n",
       "      <td>475626</td>\n",
       "      <td>916</td>\n",
       "      <td>1299519</td>\n",
       "      <td>18553</td>\n",
       "      <td>0.0</td>\n",
       "      <td>0.0</td>\n",
       "      <td>0.0</td>\n",
       "      <td>0.00</td>\n",
       "      <td>0.00</td>\n",
       "      <td>0.00</td>\n",
       "      <td>NaN</td>\n",
       "      <td>0.00</td>\n",
       "      <td>2.38</td>\n",
       "      <td>0.00</td>\n",
       "      <td>0.00</td>\n",
       "      <td>1.17</td>\n",
       "      <td>1.59</td>\n",
       "      <td>0.00</td>\n",
       "      <td>75.666667</td>\n",
       "      <td>0.000000</td>\n",
       "      <td>0.000000</td>\n",
       "      <td>1.350000</td>\n",
       "      <td>2.833333</td>\n",
       "      <td>0.000000</td>\n",
       "    </tr>\n",
       "    <tr>\n",
       "      <th>241</th>\n",
       "      <td>Moisés</td>\n",
       "      <td>Caicedo</td>\n",
       "      <td>CHE</td>\n",
       "      <td>Chelsea</td>\n",
       "      <td>MID</td>\n",
       "      <td>56.0</td>\n",
       "      <td>35.0</td>\n",
       "      <td>0.625000</td>\n",
       "      <td>0.064815</td>\n",
       "      <td>2.833333</td>\n",
       "      <td>26.0</td>\n",
       "      <td>12.1</td>\n",
       "      <td>36</td>\n",
       "      <td>5.5</td>\n",
       "      <td>540.0</td>\n",
       "      <td>1012294</td>\n",
       "      <td>12236</td>\n",
       "      <td>341084</td>\n",
       "      <td>10114</td>\n",
       "      <td>0.0</td>\n",
       "      <td>2.0</td>\n",
       "      <td>2.0</td>\n",
       "      <td>0.46</td>\n",
       "      <td>0.22</td>\n",
       "      <td>0.68</td>\n",
       "      <td>2.941176</td>\n",
       "      <td>0.08</td>\n",
       "      <td>0.00</td>\n",
       "      <td>0.04</td>\n",
       "      <td>0.12</td>\n",
       "      <td>1.28</td>\n",
       "      <td>1.33</td>\n",
       "      <td>14.17</td>\n",
       "      <td>90.000000</td>\n",
       "      <td>0.113333</td>\n",
       "      <td>0.076667</td>\n",
       "      <td>4.333333</td>\n",
       "      <td>5.833333</td>\n",
       "      <td>51.470588</td>\n",
       "    </tr>\n",
       "    <tr>\n",
       "      <th>82</th>\n",
       "      <td>Antoine</td>\n",
       "      <td>Semenyo</td>\n",
       "      <td>BOU</td>\n",
       "      <td>Bournemouth</td>\n",
       "      <td>MID</td>\n",
       "      <td>77.0</td>\n",
       "      <td>48.0</td>\n",
       "      <td>0.623377</td>\n",
       "      <td>0.088889</td>\n",
       "      <td>3.166667</td>\n",
       "      <td>41.0</td>\n",
       "      <td>51.7</td>\n",
       "      <td>2</td>\n",
       "      <td>6.8</td>\n",
       "      <td>540.0</td>\n",
       "      <td>5432893</td>\n",
       "      <td>65033</td>\n",
       "      <td>482431</td>\n",
       "      <td>2369</td>\n",
       "      <td>2.0</td>\n",
       "      <td>4.0</td>\n",
       "      <td>6.0</td>\n",
       "      <td>2.99</td>\n",
       "      <td>0.31</td>\n",
       "      <td>3.30</td>\n",
       "      <td>1.818182</td>\n",
       "      <td>0.50</td>\n",
       "      <td>0.00</td>\n",
       "      <td>0.05</td>\n",
       "      <td>0.55</td>\n",
       "      <td>0.91</td>\n",
       "      <td>1.17</td>\n",
       "      <td>8.17</td>\n",
       "      <td>90.000000</td>\n",
       "      <td>0.550000</td>\n",
       "      <td>0.498333</td>\n",
       "      <td>6.833333</td>\n",
       "      <td>8.000000</td>\n",
       "      <td>14.545455</td>\n",
       "    </tr>\n",
       "    <tr>\n",
       "      <th>427</th>\n",
       "      <td>Tijjani</td>\n",
       "      <td>Reijnders</td>\n",
       "      <td>MCI</td>\n",
       "      <td>Man City</td>\n",
       "      <td>MID</td>\n",
       "      <td>57.0</td>\n",
       "      <td>28.0</td>\n",
       "      <td>0.491228</td>\n",
       "      <td>0.052632</td>\n",
       "      <td>3.000000</td>\n",
       "      <td>28.4</td>\n",
       "      <td>34.5</td>\n",
       "      <td>5</td>\n",
       "      <td>4.0</td>\n",
       "      <td>532.0</td>\n",
       "      <td>2756305</td>\n",
       "      <td>16214</td>\n",
       "      <td>1170940</td>\n",
       "      <td>18876</td>\n",
       "      <td>2.0</td>\n",
       "      <td>1.0</td>\n",
       "      <td>3.0</td>\n",
       "      <td>0.81</td>\n",
       "      <td>0.42</td>\n",
       "      <td>1.23</td>\n",
       "      <td>2.439024</td>\n",
       "      <td>0.14</td>\n",
       "      <td>0.00</td>\n",
       "      <td>0.07</td>\n",
       "      <td>0.21</td>\n",
       "      <td>1.16</td>\n",
       "      <td>1.02</td>\n",
       "      <td>6.26</td>\n",
       "      <td>88.666667</td>\n",
       "      <td>0.205000</td>\n",
       "      <td>0.135000</td>\n",
       "      <td>4.733333</td>\n",
       "      <td>4.666667</td>\n",
       "      <td>22.764228</td>\n",
       "    </tr>\n",
       "    <tr>\n",
       "      <th>449</th>\n",
       "      <td>Bruno</td>\n",
       "      <td>B.Fernandes</td>\n",
       "      <td>MUN</td>\n",
       "      <td>Man Utd</td>\n",
       "      <td>MID</td>\n",
       "      <td>90.0</td>\n",
       "      <td>25.0</td>\n",
       "      <td>0.277778</td>\n",
       "      <td>0.046642</td>\n",
       "      <td>3.166667</td>\n",
       "      <td>48.1</td>\n",
       "      <td>21.0</td>\n",
       "      <td>17</td>\n",
       "      <td>5.2</td>\n",
       "      <td>536.0</td>\n",
       "      <td>1183942</td>\n",
       "      <td>10373</td>\n",
       "      <td>1279600</td>\n",
       "      <td>36976</td>\n",
       "      <td>0.0</td>\n",
       "      <td>2.0</td>\n",
       "      <td>2.0</td>\n",
       "      <td>3.52</td>\n",
       "      <td>1.00</td>\n",
       "      <td>4.52</td>\n",
       "      <td>0.442478</td>\n",
       "      <td>0.59</td>\n",
       "      <td>0.00</td>\n",
       "      <td>0.17</td>\n",
       "      <td>0.76</td>\n",
       "      <td>1.53</td>\n",
       "      <td>1.85</td>\n",
       "      <td>10.91</td>\n",
       "      <td>89.333333</td>\n",
       "      <td>0.753333</td>\n",
       "      <td>0.586667</td>\n",
       "      <td>8.016667</td>\n",
       "      <td>4.166667</td>\n",
       "      <td>5.530973</td>\n",
       "    </tr>\n",
       "    <tr>\n",
       "      <th>381</th>\n",
       "      <td>Mohamed</td>\n",
       "      <td>M.Salah</td>\n",
       "      <td>LIV</td>\n",
       "      <td>Liverpool</td>\n",
       "      <td>MID</td>\n",
       "      <td>145.0</td>\n",
       "      <td>32.0</td>\n",
       "      <td>0.220690</td>\n",
       "      <td>0.059259</td>\n",
       "      <td>3.333333</td>\n",
       "      <td>36.1</td>\n",
       "      <td>47.4</td>\n",
       "      <td>4</td>\n",
       "      <td>4.8</td>\n",
       "      <td>540.0</td>\n",
       "      <td>1062501</td>\n",
       "      <td>5432</td>\n",
       "      <td>1634617</td>\n",
       "      <td>72388</td>\n",
       "      <td>2.0</td>\n",
       "      <td>2.0</td>\n",
       "      <td>4.0</td>\n",
       "      <td>1.71</td>\n",
       "      <td>0.73</td>\n",
       "      <td>2.44</td>\n",
       "      <td>1.639344</td>\n",
       "      <td>0.28</td>\n",
       "      <td>0.00</td>\n",
       "      <td>0.12</td>\n",
       "      <td>0.40</td>\n",
       "      <td>1.07</td>\n",
       "      <td>1.17</td>\n",
       "      <td>4.00</td>\n",
       "      <td>90.000000</td>\n",
       "      <td>0.406667</td>\n",
       "      <td>0.285000</td>\n",
       "      <td>6.016667</td>\n",
       "      <td>5.333333</td>\n",
       "      <td>13.114754</td>\n",
       "    </tr>\n",
       "  </tbody>\n",
       "</table>\n",
       "</div>"
      ],
      "text/plain": [
       "     first_name     web_name team_short       team_name position  price  \\\n",
       "id                                                                        \n",
       "260        Marc        Guéhi        CRY  Crystal Palace      DEF   47.0   \n",
       "72       Marcos       Senesi        BOU     Bournemouth      DEF   48.0   \n",
       "348         Joe        Rodon        LEE           Leeds      DEF   40.0   \n",
       "575       Micky   Van de Ven        TOT           Spurs      DEF   47.0   \n",
       "38         Ezri        Konsa        AVL     Aston Villa      DEF   45.0   \n",
       "249  João Pedro   João Pedro        CHE         Chelsea      FWD   78.0   \n",
       "430      Erling      Haaland        MCI        Man City      FWD  143.0   \n",
       "100  Eli Junior    Kroupi.Jr        BOU     Bournemouth      FWD   45.0   \n",
       "470      Martin     Dúbravka        BUR         Burnley      GKP   40.0   \n",
       "220      Robert      Sánchez        CHE         Chelsea      GKP   49.0   \n",
       "241      Moisés      Caicedo        CHE         Chelsea      MID   56.0   \n",
       "82      Antoine      Semenyo        BOU     Bournemouth      MID   77.0   \n",
       "427     Tijjani    Reijnders        MCI        Man City      MID   57.0   \n",
       "449       Bruno  B.Fernandes        MUN         Man Utd      MID   90.0   \n",
       "381     Mohamed      M.Salah        LIV       Liverpool      MID  145.0   \n",
       "\n",
       "     total_points  points_per_cost  points_per_minutes  fdr_next_6  ict_index  \\\n",
       "id                                                                              \n",
       "260          43.0         0.914894            0.079630    3.333333       18.0   \n",
       "72           43.0         0.895833            0.079630    3.166667       20.2   \n",
       "348          29.0         0.725000            0.053704    2.666667       10.5   \n",
       "575          29.0         0.617021            0.059917    2.666667       16.3   \n",
       "38           12.0         0.266667            0.035821    3.333333        8.5   \n",
       "249          37.0         0.474359            0.072549    2.833333       36.3   \n",
       "430          59.0         0.412587            0.117296    3.000000       52.2   \n",
       "100           7.0         0.155556            0.333333    3.166667        0.2   \n",
       "470          18.0         0.450000            0.033333    3.166667       14.3   \n",
       "220          17.0         0.346939            0.037445    2.833333        8.1   \n",
       "241          35.0         0.625000            0.064815    2.833333       26.0   \n",
       "82           48.0         0.623377            0.088889    3.166667       41.0   \n",
       "427          28.0         0.491228            0.052632    3.000000       28.4   \n",
       "449          25.0         0.277778            0.046642    3.166667       48.1   \n",
       "381          32.0         0.220690            0.059259    3.333333       36.1   \n",
       "\n",
       "     selected_by_percent  selected_rank  form  minutes  transfers_in  \\\n",
       "id                                                                     \n",
       "260                 25.9             10   8.8    540.0       1954035   \n",
       "72                  18.5             19   8.0    540.0       2176131   \n",
       "348                  4.6             76   5.0    540.0        439453   \n",
       "575                 34.4              7   4.2    484.0       1568694   \n",
       "38                  11.5             37   2.2    335.0        176643   \n",
       "249                 67.7              1   5.0    510.0       2665845   \n",
       "430                 50.3              3  11.0    503.0       3339690   \n",
       "100                  1.5            151   1.2     21.0        180391   \n",
       "470                 34.5              6   2.5    540.0        724179   \n",
       "220                 17.0             22   1.5    454.0        475626   \n",
       "241                 12.1             36   5.5    540.0       1012294   \n",
       "82                  51.7              2   6.8    540.0       5432893   \n",
       "427                 34.5              5   4.0    532.0       2756305   \n",
       "449                 21.0             17   5.2    536.0       1183942   \n",
       "381                 47.4              4   4.8    540.0       1062501   \n",
       "\n",
       "     transfers_in_event  transfers_out  transfers_out_event  assists  \\\n",
       "id                                                                     \n",
       "260               53527         411308                 1516      2.0   \n",
       "72                53920         174115                 1359      2.0   \n",
       "348               14620         148481                  926      0.0   \n",
       "575               12114         599382                 4031      0.0   \n",
       "38                 1432        1097306                 5497      0.0   \n",
       "249               11385        1074210                51766      3.0   \n",
       "430              121431         613256                  870      1.0   \n",
       "100                3830         131103                 1696      0.0   \n",
       "470                5736         386320                 4136      0.0   \n",
       "220                 916        1299519                18553      0.0   \n",
       "241               12236         341084                10114      0.0   \n",
       "82                65033         482431                 2369      2.0   \n",
       "427               16214        1170940                18876      2.0   \n",
       "449               10373        1279600                36976      0.0   \n",
       "381                5432        1634617                72388      2.0   \n",
       "\n",
       "     goals_scored  goal_involvements  expected_goals  expected_assists  \\\n",
       "id                                                                       \n",
       "260           1.0                3.0            0.39              0.08   \n",
       "72            0.0                2.0            0.14              0.37   \n",
       "348           1.0                1.0            0.33              0.01   \n",
       "575           1.0                1.0            0.69              0.16   \n",
       "38            0.0                0.0            0.00              0.07   \n",
       "249           2.0                5.0            1.50              0.23   \n",
       "430           8.0                9.0            7.35              0.57   \n",
       "100           1.0                1.0            0.23              0.00   \n",
       "470           0.0                0.0            0.00              0.00   \n",
       "220           0.0                0.0            0.00              0.00   \n",
       "241           2.0                2.0            0.46              0.22   \n",
       "82            4.0                6.0            2.99              0.31   \n",
       "427           1.0                3.0            0.81              0.42   \n",
       "449           2.0                2.0            3.52              1.00   \n",
       "381           2.0                4.0            1.71              0.73   \n",
       "\n",
       "     expected_goal_involvements  GI_on_xGI  expected_goals_per_90  \\\n",
       "id                                                                  \n",
       "260                        0.47   6.382979                   0.06   \n",
       "72                         0.51   3.921569                   0.02   \n",
       "348                        0.34   2.941176                   0.06   \n",
       "575                        0.85   1.176471                   0.13   \n",
       "38                         0.07   0.000000                   0.00   \n",
       "249                        1.73   2.890173                   0.26   \n",
       "430                        7.92   1.136364                   1.32   \n",
       "100                        0.23   4.347826                   0.99   \n",
       "470                        0.00        NaN                   0.00   \n",
       "220                        0.00        NaN                   0.00   \n",
       "241                        0.68   2.941176                   0.08   \n",
       "82                         3.30   1.818182                   0.50   \n",
       "427                        1.23   2.439024                   0.14   \n",
       "449                        4.52   0.442478                   0.59   \n",
       "381                        2.44   1.639344                   0.28   \n",
       "\n",
       "     saves_per_90  expected_assists_per_90  expected_goal_involvements_per_90  \\\n",
       "id                                                                              \n",
       "260          0.00                     0.01                               0.07   \n",
       "72           0.00                     0.06                               0.08   \n",
       "348          0.00                     0.00                               0.06   \n",
       "575          0.00                     0.03                               0.16   \n",
       "38           0.00                     0.02                               0.02   \n",
       "249          0.00                     0.04                               0.30   \n",
       "430          0.00                     0.10                               1.42   \n",
       "100          0.00                     0.00                               0.99   \n",
       "470          4.00                     0.00                               0.00   \n",
       "220          2.38                     0.00                               0.00   \n",
       "241          0.00                     0.04                               0.12   \n",
       "82           0.00                     0.05                               0.55   \n",
       "427          0.00                     0.07                               0.21   \n",
       "449          0.00                     0.17                               0.76   \n",
       "381          0.00                     0.12                               0.40   \n",
       "\n",
       "     expected_goals_conceded_per_90  goals_conceded_per_90  \\\n",
       "id                                                           \n",
       "260                            1.16                   0.50   \n",
       "72                             0.91                   1.17   \n",
       "348                            1.22                   1.50   \n",
       "575                            1.15                   0.56   \n",
       "38                             1.86                   1.07   \n",
       "249                            1.22                   1.24   \n",
       "430                            1.14                   0.89   \n",
       "100                            1.33                   4.29   \n",
       "470                            2.06                   2.17   \n",
       "220                            1.17                   1.59   \n",
       "241                            1.28                   1.33   \n",
       "82                             0.91                   1.17   \n",
       "427                            1.16                   1.02   \n",
       "449                            1.53                   1.85   \n",
       "381                            1.07                   1.17   \n",
       "\n",
       "     defensive_contribution_per_90  minutes_last  xGI_last   xG_last  \\\n",
       "id                                                                     \n",
       "260                           7.83     90.000000  0.078333  0.065000   \n",
       "72                           13.50     90.000000  0.085000  0.023333   \n",
       "348                           9.33     90.000000  0.056667  0.055000   \n",
       "575                           5.76     80.666667  0.141667  0.115000   \n",
       "38                            4.84     55.833333  0.011667  0.000000   \n",
       "249                           4.94     85.000000  0.288333  0.250000   \n",
       "430                           4.29     83.833333  1.320000  1.225000   \n",
       "100                           8.57      3.500000  0.038333  0.038333   \n",
       "470                           0.00     90.000000  0.000000  0.000000   \n",
       "220                           0.00     75.666667  0.000000  0.000000   \n",
       "241                          14.17     90.000000  0.113333  0.076667   \n",
       "82                            8.17     90.000000  0.550000  0.498333   \n",
       "427                           6.26     88.666667  0.205000  0.135000   \n",
       "449                          10.91     89.333333  0.753333  0.586667   \n",
       "381                           4.00     90.000000  0.406667  0.285000   \n",
       "\n",
       "     ict_last  total_points_last  total_points_last_per_xGI_last  \n",
       "id                                                                \n",
       "260  3.000000           7.166667                       91.489362  \n",
       "72   3.366667           7.166667                       84.313725  \n",
       "348  1.750000           4.833333                       85.294118  \n",
       "575  2.716667           4.833333                       34.117647  \n",
       "38   1.416667           2.000000                      171.428571  \n",
       "249  6.050000           6.166667                       21.387283  \n",
       "430  8.700000           9.833333                        7.449495  \n",
       "100  0.033333           1.166667                       30.434783  \n",
       "470  2.383333           3.000000                        0.000000  \n",
       "220  1.350000           2.833333                        0.000000  \n",
       "241  4.333333           5.833333                       51.470588  \n",
       "82   6.833333           8.000000                       14.545455  \n",
       "427  4.733333           4.666667                       22.764228  \n",
       "449  8.016667           4.166667                        5.530973  \n",
       "381  6.016667           5.333333                       13.114754  "
      ]
     },
     "execution_count": 2,
     "metadata": {},
     "output_type": "execute_result"
    }
   ],
   "source": [
    "# Budget\n",
    "my_budget = 40.0  \n",
    "\n",
    "# Liste des noms des joueurs à ajouter\n",
    "selected_names = [\"Sánchez\", \"Dúbravka\", \"Guéhi\", \"Senesi\", \"Van de Ven\", \"Konsa\", \"Rodon\", \"M.Salah\", \"Reijnders\",  \n",
    "                   \"Semenyo\", \"B.Fernandes\", \"Caicedo\", \"\", \"João Pedro\", \"Haaland\", \"Kroupi.Jr\"]  # Remplace par les noms souhaités\n",
    "\n",
    "# Filtrer df_players pour obtenir les joueurs sélectionnés\n",
    "df_my_team = df_players[df_players[\"web_name\"].isin(selected_names)]\n",
    "\n",
    "# Afficher l'équipe sélectionnée\n",
    "df_my_team.sort_values(by = ['position'])"
   ]
  },
  {
   "cell_type": "code",
   "execution_count": 3,
   "id": "52140b34",
   "metadata": {},
   "outputs": [
    {
     "data": {
      "text/plain": [
       "np.float64(1007.0)"
      ]
     },
     "execution_count": 3,
     "metadata": {},
     "output_type": "execute_result"
    }
   ],
   "source": [
    "df_my_team.sum(numeric_only=True)['price'] # Coût total de l'équipe sélectionnée"
   ]
  },
  {
   "cell_type": "code",
   "execution_count": 4,
   "id": "72d4b82a",
   "metadata": {},
   "outputs": [],
   "source": [
    "# Je dois composer une équipe de 15 joueurs, je veux savoir si je peux l'améliorer en respectant les contraintes suivantes :\n",
    "# Mon budget est défini par la valeur my_budget (paramètre à modifier)\n",
    "# Je dois respecter la composition d'équipe suivante : 2 Gardiens (GKP), 5 Défenseurs (DEF), 5 Milieux (MID), 3 Attaquants (FWD)\n",
    "# Je ne peux pas avoir plus de 3 joueurs appartenant à la même équipe\n",
    "# Je veux maximiser le nombre de points que mon équipe peut potentiellement rapporter\n",
    "# Les critères me permettant de déterminer si un joueur va performer : les points_per_cost, l'ict_index, les points_per_minutes, le fdr_next_6 (plus la valeur est basse, plus le calendrier est facile et donc le joueur a de chances de performer)\n",
    "# La base de données df_players contient les informations nécessaires pour chaque joueur\n",
    "# A l'aide de Pulp, je vais résoudre ce problème d'optimisation linéaire en utilisant la programmation linéaire "
   ]
  },
  {
   "cell_type": "code",
   "execution_count": 5,
   "id": "50e03d6d",
   "metadata": {},
   "outputs": [
    {
     "name": "stdout",
     "output_type": "stream",
     "text": [
      "Corrélation entre ict_index et total_points : 0.872\n"
     ]
    }
   ],
   "source": [
    "corr = df_players['ict_index'].corr(df_players['total_points'])\n",
    "print(f\"Corrélation entre ict_index et total_points : {corr:.3f}\")\n"
   ]
  },
  {
   "cell_type": "code",
   "execution_count": 6,
   "id": "c8958aa4",
   "metadata": {},
   "outputs": [
    {
     "data": {
      "image/png": "[encoded data removed]",
      "text/plain": [
       "<Figure size 640x480 with 1 Axes>"
      ]
     },
     "metadata": {},
     "output_type": "display_data"
    }
   ],
   "source": [
    "sns.scatterplot(data=df_players, x='ict_index', y='total_points', hue='position')\n",
    "plt.title('ict_index vs total_points par position')\n",
    "plt.show()\n"
   ]
  },
  {
   "cell_type": "code",
   "execution_count": 7,
   "id": "9ff3f80c",
   "metadata": {},
   "outputs": [
    {
     "data": {
      "image/png": "[encoded data removed]",
      "text/plain": [
       "<Figure size 832.5x500 with 1 Axes>"
      ]
     },
     "metadata": {},
     "output_type": "display_data"
    }
   ],
   "source": [
    "sns.lmplot(data=df_players, x='ict_index', y='points_per_cost', hue='position', aspect=1.5)\n",
    "plt.title('Relation linéaire entre ict_index et points_per_cost')\n",
    "plt.show()"
   ]
  },
  {
   "cell_type": "code",
   "execution_count": 8,
   "id": "09224312",
   "metadata": {},
   "outputs": [
    {
     "data": {
      "application/vnd.plotly.v1+json": {
       "config": {
        "plotlyServerURL": "https://plot.ly"
       },
       "data": [
        {
         "hovertemplate": "position=MID<br>ict_index=%{x}<br>points_per_cost=%{y}<br>web_name=%{text}<extra></extra>",
         "legendgroup": "MID",
         "marker": {
          "color": "#636efa",
          "symbol": "circle"
         },
         "mode": "markers+text",
         "name": "MID",
         "orientation": "v",
         "showlegend": true,
         "text": [
          "Anthony",
          "Caicedo",
          "Semenyo",
          "Stach",
          "Cullen",
          "Gravenberch",
          "Xhaka",
          "Enzo",
          "Garner",
          "Minteh",
          "Reijnders",
          "Zubimendi",
          "Longstaff",
          "Tavernier",
          "Ndiaye",
          "Yarmoliuk",
          "L.Paquetá",
          "Sarr",
          "Iwobi",
          "Doku",
          "Scott",
          "Henderson",
          "Bergvall",
          "Kudus",
          "Szoboszlai",
          "Anderson",
          "J.Palhinha",
          "Dewsbury-Hall",
          "P.M.Sarr",
          "Talbi",
          "Gana",
          "Ayari",
          "E.Le Fée",
          "Grealish",
          "Ndoye",
          "Gakpo",
          "Brooks",
          "Adams",
          "Kamada",
          "Wharton",
          "O.Dango",
          "Wilson",
          "Gruda",
          "Mitoma",
          "Rice",
          "Damsgaard",
          "Johnson",
          "Hudson-Odoi",
          "B.Fernandes",
          "Lukić",
          "Sadiki",
          "Mbeumo",
          "Tonali",
          "Aaronson",
          "Georginio",
          "Neto",
          "Tchaouna",
          "Ampadu",
          "Schade",
          "Berge",
          "Hannibal",
          "Okafor",
          "Adingra",
          "Hughes",
          "Jensen",
          "Carvalho",
          "Wieffer",
          "McGinn",
          "Gomes",
          "Sessegnon",
          "M.Salah",
          "Sangaré",
          "Bernardo",
          "Chiesa",
          "O'Riley",
          "Bobb",
          "Diarra",
          "Bruno G.",
          "Foden",
          "J.Murphy",
          "Munetsi",
          "Hee Chan",
          "Mac Allister",
          "Casemiro",
          "Summerville",
          "Onyeka",
          "Ward-Prowse",
          "Gibbs-White",
          "Eze",
          "Bruun Larsen",
          "André",
          "Estêvão",
          "Kamara",
          "Laurent",
          "Ugarte",
          "Milner",
          "King",
          "Ngumoha",
          "Amad",
          "Rogers",
          "Martinelli",
          "Smith Rowe",
          "Bentancur",
          "C.Jones",
          "Baleba",
          "Florentino",
          "Rodrigo",
          "Devenny",
          "Barnes",
          "Wirtz",
          "Madueke",
          "Lerma",
          "Iroegbunam",
          "Gruev",
          "Christie",
          "L.Miley",
          "Tielemans",
          "Mount",
          "Merino",
          "N.Gonzalez",
          "J.Arias",
          "Yeremy",
          "James",
          "M.Fernandes",
          "Onana",
          "Tanaka",
          "Ugochukwu",
          "Joelinton",
          "Elanga",
          "Malen",
          "Bellegarde",
          "Odobert",
          "Gnonto",
          "Cherki",
          "Fer López",
          "Andrey Santos",
          "Dowman",
          "Marmoush",
          "Palmer",
          "Saka",
          "Gomez",
          "Endo",
          "Trossard",
          "Ødegaard",
          "Cunha",
          "Douglas Luiz",
          "Xavi",
          "Guessand",
          "Buendía",
          "Nwaneri",
          "Harrison",
          "Adli",
          "H.Traorè",
          "Mainoo",
          "Rigg",
          "Gray",
          "Willock",
          "Tel",
          "Hinshelwood",
          "McAtee",
          "Alcaraz",
          "Kluivert",
          "Souček",
          "Irving",
          "Bakwa",
          "Gittens",
          "Yates",
          "George",
          "Savinho",
          "Adama",
          "Elliott",
          "Hutchinson",
          "G.Rodriguez",
          "L.Guilherme",
          "Cairney",
          "Janelt",
          "S.Magassa",
          "J.Ramsey",
          "Potts",
          "Burrowes",
          "Winterburn",
          "Armstrong",
          "Buonanotte",
          "Esse",
          "Edwards",
          "Cook",
          "Neil",
          "Lavia",
          "Röhl",
          "Gannon-Doak",
          "Milambo",
          "Roberts",
          "Jota",
          "Dibling",
          "Traoré",
          "McNeil",
          "Sancho",
          "Kevin",
          "Garnacho",
          "Gordon",
          "Fábio Vieira",
          "Nørgaard",
          "Kabia",
          "Sambi",
          "Harriman-Annous",
          "Bailey",
          "Iling Jr",
          "Barkley",
          "Barrenechea",
          "Dobbin",
          "Broggio",
          "Dendoncker",
          "Jimoh-Aloba",
          "Young",
          "Benson",
          "Boateng",
          "Churlinov",
          "Koleosho",
          "A.Ramsey",
          "Adewumi",
          "Banel",
          "Trésor",
          "Philip",
          "Sinisterra",
          "Faivre",
          "Sadi",
          "Silcott-Duberry",
          "Rees-Dottin",
          "Nelson",
          "Nunes",
          "Donovan",
          "Konak",
          "Maghoma",
          "Peart-Harris",
          "Trevitt",
          "March",
          "Enciso",
          "Sima",
          "Sarmiento",
          "Watson",
          "Yalcouye",
          "Knight",
          "Mazilu",
          "Moran",
          "Nkunku",
          "Mudryk",
          "D.Essugo",
          "Paez",
          "Doucouré",
          "Agbinone",
          "Ahamada",
          "Ebiowei",
          "J.Rak-Sakyi",
          "M.França",
          "Ozoh",
          "Rodney",
          "Umeh",
          "Cardines",
          "Bates",
          "Ebere",
          "Heath",
          "Metcalfe",
          "Onyango",
          "Andreas",
          "Godo",
          "Harris",
          "Reed",
          "Chukwueze",
          "Greenwood",
          "Ramazani",
          "Crew",
          "Gelhardt",
          "Gyabi",
          "Luis Díaz",
          "Bajcetic",
          "McConnell",
          "Morton",
          "Nyoni",
          "Gündoğan",
          "Kovačić",
          "Echeverri",
          "Nypan",
          "Phillips",
          "Mukasa",
          "Rashford",
          "Antony",
          "Collyer",
          "Fitzgerald",
          "J.Fletcher",
          "Kone",
          "Moorhouse",
          "Antoñito C.",
          "Hayden",
          "Kuol",
          "White",
          "Seung soo",
          "Dominguez",
          "O'Brien",
          "Da Silva Moreira",
          "Stamenic",
          "Aleksić",
          "Mundle",
          "Poveda",
          "Ba",
          "Browne",
          "Ekwah",
          "H.Jones",
          "Matete",
          "Triantis",
          "Son",
          "Maddison",
          "Kulusevski",
          "Bissouma",
          "Solomon",
          "Bryan",
          "Moore",
          "Min-hyeok",
          "Olusesi",
          "Álvarez",
          "Cornet",
          "Earthy",
          "Orford",
          "Guedes",
          "B.Traore",
          "Chirewa",
          "Edozie",
          "Gonzalez",
          "Hodge"
         ],
         "type": "scatter",
         "x": {
          "bdata": "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",
          "dtype": "f8"
         },
         "xaxis": "x",
         "y": {
          "bdata": "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",
          "dtype": "f8"
         },
         "yaxis": "y"
        }
       ],
       "layout": {
        "hovermode": "closest",
        "legend": {
         "title": {
          "text": "position"
         },
         "tracegroupgap": 0
        },
        "template": {
         "data": {
          "bar": [
           {
            "error_x": {
             "color": "#2a3f5f"
            },
            "error_y": {
             "color": "#2a3f5f"
            },
            "marker": {
             "line": {
              "color": "#E5ECF6",
              "width": 0.5
             },
             "pattern": {
              "fillmode": "overlay",
              "size": 10,
              "solidity": 0.2
             }
            },
            "type": "bar"
           }
          ],
          "barpolar": [
           {
            "marker": {
             "line": {
              "color": "#E5ECF6",
              "width": 0.5
             },
             "pattern": {
              "fillmode": "overlay",
              "size": 10,
              "solidity": 0.2
             }
            },
            "type": "barpolar"
           }
          ],
          "carpet": [
           {
            "aaxis": {
             "endlinecolor": "#2a3f5f",
             "gridcolor": "white",
             "linecolor": "white",
             "minorgridcolor": "white",
             "startlinecolor": "#2a3f5f"
            },
            "baxis": {
             "endlinecolor": "#2a3f5f",
             "gridcolor": "white",
             "linecolor": "white",
             "minorgridcolor": "white",
             "startlinecolor": "#2a3f5f"
            },
            "type": "carpet"
           }
          ],
          "choropleth": [
           {
            "colorbar": {
             "outlinewidth": 0,
             "ticks": ""
            },
            "type": "choropleth"
           }
          ],
          "contour": [
           {
            "colorbar": {
             "outlinewidth": 0,
             "ticks": ""
            },
            "colorscale": [
             [
              0,
              "#0d0887"
             ],
             [
              0.1111111111111111,
              "#46039f"
             ],
             [
              0.2222222222222222,
              "#7201a8"
             ],
             [
              0.3333333333333333,
              "#9c179e"
             ],
             [
              0.4444444444444444,
              "#bd3786"
             ],
             [
              0.5555555555555556,
              "#d8576b"
             ],
             [
              0.6666666666666666,
              "#ed7953"
             ],
             [
              0.7777777777777778,
              "#fb9f3a"
             ],
             [
              0.8888888888888888,
              "#fdca26"
             ],
             [
              1,
              "#f0f921"
             ]
            ],
            "type": "contour"
           }
          ],
          "contourcarpet": [
           {
            "colorbar": {
             "outlinewidth": 0,
             "ticks": ""
            },
            "type": "contourcarpet"
           }
          ],
          "heatmap": [
           {
            "colorbar": {
             "outlinewidth": 0,
             "ticks": ""
            },
            "colorscale": [
             [
              0,
              "#0d0887"
             ],
             [
              0.1111111111111111,
              "#46039f"
             ],
             [
              0.2222222222222222,
              "#7201a8"
             ],
             [
              0.3333333333333333,
              "#9c179e"
             ],
             [
              0.4444444444444444,
              "#bd3786"
             ],
             [
              0.5555555555555556,
              "#d8576b"
             ],
             [
              0.6666666666666666,
              "#ed7953"
             ],
             [
              0.7777777777777778,
              "#fb9f3a"
             ],
             [
              0.8888888888888888,
              "#fdca26"
             ],
             [
              1,
              "#f0f921"
             ]
            ],
            "type": "heatmap"
           }
          ],
          "histogram": [
           {
            "marker": {
             "pattern": {
              "fillmode": "overlay",
              "size": 10,
              "solidity": 0.2
             }
            },
            "type": "histogram"
           }
          ],
          "histogram2d": [
           {
            "colorbar": {
             "outlinewidth": 0,
             "ticks": ""
            },
            "colorscale": [
             [
              0,
              "#0d0887"
             ],
             [
              0.1111111111111111,
              "#46039f"
             ],
             [
              0.2222222222222222,
              "#7201a8"
             ],
             [
              0.3333333333333333,
              "#9c179e"
             ],
             [
              0.4444444444444444,
              "#bd3786"
             ],
             [
              0.5555555555555556,
              "#d8576b"
             ],
             [
              0.6666666666666666,
              "#ed7953"
             ],
             [
              0.7777777777777778,
              "#fb9f3a"
             ],
             [
              0.8888888888888888,
              "#fdca26"
             ],
             [
              1,
              "#f0f921"
             ]
            ],
            "type": "histogram2d"
           }
          ],
          "histogram2dcontour": [
           {
            "colorbar": {
             "outlinewidth": 0,
             "ticks": ""
            },
            "colorscale": [
             [
              0,
              "#0d0887"
             ],
             [
              0.1111111111111111,
              "#46039f"
             ],
             [
              0.2222222222222222,
              "#7201a8"
             ],
             [
              0.3333333333333333,
              "#9c179e"
             ],
             [
              0.4444444444444444,
              "#bd3786"
             ],
             [
              0.5555555555555556,
              "#d8576b"
             ],
             [
              0.6666666666666666,
              "#ed7953"
             ],
             [
              0.7777777777777778,
              "#fb9f3a"
             ],
             [
              0.8888888888888888,
              "#fdca26"
             ],
             [
              1,
              "#f0f921"
             ]
            ],
            "type": "histogram2dcontour"
           }
          ],
          "mesh3d": [
           {
            "colorbar": {
             "outlinewidth": 0,
             "ticks": ""
            },
            "type": "mesh3d"
           }
          ],
          "parcoords": [
           {
            "line": {
             "colorbar": {
              "outlinewidth": 0,
              "ticks": ""
             }
            },
            "type": "parcoords"
           }
          ],
          "pie": [
           {
            "automargin": true,
            "type": "pie"
           }
          ],
          "scatter": [
           {
            "fillpattern": {
             "fillmode": "overlay",
             "size": 10,
             "solidity": 0.2
            },
            "type": "scatter"
           }
          ],
          "scatter3d": [
           {
            "line": {
             "colorbar": {
              "outlinewidth": 0,
              "ticks": ""
             }
            },
            "marker": {
             "colorbar": {
              "outlinewidth": 0,
              "ticks": ""
             }
            },
            "type": "scatter3d"
           }
          ],
          "scattercarpet": [
           {
            "marker": {
             "colorbar": {
              "outlinewidth": 0,
              "ticks": ""
             }
            },
            "type": "scattercarpet"
           }
          ],
          "scattergeo": [
           {
            "marker": {
             "colorbar": {
              "outlinewidth": 0,
              "ticks": ""
             }
            },
            "type": "scattergeo"
           }
          ],
          "scattergl": [
           {
            "marker": {
             "colorbar": {
              "outlinewidth": 0,
              "ticks": ""
             }
            },
            "type": "scattergl"
           }
          ],
          "scattermap": [
           {
            "marker": {
             "colorbar": {
              "outlinewidth": 0,
              "ticks": ""
             }
            },
            "type": "scattermap"
           }
          ],
          "scattermapbox": [
           {
            "marker": {
             "colorbar": {
              "outlinewidth": 0,
              "ticks": ""
             }
            },
            "type": "scattermapbox"
           }
          ],
          "scatterpolar": [
           {
            "marker": {
             "colorbar": {
              "outlinewidth": 0,
              "ticks": ""
             }
            },
            "type": "scatterpolar"
           }
          ],
          "scatterpolargl": [
           {
            "marker": {
             "colorbar": {
              "outlinewidth": 0,
              "ticks": ""
             }
            },
            "type": "scatterpolargl"
           }
          ],
          "scatterternary": [
           {
            "marker": {
             "colorbar": {
              "outlinewidth": 0,
              "ticks": ""
             }
            },
            "type": "scatterternary"
           }
          ],
          "surface": [
           {
            "colorbar": {
             "outlinewidth": 0,
             "ticks": ""
            },
            "colorscale": [
             [
              0,
              "#0d0887"
             ],
             [
              0.1111111111111111,
              "#46039f"
             ],
             [
              0.2222222222222222,
              "#7201a8"
             ],
             [
              0.3333333333333333,
              "#9c179e"
             ],
             [
              0.4444444444444444,
              "#bd3786"
             ],
             [
              0.5555555555555556,
              "#d8576b"
             ],
             [
              0.6666666666666666,
              "#ed7953"
             ],
             [
              0.7777777777777778,
              "#fb9f3a"
             ],
             [
              0.8888888888888888,
              "#fdca26"
             ],
             [
              1,
              "#f0f921"
             ]
            ],
            "type": "surface"
           }
          ],
          "table": [
           {
            "cells": {
             "fill": {
              "color": "#EBF0F8"
             },
             "line": {
              "color": "white"
             }
            },
            "header": {
             "fill": {
              "color": "#C8D4E3"
             },
             "line": {
              "color": "white"
             }
            },
            "type": "table"
           }
          ]
         },
         "layout": {
          "annotationdefaults": {
           "arrowcolor": "#2a3f5f",
           "arrowhead": 0,
           "arrowwidth": 1
          },
          "autotypenumbers": "strict",
          "coloraxis": {
           "colorbar": {
            "outlinewidth": 0,
            "ticks": ""
           }
          },
          "colorscale": {
           "diverging": [
            [
             0,
             "#8e0152"
            ],
            [
             0.1,
             "#c51b7d"
            ],
            [
             0.2,
             "#de77ae"
            ],
            [
             0.3,
             "#f1b6da"
            ],
            [
             0.4,
             "#fde0ef"
            ],
            [
             0.5,
             "#f7f7f7"
            ],
            [
             0.6,
             "#e6f5d0"
            ],
            [
             0.7,
             "#b8e186"
            ],
            [
             0.8,
             "#7fbc41"
            ],
            [
             0.9,
             "#4d9221"
            ],
            [
             1,
             "#276419"
            ]
           ],
           "sequential": [
            [
             0,
             "#0d0887"
            ],
            [
             0.1111111111111111,
             "#46039f"
            ],
            [
             0.2222222222222222,
             "#7201a8"
            ],
            [
             0.3333333333333333,
             "#9c179e"
            ],
            [
             0.4444444444444444,
             "#bd3786"
            ],
            [
             0.5555555555555556,
             "#d8576b"
            ],
            [
             0.6666666666666666,
             "#ed7953"
            ],
            [
             0.7777777777777778,
             "#fb9f3a"
            ],
            [
             0.8888888888888888,
             "#fdca26"
            ],
            [
             1,
             "#f0f921"
            ]
           ],
           "sequentialminus": [
            [
             0,
             "#0d0887"
            ],
            [
             0.1111111111111111,
             "#46039f"
            ],
            [
             0.2222222222222222,
             "#7201a8"
            ],
            [
             0.3333333333333333,
             "#9c179e"
            ],
            [
             0.4444444444444444,
             "#bd3786"
            ],
            [
             0.5555555555555556,
             "#d8576b"
            ],
            [
             0.6666666666666666,
             "#ed7953"
            ],
            [
             0.7777777777777778,
             "#fb9f3a"
            ],
            [
             0.8888888888888888,
             "#fdca26"
            ],
            [
             1,
             "#f0f921"
            ]
           ]
          },
          "colorway": [
           "#636efa",
           "#EF553B",
           "#00cc96",
           "#ab63fa",
           "#FFA15A",
           "#19d3f3",
           "#FF6692",
           "#B6E880",
           "#FF97FF",
           "#FECB52"
          ],
          "font": {
           "color": "#2a3f5f"
          },
          "geo": {
           "bgcolor": "white",
           "lakecolor": "white",
           "landcolor": "#E5ECF6",
           "showlakes": true,
           "showland": true,
           "subunitcolor": "white"
          },
          "hoverlabel": {
           "align": "left"
          },
          "hovermode": "closest",
          "mapbox": {
           "style": "light"
          },
          "paper_bgcolor": "white",
          "plot_bgcolor": "#E5ECF6",
          "polar": {
           "angularaxis": {
            "gridcolor": "white",
            "linecolor": "white",
            "ticks": ""
           },
           "bgcolor": "#E5ECF6",
           "radialaxis": {
            "gridcolor": "white",
            "linecolor": "white",
            "ticks": ""
           }
          },
          "scene": {
           "xaxis": {
            "backgroundcolor": "#E5ECF6",
            "gridcolor": "white",
            "gridwidth": 2,
            "linecolor": "white",
            "showbackground": true,
            "ticks": "",
            "zerolinecolor": "white"
           },
           "yaxis": {
            "backgroundcolor": "#E5ECF6",
            "gridcolor": "white",
            "gridwidth": 2,
            "linecolor": "white",
            "showbackground": true,
            "ticks": "",
            "zerolinecolor": "white"
           },
           "zaxis": {
            "backgroundcolor": "#E5ECF6",
            "gridcolor": "white",
            "gridwidth": 2,
            "linecolor": "white",
            "showbackground": true,
            "ticks": "",
            "zerolinecolor": "white"
           }
          },
          "shapedefaults": {
           "line": {
            "color": "#2a3f5f"
           }
          },
          "ternary": {
           "aaxis": {
            "gridcolor": "white",
            "linecolor": "white",
            "ticks": ""
           },
           "baxis": {
            "gridcolor": "white",
            "linecolor": "white",
            "ticks": ""
           },
           "bgcolor": "#E5ECF6",
           "caxis": {
            "gridcolor": "white",
            "linecolor": "white",
            "ticks": ""
           }
          },
          "title": {
           "x": 0.05
          },
          "xaxis": {
           "automargin": true,
           "gridcolor": "white",
           "linecolor": "white",
           "ticks": "",
           "title": {
            "standoff": 15
           },
           "zerolinecolor": "white",
           "zerolinewidth": 2
          },
          "yaxis": {
           "automargin": true,
           "gridcolor": "white",
           "linecolor": "white",
           "ticks": "",
           "title": {
            "standoff": 15
           },
           "zerolinecolor": "white",
           "zerolinewidth": 2
          }
         }
        },
        "title": {
         "text": "ict_index vs points_per_cost (Hover pour nom du joueur)"
        },
        "xaxis": {
         "anchor": "y",
         "domain": [
          0,
          1
         ],
         "title": {
          "text": "ict_index"
         }
        },
        "yaxis": {
         "anchor": "x",
         "domain": [
          0,
          1
         ],
         "title": {
          "text": "points_per_cost"
         }
        }
       }
      }
     },
     "metadata": {},
     "output_type": "display_data"
    }
   ],
   "source": [
    "import plotly.express as px\n",
    "\n",
    "fig = px.scatter(\n",
    "    df_players[df_players['position'] == 'MID'],  # Filtrer pour éviter les joueurs sans minutes\n",
    "    x='ict_index',\n",
    "    y='points_per_cost',\n",
    "    text='web_name',  # Affiche le nom au survol\n",
    "    color='position', # Optionnel, couleur par poste\n",
    "    title='ict_index vs points_per_cost (Hover pour nom du joueur)'\n",
    ")\n",
    "\n",
    "fig.update_traces(marker=dict(size=10, opacity=0.7),\n",
    "                  selector=dict(mode='markers'))\n",
    "fig.update_layout(hovermode='closest')\n",
    "fig.show()"
   ]
  },
  {
   "cell_type": "code",
   "execution_count": 9,
   "id": "cc23512f",
   "metadata": {},
   "outputs": [
    {
     "data": {
      "image/png": "[encoded data removed]",
      "text/plain": [
       "<Figure size 832.5x500 with 1 Axes>"
      ]
     },
     "metadata": {},
     "output_type": "display_data"
    }
   ],
   "source": [
    "sns.lmplot(data=df_players, x='expected_goal_involvements', y='goal_involvements', hue='position', aspect=1.5)\n",
    "plt.title('Relation linéaire entre expected_goal_involvements et goal_involvements')\n",
    "plt.show()\n"
   ]
  },
  {
   "cell_type": "code",
   "execution_count": 10,
   "id": "60c5829e",
   "metadata": {},
   "outputs": [
    {
     "data": {
      "application/vnd.plotly.v1+json": {
       "config": {
        "plotlyServerURL": "https://plot.ly"
       },
       "data": [
        {
         "hovertemplate": "position=DEF<br>expected_goal_involvements=%{x}<br>goal_involvements=%{y}<br>web_name=%{text}<extra></extra>",
         "legendgroup": "DEF",
         "marker": {
          "color": "#636efa",
          "symbol": "circle"
         },
         "mode": "markers+text",
         "name": "DEF",
         "orientation": "v",
         "showlegend": true,
         "text": [
          "Guéhi",
          "Alderete",
          "Senesi",
          "Rodon",
          "Mitchell",
          "Chalobah",
          "Lacroix",
          "Richards",
          "Burn",
          "Van de Ven",
          "Calafiori",
          "Livramento",
          "J.Timber",
          "Truffert",
          "Mukiele",
          "Romero",
          "Hume",
          "Gudmundsson",
          "Cash",
          "Diakité",
          "Andersen",
          "Struijk",
          "Muñoz",
          "Mings",
          "Ekdal",
          "Tarkowski",
          "Keane",
          "Bogle",
          "Spence",
          "Ballard",
          "Virgil",
          "Hartman",
          "Trippier",
          "Konaté",
          "Schär",
          "Gabriel",
          "Diouf",
          "Van den Berg",
          "Pedro Porro",
          "Kayode",
          "Bassey",
          "De Ligt",
          "Estève",
          "Reinildo",
          "Botman",
          "Maguire",
          "Tete",
          "Digne",
          "Rúben",
          "Cucurella",
          "Collins",
          "O'Brien",
          "Lewis-Potter",
          "Dunk",
          "Yoro",
          "N.Williams",
          "O’Reilly",
          "Saliba",
          "Matheus N.",
          "Lewis",
          "James",
          "Bogarde",
          "Mavropanos",
          "De Cuyper",
          "Agbadou",
          "Konsa",
          "Van Hecke",
          "Hill",
          "Tosin",
          "Acheampong",
          "R.Gomes",
          "Walker",
          "Gvardiol",
          "Kilman",
          "Walker-Peters",
          "Gusto",
          "Mosquera",
          "Khusanov",
          "Kerkez",
          "Dorgu",
          "Krejčí",
          "Shaw",
          "Mazraoui",
          "H.Bueno",
          "Smith",
          "Aït-Nouri",
          "Milenković",
          "Hall",
          "Stones",
          "Thiaw",
          "Dalot",
          "Veltman",
          "F.Kadıoğlu",
          "Ajer",
          "Møller Wolfe",
          "Murillo",
          "Aina",
          "S.Bueno",
          "White",
          "Frimpong",
          "Hickey",
          "Toti",
          "Udogie",
          "Henry",
          "Morato",
          "Tchatchoua",
          "Milosavljević",
          "Zinchenko",
          "Sonne",
          "Worrall",
          "Aké",
          "Castagne",
          "N.Aguerd",
          "Mosquera",
          "Pau",
          "Fofana",
          "J.Cuenca",
          "Geertruida",
          "Bradley",
          "Hoever",
          "Seelt",
          "Justin",
          "Danso",
          "Maatsen",
          "Coppola",
          "Hato",
          "Mykolenko",
          "Robinson",
          "Gomez",
          "Lewis-Skelly",
          "Heaven",
          "Byram",
          "Clyne",
          "Masuaku",
          "Soler",
          "Wan-Bissaka",
          "Todibo",
          "Lascelles",
          "Coleman",
          "Lindelöf",
          "Robertson",
          "Pinnock",
          "Doherty",
          "Savona",
          "A.Jimenez",
          "Kiwior",
          "Clarke",
          "Kacurri",
          "Nichols",
          "Hincapie",
          "A.García",
          "Alex Moreno",
          "Sousa",
          "Yasin",
          "Rowe",
          "Patterson",
          "Roberts",
          "Delcroix",
          "Dodgson",
          "Humphreys",
          "Jordan",
          "Lucas Pires",
          "Sambo",
          "Tuanzebe",
          "Zabarnyi",
          "Akinmboni",
          "Bevan",
          "J.Araujo",
          "Mepham",
          "Roerslev",
          "Arthur",
          "Fredrick",
          "Ji-soo",
          "Meghoma",
          "Boscagli",
          "Estupiñan",
          "Lamptey",
          "Webster",
          "Cashin",
          "Slater",
          "Tasker",
          "Colwill",
          "M.Sarr",
          "Anselmino",
          "Sosa",
          "Chadi Riad",
          "Holding",
          "Kporha",
          "Canvot",
          "Branthwaite",
          "Patterson",
          "Dixon",
          "Welch",
          "Aznou",
          "Campbell",
          "Diop",
          "Amissah",
          "Bijol",
          "Bornauw",
          "Schmidt",
          "Tsimikas",
          "Nallo",
          "R.Williams",
          "Ramsay",
          "Leoni",
          "Akanji",
          "Vitor Reis",
          "Mfuni",
          "Martinez",
          "D.Leon",
          "Amass",
          "Fredricson",
          "Malacia",
          "Krafth",
          "A.Murphy",
          "Ashby",
          "Pivas",
          "Targett",
          "David Carmo",
          "Jair Cunha",
          "O.Richards",
          "Abbott",
          "Boly",
          "Cuiabano",
          "Alese",
          "Anderson",
          "Cirkin",
          "Hjelde",
          "Huggins",
          "Johnson",
          "O'Nien",
          "Pembele",
          "Davies",
          "Dragusin",
          "Phillips",
          "Takai",
          "Vuskovic",
          "Igor",
          "Emerson",
          "Scarles",
          "Casey",
          "Meupiyou",
          "Pedro Lima",
          "Pond",
          "B.Badiashile"
         ],
         "type": "scatter",
         "x": {
          "bdata": "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",
          "dtype": "f8"
         },
         "xaxis": "x",
         "y": {
          "bdata": "AAAAAAAACEAAAAAAAAAAQAAAAAAAAABAAAAAAAAA8D8AAAAAAADwPwAAAAAAAAhAAAAAAAAA8D8AAAAAAAAAAAAAAAAAAAAAAAAAAAAA8D8AAAAAAAAIQAAAAAAAAPA/AAAAAAAACEAAAAAAAAAAAAAAAAAAAAAAAAAAAAAA8D8AAAAAAAAAAAAAAAAAAAAAAAAAAAAA8D8AAAAAAAAAAAAAAAAAAAAAAAAAAAAAAAAAAAAAAADwPwAAAAAAAAAAAAAAAAAAAAAAAAAAAAAAAAAAAAAAAAAAAAAAAAAA8D8AAAAAAAAAAAAAAAAAAPA/AAAAAAAAAAAAAAAAAADwPwAAAAAAAAAAAAAAAAAAAAAAAAAAAAAAAAAAAAAAAAAAAAAAAAAACEAAAAAAAAAAAAAAAAAAAAAAAAAAAAAAAAAAAAAAAAAAAAAAAAAAAAAAAAAAAAAAAAAAAAAAAAAAAAAAAAAAAAAAAAAAAAAA8D8AAAAAAAAAAAAAAAAAAAAAAAAAAAAAAAAAAAAAAADwPwAAAAAAAAAAAAAAAAAAAAAAAAAAAAAAAAAAAAAAAPA/AAAAAAAA8D8AAAAAAADwPwAAAAAAAAAAAAAAAAAAAAAAAAAAAAAAQAAAAAAAAPA/AAAAAAAAAEAAAAAAAAAAAAAAAAAAAAAAAAAAAAAA8D8AAAAAAAAAAAAAAAAAAAAAAAAAAAAAAAAAAAAAAAAAAAAAAAAAAAAAAAAAAAAAAAAAAAAAAADwPwAAAAAAAAAAAAAAAAAAAAAAAAAAAAAAAAAAAAAAAAAAAAAAAAAAAAAAAAAAAAAAAAAAAAAAAAAAAAAAAAAAAAAAAAAAAADwPwAAAAAAAPA/AAAAAAAAAAAAAAAAAAAAAAAAAAAAAAAAAAAAAAAAAAAAAAAAAAAAAAAAAAAAAAAAAAAAAAAAAAAAAAAAAAAAAAAAAAAAAAAAAAAAAAAA8D8AAAAAAAAAAAAAAAAAAAAAAAAAAAAA8D8AAAAAAADwPwAAAAAAAAAAAAAAAAAAAAAAAAAAAAAAAAAAAAAAAAAAAAAAAAAA8D8AAAAAAAAAAAAAAAAAAAAAAAAAAAAAAAAAAAAAAAAAAAAAAAAAAAAAAAAAAAAAAAAAAAAAAAAAAAAAAAAAAAAAAAAAAAAAAAAAAAAAAAAAAAAAAAAAAAAAAAAAAAAAAAAAAAAAAAAAAAAAAAAAAAAAAAAAAAAAAAAAAAAAAAAAAAAAAAAAAAAAAAAAAAAAAAAAAAAAAAAAAAAAAAAAAAAAAAAAAAAAAAAAAAAAAAAAAAAAAAAAAAAAAAAAAAAAAAAAAAAAAAAAAAAAAAAAAAAAAAAAAAAAAAAAAAAAAAAAAAAAAAAAAAAAAAAAAAAAAAAAAAAAAAAAAAAAAAAAAAAAAAAAAAAAAAAAAAAAAAAAAAAAAAAAAAAAAAAAAAAAAAAAAAAAAAAAAAAAAAAAAAAAAAAAAAAAAAAAAAAAAAAAAAAAAAAAAAAAAAAAAAAAAAAAAAAAAAAAAAAAAAAAAAAAAAAAAAAAAAAAAAAAAAAAAAAAAAAAAAAAAAAAAAAAAAAAAAAAAAAAAAAAAAAAAAAAAAAAAAAAAAAAAAAAAAAAAAAAAAAAAAAAAAAAAAAAAAAAAAAAAAAAAAAAAAAAAAAAAAAAAAAAAAAAAAAAAAAAAAAAAAAAAAAAAAAAAAAAAAAAAAAAAAAAAAAAAAAAAAAAAAAAAAAAAAAAAAAAAAAAAAAAAAAAAAAAAAAAAAAAAAAAAAAAAAAAAAAAAAAAAAAAAAAAAAAAAAAAAAAAAAAAAAAAAAAAAAAAAAAAAAAAAAAAAAAAAAAAAAAAAAAAAAAAAAAAAAAAAAAAAAAAAAAAAAAAAAAAAAAAAAAAAAAAAAAAAAAAAAAAAAAAAAAAAAAAAAAAAAAAAAAAAAAAAAAAAAAAAAAAAAAAAAAAAAAAAAAAAAAAAAAAAAAAAAAAAAAAAAAAAAAAAAAAAAAAAAAAAAAAAAAAAAAAAAAAAAAAAAAAAAAAAAAAAAAAAAAAAAAAAAAAAAAAAAAAAAAAAAAAAAAAAAAAAAAAAAAAAAAAAAAAAAAAAAAAAAAAAAAAAAAAAAAAAAAAAAAAAAAAAAAAAAAAAAAAAAAAAAAAAAAAAAAAAAAAAAAAAAAAAAAAAAAAAAAAAAAAAAAAAAAAAAAAAAAAAAAAAAAAAAAAAAAAAAAAAAAAAAAAAAAAAAAAAAAAAAAAAAAAAAAAAAAAAAAAAAAAAAAAAAAAAAAAAAAAAAAAAAAAAAAAAAAAAAAAAAAAAAAAAAAAAAAAAAAAAAAAAAAAAAAAAAAAAAAAAAAAAAAAAAAAAAAAAAAAAAAAAAAAAAAAAAAAAAAAAAAAAAAAAAAAAAAAAAAAAAAAAAAAAAAAAAAAAAAAAAAAAAAAAAAAAAAAAAAAAAAAAAAAAAAAAAAAAAAAAAAAAAAAAAAAAAAAAAAAAAAAAAAAAAAAAAAAAAAAAAAAAAAAAAAAAAAAAAAAAAAAAAAAAAAAAAAAAAAAAAAAAAAAAAAAAAAAAAAAAAAAAAAAAAAAAAAAAAAAAAAAAAAAAAAAAAAAAAAAAAAAAAAAAAAAAA==",
          "dtype": "f8"
         },
         "yaxis": "y"
        },
        {
         "hovertemplate": "position=GKP<br>expected_goal_involvements=%{x}<br>goal_involvements=%{y}<br>web_name=%{text}<extra></extra>",
         "legendgroup": "GKP",
         "marker": {
          "color": "#EF553B",
          "symbol": "circle"
         },
         "mode": "markers+text",
         "name": "GKP",
         "orientation": "v",
         "showlegend": true,
         "text": [
          "Roefs",
          "Pope",
          "Vicario",
          "Petrović",
          "Henderson",
          "Raya",
          "Pickford",
          "Dúbravka",
          "Kelleher",
          "A.Becker",
          "Sánchez",
          "Leno",
          "Perri",
          "Sels",
          "Trafford",
          "Verbruggen",
          "Bayindir",
          "Martinez",
          "Hermansen",
          "Darlow",
          "Donnarumma",
          "M.Bizot",
          "José Sá",
          "Johnstone",
          "Areola",
          "Jörgensen",
          "Arrizabalaga",
          "Hein",
          "Setford",
          "Gauci",
          "Marschall",
          "Wright",
          "Proctor",
          "Weiss",
          "Green",
          "Hladký",
          "Neto",
          "Dennis",
          "McKenna",
          "Paulsen",
          "Balcombe",
          "Cox",
          "Eyestone",
          "Valdimarsson",
          "Steele",
          "McGill",
          "Rushworth",
          "Scherpen",
          "Penders",
          "Slonina",
          "Benitez",
          "Matthews",
          "Travers",
          "Tyrer",
          "King",
          "Benda",
          "Lecomte",
          "Meslier",
          "Cairns",
          "Mamardashvili",
          "Pécsi",
          "Woodman",
          "Ederson M.",
          "Ortega Moreno",
          "Bettinelli",
          "Onana",
          "Harrison",
          "Heaton",
          "Mee",
          "Lammens",
          "Gillespie",
          "Odysseas",
          "Ramsdale",
          "C.Miguel",
          "Turner",
          "Gunn",
          "John",
          "Patterson",
          "Moore",
          "Nna Noukeu",
          "Austin",
          "Kinsky",
          "Foderingham",
          "Hegyi",
          "Fabianski",
          "Bentley"
         ],
         "type": "scatter",
         "x": {
          "bdata": "exSuR+F6hD8AAAAAAAAAAHsUrkfheoQ/AAAAAAAAAAC4HoXrUbieP7gehetRuJ4/exSuR+F6pD8AAAAAAAAAAHsUrkfheoQ/exSuR+F6hD8AAAAAAAAAAAAAAAAAAAAAAAAAAAAAAAAAAAAAAAAAAAAAAAAAAAAAexSuR+F6hD+amZmZmZmpP3sUrkfheoQ/exSuR+F6hD8AAAAAAAAAAAAAAAAAAAAAAAAAAAAAAAC4HoXrUbiePwAAAAAAAAAAAAAAAAAAAAAAAAAAAAAAAAAAAAAAAAAAAAAAAAAAAAAAAAAAAAAAAAAAAAAAAAAAAAAAAAAAAAAAAAAAAAAAAAAAAAAAAAAAAAAAAAAAAAAAAAAAAAAAAAAAAAAAAAAAAAAAAAAAAAAAAAAAAAAAAAAAAAAAAAAAAAAAAAAAAAAAAAAAAAAAAAAAAAAAAAAAAAAAAAAAAAAAAAAAAAAAAAAAAAAAAAAAAAAAAAAAAAAAAAAAAAAAAAAAAAAAAAAAAAAAAAAAAAAAAAAAAAAAAAAAAAAAAAAAAAAAAAAAAAAAAAAAAAAAAAAAAAAAAAAAAAAAAAAAAAAAAAAAAAAAAAAAAAAAAAAAAAAAAAAAAAAAAAAAAAAAAAAAAAAAAAAAAAAAAAAAAAAAAAAAAAAAAAAAAAAAAAAAAAAAAAAAAAAAAAAAAAAAAAAAAAAAAAAAAAAAAAAAAAAAAAAAAAAAAAAAAAAAAAAAAAAAAAAAAAAAAAAAAAAAAAAAAAAAAAAAAAAAAAAAAAAAAAAAAAAAAAAAAAAAAAAAAAAAAAAAAAAAAAAAAAAAAAAAAAAAAAAAAAAAAAAAAAAAAAAAAAAAAAAAAAAAAAAAAAAAAAAAAAAAAAAAAAAAAAAAAAAAAAAAAAAAAAAAAAAAAAAAAAAAAA==",
          "dtype": "f8"
         },
         "xaxis": "x",
         "y": {
          "bdata": "AAAAAAAAAAAAAAAAAADwPwAAAAAAAAAAAAAAAAAAAAAAAAAAAAAAAAAAAAAAAAAAAAAAAAAAAAAAAAAAAAAAAAAAAAAAAAAAAAAAAAAAAAAAAAAAAAAAAAAAAAAAAAAAAAAAAAAAAAAAAAAAAAAAAAAAAAAAAAAAAAAAAAAAAAAAAAAAAAAAAAAAAAAAAAAAAAAAAAAAAAAAAAAAAAAAAAAAAAAAAAAAAAAAAAAAAAAAAAAAAAAAAAAAAAAAAAAAAAAAAAAAAAAAAAAAAAAAAAAAAAAAAAAAAAAAAAAAAAAAAAAAAAAAAAAAAAAAAAAAAAAAAAAAAAAAAAAAAAAAAAAAAAAAAAAAAAAAAAAAAAAAAAAAAAAAAAAAAAAAAAAAAAAAAAAAAAAAAAAAAAAAAAAAAAAAAAAAAAAAAAAAAAAAAAAAAAAAAAAAAAAAAAAAAAAAAAAAAAAAAAAAAAAAAAAAAAAAAAAAAAAAAAAAAAAAAAAAAAAAAAAAAAAAAAAAAAAAAAAAAAAAAAAAAAAAAAAAAAAAAAAAAAAAAAAAAAAAAAAAAAAAAAAAAAAAAAAAAAAAAAAAAAAAAAAAAAAAAAAAAAAAAAAAAAAAAAAAAAAAAAAAAAAAAAAAAAAAAAAAAAAAAAAAAAAAAAAAAAAAAAAAAAAAAAAAAAAAAAAAAAAAAAAAAAAAAAAAAAAAAAAAAAAAAAAAAAAAAAAAAAAAAAAAAAAAAAAAAAAAAAAAAAAAAAAAAAAAAAAAAAAAAAAAAAAAAAAAAAAAAAAAAAAAAAAAAAAAAAAAAAAAAAAAAAAAAAAAAAAAAAAAAAAAAAAAAAAAAAAAAAAAAAAAAAAAAAAAAAAAAAAAAAAAAAAAAAAAAAAAAAAAAAAAAAAAAAAAAAAAAAAAAAAAAAAAAAAAAA==",
          "dtype": "f8"
         },
         "yaxis": "y"
        },
        {
         "hovertemplate": "position=MID<br>expected_goal_involvements=%{x}<br>goal_involvements=%{y}<br>web_name=%{text}<extra></extra>",
         "legendgroup": "MID",
         "marker": {
          "color": "#00cc96",
          "symbol": "circle"
         },
         "mode": "markers+text",
         "name": "MID",
         "orientation": "v",
         "showlegend": true,
         "text": [
          "Anthony",
          "Caicedo",
          "Semenyo",
          "Stach",
          "Cullen",
          "Gravenberch",
          "Xhaka",
          "Enzo",
          "Garner",
          "Minteh",
          "Reijnders",
          "Zubimendi",
          "Longstaff",
          "Tavernier",
          "Ndiaye",
          "Yarmoliuk",
          "L.Paquetá",
          "Sarr",
          "Iwobi",
          "Doku",
          "Scott",
          "Henderson",
          "Bergvall",
          "Kudus",
          "Szoboszlai",
          "Anderson",
          "J.Palhinha",
          "Dewsbury-Hall",
          "P.M.Sarr",
          "Talbi",
          "Gana",
          "Ayari",
          "E.Le Fée",
          "Grealish",
          "Ndoye",
          "Gakpo",
          "Brooks",
          "Adams",
          "Kamada",
          "Wharton",
          "O.Dango",
          "Wilson",
          "Gruda",
          "Mitoma",
          "Rice",
          "Damsgaard",
          "Johnson",
          "Hudson-Odoi",
          "B.Fernandes",
          "Lukić",
          "Sadiki",
          "Mbeumo",
          "Tonali",
          "Aaronson",
          "Georginio",
          "Neto",
          "Tchaouna",
          "Ampadu",
          "Schade",
          "Berge",
          "Hannibal",
          "Okafor",
          "Adingra",
          "Hughes",
          "Jensen",
          "Carvalho",
          "Wieffer",
          "McGinn",
          "Gomes",
          "Sessegnon",
          "M.Salah",
          "Sangaré",
          "Bernardo",
          "Chiesa",
          "O'Riley",
          "Bobb",
          "Diarra",
          "Bruno G.",
          "Foden",
          "J.Murphy",
          "Munetsi",
          "Hee Chan",
          "Mac Allister",
          "Casemiro",
          "Summerville",
          "Onyeka",
          "Ward-Prowse",
          "Gibbs-White",
          "Eze",
          "Bruun Larsen",
          "André",
          "Estêvão",
          "Kamara",
          "Laurent",
          "Ugarte",
          "Milner",
          "King",
          "Ngumoha",
          "Amad",
          "Rogers",
          "Martinelli",
          "Smith Rowe",
          "Bentancur",
          "C.Jones",
          "Baleba",
          "Florentino",
          "Rodrigo",
          "Devenny",
          "Barnes",
          "Wirtz",
          "Madueke",
          "Lerma",
          "Iroegbunam",
          "Gruev",
          "Christie",
          "L.Miley",
          "Tielemans",
          "Mount",
          "Merino",
          "N.Gonzalez",
          "J.Arias",
          "Yeremy",
          "James",
          "M.Fernandes",
          "Onana",
          "Tanaka",
          "Ugochukwu",
          "Joelinton",
          "Elanga",
          "Malen",
          "Bellegarde",
          "Odobert",
          "Gnonto",
          "Cherki",
          "Fer López",
          "Andrey Santos",
          "Dowman",
          "Marmoush",
          "Palmer",
          "Saka",
          "Gomez",
          "Endo",
          "Trossard",
          "Ødegaard",
          "Cunha",
          "Douglas Luiz",
          "Xavi",
          "Guessand",
          "Buendía",
          "Nwaneri",
          "Harrison",
          "Adli",
          "H.Traorè",
          "Mainoo",
          "Rigg",
          "Gray",
          "Willock",
          "Tel",
          "Hinshelwood",
          "McAtee",
          "Alcaraz",
          "Kluivert",
          "Souček",
          "Irving",
          "Bakwa",
          "Gittens",
          "Yates",
          "George",
          "Savinho",
          "Adama",
          "Elliott",
          "Hutchinson",
          "G.Rodriguez",
          "L.Guilherme",
          "Cairney",
          "Janelt",
          "S.Magassa",
          "J.Ramsey",
          "Potts",
          "Burrowes",
          "Winterburn",
          "Armstrong",
          "Buonanotte",
          "Esse",
          "Edwards",
          "Cook",
          "Neil",
          "Lavia",
          "Röhl",
          "Gannon-Doak",
          "Milambo",
          "Roberts",
          "Jota",
          "Dibling",
          "Traoré",
          "McNeil",
          "Sancho",
          "Kevin",
          "Garnacho",
          "Gordon",
          "Fábio Vieira",
          "Nørgaard",
          "Kabia",
          "Sambi",
          "Harriman-Annous",
          "Bailey",
          "Iling Jr",
          "Barkley",
          "Barrenechea",
          "Dobbin",
          "Broggio",
          "Dendoncker",
          "Jimoh-Aloba",
          "Young",
          "Benson",
          "Boateng",
          "Churlinov",
          "Koleosho",
          "A.Ramsey",
          "Adewumi",
          "Banel",
          "Trésor",
          "Philip",
          "Sinisterra",
          "Faivre",
          "Sadi",
          "Silcott-Duberry",
          "Rees-Dottin",
          "Nelson",
          "Nunes",
          "Donovan",
          "Konak",
          "Maghoma",
          "Peart-Harris",
          "Trevitt",
          "March",
          "Enciso",
          "Sima",
          "Sarmiento",
          "Watson",
          "Yalcouye",
          "Knight",
          "Mazilu",
          "Moran",
          "Nkunku",
          "Mudryk",
          "D.Essugo",
          "Paez",
          "Doucouré",
          "Agbinone",
          "Ahamada",
          "Ebiowei",
          "J.Rak-Sakyi",
          "M.França",
          "Ozoh",
          "Rodney",
          "Umeh",
          "Cardines",
          "Bates",
          "Ebere",
          "Heath",
          "Metcalfe",
          "Onyango",
          "Andreas",
          "Godo",
          "Harris",
          "Reed",
          "Chukwueze",
          "Greenwood",
          "Ramazani",
          "Crew",
          "Gelhardt",
          "Gyabi",
          "Luis Díaz",
          "Bajcetic",
          "McConnell",
          "Morton",
          "Nyoni",
          "Gündoğan",
          "Kovačić",
          "Echeverri",
          "Nypan",
          "Phillips",
          "Mukasa",
          "Rashford",
          "Antony",
          "Collyer",
          "Fitzgerald",
          "J.Fletcher",
          "Kone",
          "Moorhouse",
          "Antoñito C.",
          "Hayden",
          "Kuol",
          "White",
          "Seung soo",
          "Dominguez",
          "O'Brien",
          "Da Silva Moreira",
          "Stamenic",
          "Aleksić",
          "Mundle",
          "Poveda",
          "Ba",
          "Browne",
          "Ekwah",
          "H.Jones",
          "Matete",
          "Triantis",
          "Son",
          "Maddison",
          "Kulusevski",
          "Bissouma",
          "Solomon",
          "Bryan",
          "Moore",
          "Min-hyeok",
          "Olusesi",
          "Álvarez",
          "Cornet",
          "Earthy",
          "Orford",
          "Guedes",
          "B.Traore",
          "Chirewa",
          "Edozie",
          "Gonzalez",
          "Hodge"
         ],
         "type": "scatter",
         "x": {
          "bdata": "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",
          "dtype": "f8"
         },
         "xaxis": "x",
         "y": {
          "bdata": "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",
          "dtype": "f8"
         },
         "yaxis": "y"
        },
        {
         "hovertemplate": "position=FWD<br>expected_goal_involvements=%{x}<br>goal_involvements=%{y}<br>web_name=%{text}<extra></extra>",
         "legendgroup": "FWD",
         "marker": {
          "color": "#ab63fa",
          "symbol": "circle"
         },
         "mode": "markers+text",
         "name": "FWD",
         "orientation": "v",
         "showlegend": true,
         "text": [
          "Isidor",
          "João Pedro",
          "Thiago",
          "Richarlison",
          "Haaland",
          "Foster",
          "Ekitiké",
          "Bowen",
          "Wood",
          "Calvert-Lewin",
          "Evanilson",
          "Muniz",
          "Gyökeres",
          "Mateta",
          "Mayenda",
          "Welbeck",
          "Beto",
          "Nmecha",
          "Wilson",
          "Osula",
          "Šeško",
          "Kroupi.Jr",
          "Woltemade",
          "Watkins",
          "Füllkrug",
          "Barry",
          "Raúl",
          "Strand Larsen",
          "Nketiah",
          "Igor Jesus",
          "Kalimuendo",
          "Tolu",
          "Delap",
          "Piroe",
          "Flemming",
          "Zirkzee",
          "Marc Guiu",
          "Broja",
          "Tzimas",
          "Brobbey",
          "Isak",
          "Solanke",
          "Kalajdžić",
          "Édouard",
          "Uche",
          "Havertz",
          "G.Jesus",
          "Redmond",
          "Amdouni",
          "Barnes",
          "Obafemi",
          "Enes Ünal",
          "Adu-Adjei",
          "Morgan",
          "Ferguson",
          "Kostoulas",
          "N.Jackson",
          "Marsh",
          "Y.Chermiti",
          "Sherif",
          "Kusi-Asare",
          "Bamford",
          "Mateo Joseph",
          "Gray",
          "Darwin",
          "Danns",
          "Højlund",
          "Obi",
          "Wheatley",
          "Wissa",
          "Neave",
          "Awoniyi",
          "Abdullahi",
          "Luís Hemir",
          "Rusyn",
          "Lankshear",
          "Scarlett",
          "Kolo Muani",
          "Marshall",
          "Fábio Silva",
          "Chiwome",
          "Fraser"
         ],
         "type": "scatter",
         "x": {
          "bdata": "KVyPwvUo9D+uR+F6FK77PzMzMzMzMwFASOF6FK5H/T+uR+F6FK4fQKRwPQrXo/A/hetRuB6F/z/sUbgehevxPwrXo3A9CgdAzczMzMzM9D/2KFyPwvX0P9ejcD0K1+s/MzMzMzMzA0AfhetRuB4NQPYoXI/C9dg/exSuR+F6BkC4HoXrUbgAQFyPwvUoXO8/FK5H4XoU8j/hehSuR+HaP+xRuB6F6/U/cT0K16NwzT8zMzMzMzPTP83MzMzMzPQ/4XoUrkfh2j+4HoXrUbjeP5qZmZmZmdk/UrgehetR6D9mZmZmZmbmP8P1KFyPwtU/rkfhehSu1z8AAAAAAADQP6RwPQrXo9A/exSuR+F61D8pXI/C9Si8Pz0K16NwPeo/uB6F61G4nj8AAAAAAAAAAHsUrkfherQ/AAAAAAAAAACuR+F6FK7XP5qZmZmZmck/exSuR+F6hD8AAAAAAAAAAHsUrkfheoQ/exSuR+F6hD8AAAAAAAAAAAAAAAAAAAAAAAAAAAAAAAAAAAAAAAAAAAAAAAAAAAAAAAAAAAAAAAAAAAAAAAAAAAAAAAAAAAAAAAAAAAAAAAAAAAAAAAAAAAAAAAAAAAAAAAAAAAAAAAAAAAAAAAAAAAAAAAAAAAAAAAAAAAAAAAAAAAAAAAAAAAAAAAAAAAAAAAAAAAAAAAAAAAAAAAAAAAAAAAAAAAAAAAAAAAAAAAAAAAAAAAAAAAAAAAAAAAAAAAAAAAAAAAAAAAAAAAAAAAAAAAAAAAAAAAAAAAAAAAAAAAAAAAAAAAAAAAAAAAAAAAAAAAAAAAAAAAAAAAAAAAAAAAAAAAAAAAAAAAAAAAAAAAAAAAAAAAAAAAAAAAAAAAAAAAAAAAA=",
          "dtype": "f8"
         },
         "xaxis": "x",
         "y": {
          "bdata": "AAAAAAAACEAAAAAAAAAUQAAAAAAAABBAAAAAAAAAEEAAAAAAAAAiQAAAAAAAAABAAAAAAAAAEEAAAAAAAAAAQAAAAAAAAABAAAAAAAAAAEAAAAAAAAAAQAAAAAAAAABAAAAAAAAACEAAAAAAAAAAQAAAAAAAAPA/AAAAAAAAAEAAAAAAAADwPwAAAAAAAPA/AAAAAAAA8D8AAAAAAADwPwAAAAAAAPA/AAAAAAAA8D8AAAAAAADwPwAAAAAAAAAAAAAAAAAAAAAAAAAAAAAAAAAAAAAAAAAAAAAAAAAAAAAAAAAAAADwPwAAAAAAAAAAAAAAAAAAAAAAAAAAAAAAAAAAAAAAAAAAAAAAAAAAAAAAAAAAAAAAAAAAAAAAAAAAAAAAAAAAAAAAAAAAAAAAAAAAAAAAAAAAAAAAAAAAAAAAAAAAAAAAAAAAAAAAAAAAAAAAAAAAAAAAAAAAAAAAAAAAAAAAAAAAAAAAAAAAAAAAAAAAAAAAAAAAAAAAAAAAAAAAAAAAAAAAAAAAAAAAAAAAAAAAAAAAAAAAAAAAAAAAAAAAAAAAAAAAAAAAAAAAAAAAAAAAAAAAAAAAAAAAAAAAAAAAAAAAAAAAAAAAAAAAAAAAAAAAAAAAAAAAAAAAAAAAAAAAAAAAAAAAAAAAAAAAAAAAAAAAAAAAAAAAAAAAAAAAAAAAAAAAAAAAAAAAAAAAAAAAAAAAAAAAAAAAAAAAAAAAAAAAAAAAAAAAAAAAAAAAAAAAAAAAAAAAAAAAAAAAAAAAAAAAAAAAAAAAAAAAAAAAAAAAAAAAAAAAAAAAAAAAAAAAAAAAAAAAAAAAAAAAAAAAAAAAAAAAAAAAAAAAAAAAAAAAAAAAAAAAAAA=",
          "dtype": "f8"
         },
         "yaxis": "y"
        }
       ],
       "layout": {
        "hovermode": "closest",
        "legend": {
         "title": {
          "text": "position"
         },
         "tracegroupgap": 0
        },
        "template": {
         "data": {
          "bar": [
           {
            "error_x": {
             "color": "#2a3f5f"
            },
            "error_y": {
             "color": "#2a3f5f"
            },
            "marker": {
             "line": {
              "color": "#E5ECF6",
              "width": 0.5
             },
             "pattern": {
              "fillmode": "overlay",
              "size": 10,
              "solidity": 0.2
             }
            },
            "type": "bar"
           }
          ],
          "barpolar": [
           {
            "marker": {
             "line": {
              "color": "#E5ECF6",
              "width": 0.5
             },
             "pattern": {
              "fillmode": "overlay",
              "size": 10,
              "solidity": 0.2
             }
            },
            "type": "barpolar"
           }
          ],
          "carpet": [
           {
            "aaxis": {
             "endlinecolor": "#2a3f5f",
             "gridcolor": "white",
             "linecolor": "white",
             "minorgridcolor": "white",
             "startlinecolor": "#2a3f5f"
            },
            "baxis": {
             "endlinecolor": "#2a3f5f",
             "gridcolor": "white",
             "linecolor": "white",
             "minorgridcolor": "white",
             "startlinecolor": "#2a3f5f"
            },
            "type": "carpet"
           }
          ],
          "choropleth": [
           {
            "colorbar": {
             "outlinewidth": 0,
             "ticks": ""
            },
            "type": "choropleth"
           }
          ],
          "contour": [
           {
            "colorbar": {
             "outlinewidth": 0,
             "ticks": ""
            },
            "colorscale": [
             [
              0,
              "#0d0887"
             ],
             [
              0.1111111111111111,
              "#46039f"
             ],
             [
              0.2222222222222222,
              "#7201a8"
             ],
             [
              0.3333333333333333,
              "#9c179e"
             ],
             [
              0.4444444444444444,
              "#bd3786"
             ],
             [
              0.5555555555555556,
              "#d8576b"
             ],
             [
              0.6666666666666666,
              "#ed7953"
             ],
             [
              0.7777777777777778,
              "#fb9f3a"
             ],
             [
              0.8888888888888888,
              "#fdca26"
             ],
             [
              1,
              "#f0f921"
             ]
            ],
            "type": "contour"
           }
          ],
          "contourcarpet": [
           {
            "colorbar": {
             "outlinewidth": 0,
             "ticks": ""
            },
            "type": "contourcarpet"
           }
          ],
          "heatmap": [
           {
            "colorbar": {
             "outlinewidth": 0,
             "ticks": ""
            },
            "colorscale": [
             [
              0,
              "#0d0887"
             ],
             [
              0.1111111111111111,
              "#46039f"
             ],
             [
              0.2222222222222222,
              "#7201a8"
             ],
             [
              0.3333333333333333,
              "#9c179e"
             ],
             [
              0.4444444444444444,
              "#bd3786"
             ],
             [
              0.5555555555555556,
              "#d8576b"
             ],
             [
              0.6666666666666666,
              "#ed7953"
             ],
             [
              0.7777777777777778,
              "#fb9f3a"
             ],
             [
              0.8888888888888888,
              "#fdca26"
             ],
             [
              1,
              "#f0f921"
             ]
            ],
            "type": "heatmap"
           }
          ],
          "histogram": [
           {
            "marker": {
             "pattern": {
              "fillmode": "overlay",
              "size": 10,
              "solidity": 0.2
             }
            },
            "type": "histogram"
           }
          ],
          "histogram2d": [
           {
            "colorbar": {
             "outlinewidth": 0,
             "ticks": ""
            },
            "colorscale": [
             [
              0,
              "#0d0887"
             ],
             [
              0.1111111111111111,
              "#46039f"
             ],
             [
              0.2222222222222222,
              "#7201a8"
             ],
             [
              0.3333333333333333,
              "#9c179e"
             ],
             [
              0.4444444444444444,
              "#bd3786"
             ],
             [
              0.5555555555555556,
              "#d8576b"
             ],
             [
              0.6666666666666666,
              "#ed7953"
             ],
             [
              0.7777777777777778,
              "#fb9f3a"
             ],
             [
              0.8888888888888888,
              "#fdca26"
             ],
             [
              1,
              "#f0f921"
             ]
            ],
            "type": "histogram2d"
           }
          ],
          "histogram2dcontour": [
           {
            "colorbar": {
             "outlinewidth": 0,
             "ticks": ""
            },
            "colorscale": [
             [
              0,
              "#0d0887"
             ],
             [
              0.1111111111111111,
              "#46039f"
             ],
             [
              0.2222222222222222,
              "#7201a8"
             ],
             [
              0.3333333333333333,
              "#9c179e"
             ],
             [
              0.4444444444444444,
              "#bd3786"
             ],
             [
              0.5555555555555556,
              "#d8576b"
             ],
             [
              0.6666666666666666,
              "#ed7953"
             ],
             [
              0.7777777777777778,
              "#fb9f3a"
             ],
             [
              0.8888888888888888,
              "#fdca26"
             ],
             [
              1,
              "#f0f921"
             ]
            ],
            "type": "histogram2dcontour"
           }
          ],
          "mesh3d": [
           {
            "colorbar": {
             "outlinewidth": 0,
             "ticks": ""
            },
            "type": "mesh3d"
           }
          ],
          "parcoords": [
           {
            "line": {
             "colorbar": {
              "outlinewidth": 0,
              "ticks": ""
             }
            },
            "type": "parcoords"
           }
          ],
          "pie": [
           {
            "automargin": true,
            "type": "pie"
           }
          ],
          "scatter": [
           {
            "fillpattern": {
             "fillmode": "overlay",
             "size": 10,
             "solidity": 0.2
            },
            "type": "scatter"
           }
          ],
          "scatter3d": [
           {
            "line": {
             "colorbar": {
              "outlinewidth": 0,
              "ticks": ""
             }
            },
            "marker": {
             "colorbar": {
              "outlinewidth": 0,
              "ticks": ""
             }
            },
            "type": "scatter3d"
           }
          ],
          "scattercarpet": [
           {
            "marker": {
             "colorbar": {
              "outlinewidth": 0,
              "ticks": ""
             }
            },
            "type": "scattercarpet"
           }
          ],
          "scattergeo": [
           {
            "marker": {
             "colorbar": {
              "outlinewidth": 0,
              "ticks": ""
             }
            },
            "type": "scattergeo"
           }
          ],
          "scattergl": [
           {
            "marker": {
             "colorbar": {
              "outlinewidth": 0,
              "ticks": ""
             }
            },
            "type": "scattergl"
           }
          ],
          "scattermap": [
           {
            "marker": {
             "colorbar": {
              "outlinewidth": 0,
              "ticks": ""
             }
            },
            "type": "scattermap"
           }
          ],
          "scattermapbox": [
           {
            "marker": {
             "colorbar": {
              "outlinewidth": 0,
              "ticks": ""
             }
            },
            "type": "scattermapbox"
           }
          ],
          "scatterpolar": [
           {
            "marker": {
             "colorbar": {
              "outlinewidth": 0,
              "ticks": ""
             }
            },
            "type": "scatterpolar"
           }
          ],
          "scatterpolargl": [
           {
            "marker": {
             "colorbar": {
              "outlinewidth": 0,
              "ticks": ""
             }
            },
            "type": "scatterpolargl"
           }
          ],
          "scatterternary": [
           {
            "marker": {
             "colorbar": {
              "outlinewidth": 0,
              "ticks": ""
             }
            },
            "type": "scatterternary"
           }
          ],
          "surface": [
           {
            "colorbar": {
             "outlinewidth": 0,
             "ticks": ""
            },
            "colorscale": [
             [
              0,
              "#0d0887"
             ],
             [
              0.1111111111111111,
              "#46039f"
             ],
             [
              0.2222222222222222,
              "#7201a8"
             ],
             [
              0.3333333333333333,
              "#9c179e"
             ],
             [
              0.4444444444444444,
              "#bd3786"
             ],
             [
              0.5555555555555556,
              "#d8576b"
             ],
             [
              0.6666666666666666,
              "#ed7953"
             ],
             [
              0.7777777777777778,
              "#fb9f3a"
             ],
             [
              0.8888888888888888,
              "#fdca26"
             ],
             [
              1,
              "#f0f921"
             ]
            ],
            "type": "surface"
           }
          ],
          "table": [
           {
            "cells": {
             "fill": {
              "color": "#EBF0F8"
             },
             "line": {
              "color": "white"
             }
            },
            "header": {
             "fill": {
              "color": "#C8D4E3"
             },
             "line": {
              "color": "white"
             }
            },
            "type": "table"
           }
          ]
         },
         "layout": {
          "annotationdefaults": {
           "arrowcolor": "#2a3f5f",
           "arrowhead": 0,
           "arrowwidth": 1
          },
          "autotypenumbers": "strict",
          "coloraxis": {
           "colorbar": {
            "outlinewidth": 0,
            "ticks": ""
           }
          },
          "colorscale": {
           "diverging": [
            [
             0,
             "#8e0152"
            ],
            [
             0.1,
             "#c51b7d"
            ],
            [
             0.2,
             "#de77ae"
            ],
            [
             0.3,
             "#f1b6da"
            ],
            [
             0.4,
             "#fde0ef"
            ],
            [
             0.5,
             "#f7f7f7"
            ],
            [
             0.6,
             "#e6f5d0"
            ],
            [
             0.7,
             "#b8e186"
            ],
            [
             0.8,
             "#7fbc41"
            ],
            [
             0.9,
             "#4d9221"
            ],
            [
             1,
             "#276419"
            ]
           ],
           "sequential": [
            [
             0,
             "#0d0887"
            ],
            [
             0.1111111111111111,
             "#46039f"
            ],
            [
             0.2222222222222222,
             "#7201a8"
            ],
            [
             0.3333333333333333,
             "#9c179e"
            ],
            [
             0.4444444444444444,
             "#bd3786"
            ],
            [
             0.5555555555555556,
             "#d8576b"
            ],
            [
             0.6666666666666666,
             "#ed7953"
            ],
            [
             0.7777777777777778,
             "#fb9f3a"
            ],
            [
             0.8888888888888888,
             "#fdca26"
            ],
            [
             1,
             "#f0f921"
            ]
           ],
           "sequentialminus": [
            [
             0,
             "#0d0887"
            ],
            [
             0.1111111111111111,
             "#46039f"
            ],
            [
             0.2222222222222222,
             "#7201a8"
            ],
            [
             0.3333333333333333,
             "#9c179e"
            ],
            [
             0.4444444444444444,
             "#bd3786"
            ],
            [
             0.5555555555555556,
             "#d8576b"
            ],
            [
             0.6666666666666666,
             "#ed7953"
            ],
            [
             0.7777777777777778,
             "#fb9f3a"
            ],
            [
             0.8888888888888888,
             "#fdca26"
            ],
            [
             1,
             "#f0f921"
            ]
           ]
          },
          "colorway": [
           "#636efa",
           "#EF553B",
           "#00cc96",
           "#ab63fa",
           "#FFA15A",
           "#19d3f3",
           "#FF6692",
           "#B6E880",
           "#FF97FF",
           "#FECB52"
          ],
          "font": {
           "color": "#2a3f5f"
          },
          "geo": {
           "bgcolor": "white",
           "lakecolor": "white",
           "landcolor": "#E5ECF6",
           "showlakes": true,
           "showland": true,
           "subunitcolor": "white"
          },
          "hoverlabel": {
           "align": "left"
          },
          "hovermode": "closest",
          "mapbox": {
           "style": "light"
          },
          "paper_bgcolor": "white",
          "plot_bgcolor": "#E5ECF6",
          "polar": {
           "angularaxis": {
            "gridcolor": "white",
            "linecolor": "white",
            "ticks": ""
           },
           "bgcolor": "#E5ECF6",
           "radialaxis": {
            "gridcolor": "white",
            "linecolor": "white",
            "ticks": ""
           }
          },
          "scene": {
           "xaxis": {
            "backgroundcolor": "#E5ECF6",
            "gridcolor": "white",
            "gridwidth": 2,
            "linecolor": "white",
            "showbackground": true,
            "ticks": "",
            "zerolinecolor": "white"
           },
           "yaxis": {
            "backgroundcolor": "#E5ECF6",
            "gridcolor": "white",
            "gridwidth": 2,
            "linecolor": "white",
            "showbackground": true,
            "ticks": "",
            "zerolinecolor": "white"
           },
           "zaxis": {
            "backgroundcolor": "#E5ECF6",
            "gridcolor": "white",
            "gridwidth": 2,
            "linecolor": "white",
            "showbackground": true,
            "ticks": "",
            "zerolinecolor": "white"
           }
          },
          "shapedefaults": {
           "line": {
            "color": "#2a3f5f"
           }
          },
          "ternary": {
           "aaxis": {
            "gridcolor": "white",
            "linecolor": "white",
            "ticks": ""
           },
           "baxis": {
            "gridcolor": "white",
            "linecolor": "white",
            "ticks": ""
           },
           "bgcolor": "#E5ECF6",
           "caxis": {
            "gridcolor": "white",
            "linecolor": "white",
            "ticks": ""
           }
          },
          "title": {
           "x": 0.05
          },
          "xaxis": {
           "automargin": true,
           "gridcolor": "white",
           "linecolor": "white",
           "ticks": "",
           "title": {
            "standoff": 15
           },
           "zerolinecolor": "white",
           "zerolinewidth": 2
          },
          "yaxis": {
           "automargin": true,
           "gridcolor": "white",
           "linecolor": "white",
           "ticks": "",
           "title": {
            "standoff": 15
           },
           "zerolinecolor": "white",
           "zerolinewidth": 2
          }
         }
        },
        "title": {
         "text": "Relation linéaire entre expected_goal_involvements et goal_involvements (Hover pour nom du joueur)"
        },
        "xaxis": {
         "anchor": "y",
         "domain": [
          0,
          1
         ],
         "title": {
          "text": "expected_goal_involvements"
         }
        },
        "yaxis": {
         "anchor": "x",
         "domain": [
          0,
          1
         ],
         "title": {
          "text": "goal_involvements"
         }
        }
       }
      }
     },
     "metadata": {},
     "output_type": "display_data"
    }
   ],
   "source": [
    "import plotly.express as px\n",
    "\n",
    "fig = px.scatter(\n",
    "    df_players,\n",
    "    x='expected_goal_involvements',\n",
    "    y='goal_involvements',\n",
    "    text='web_name',  # Affiche le nom au survol\n",
    "    color='position', # Optionnel, couleur par poste\n",
    "    title='Relation linéaire entre expected_goal_involvements et goal_involvements (Hover pour nom du joueur)'\n",
    ")\n",
    "\n",
    "fig.update_traces(marker=dict(size=10, opacity=0.7),\n",
    "                  selector=dict(mode='markers'))\n",
    "fig.update_layout(hovermode='closest')\n",
    "fig.show()"
   ]
  },
  {
   "cell_type": "code",
   "execution_count": null,
   "id": "bcafed94",
   "metadata": {},
   "outputs": [],
   "source": []
  },
  {
   "cell_type": "code",
   "execution_count": null,
   "id": "68219f6c",
   "metadata": {},
   "outputs": [],
   "source": []
  },
  {
   "cell_type": "code",
   "execution_count": null,
   "id": "2d3e11c6",
   "metadata": {},
   "outputs": [],
   "source": []
  },
  {
   "cell_type": "code",
   "execution_count": null,
   "id": "32ec3cde",
   "metadata": {},
   "outputs": [],
   "source": []
  }
 ],
 "metadata": {
  "kernelspec": {
   "display_name": "Python 3",
   "language": "python",
   "name": "python3"
  },
  "language_info": {
   "codemirror_mode": {
    "name": "ipython",
    "version": 3
   },
   "file_extension": ".py",
   "mimetype": "text/x-python",
   "name": "python",
   "nbconvert_exporter": "python",
   "pygments_lexer": "ipython3",
   "version": "3.12.1"
  }
 },
 "nbformat": 4,
 "nbformat_minor": 5
}
