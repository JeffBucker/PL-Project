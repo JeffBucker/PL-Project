{
 "cells": [
  {
   "cell_type": "code",
   "execution_count": 1,
   "id": "b1be241e",
   "metadata": {},
   "outputs": [],
   "source": [
    "import pandas as pd\n",
    "import numpy as np\n",
    "from pulp import LpProblem, LpVariable, LpMaximize, lpSum, LpBinary\n",
    "import matplotlib.pyplot as plt\n",
    "import seaborn as sns\n",
    "import plotly.express as px\n",
    "\n",
    "pd.set_option('display.max_columns', None)\n",
    "pd.set_option('display.max_rows', None)\n",
    "\n",
    "df_players = pd.read_parquet('df_players.parquet')\n",
    "df_positions = pd.read_parquet('df_positions.parquet')\n",
    "df_teams = pd.read_parquet('df_teams.parquet')"
   ]
  },
  {
   "cell_type": "code",
   "execution_count": 2,
   "id": "5657ee98",
   "metadata": {},
   "outputs": [
    {
     "data": {
      "text/html": [
       "<div>\n",
       "<style scoped>\n",
       "    .dataframe tbody tr th:only-of-type {\n",
       "        vertical-align: middle;\n",
       "    }\n",
       "\n",
       "    .dataframe tbody tr th {\n",
       "        vertical-align: top;\n",
       "    }\n",
       "\n",
       "    .dataframe thead th {\n",
       "        text-align: right;\n",
       "    }\n",
       "</style>\n",
       "<table border=\"1\" class=\"dataframe\">\n",
       "  <thead>\n",
       "    <tr style=\"text-align: right;\">\n",
       "      <th></th>\n",
       "      <th>first_name</th>\n",
       "      <th>web_name</th>\n",
       "      <th>team_short</th>\n",
       "      <th>team_name</th>\n",
       "      <th>position</th>\n",
       "      <th>price</th>\n",
       "      <th>total_points</th>\n",
       "      <th>points_per_cost</th>\n",
       "      <th>points_per_minutes</th>\n",
       "      <th>fdr_next_6</th>\n",
       "      <th>ict_index</th>\n",
       "      <th>selected_by_percent</th>\n",
       "      <th>selected_rank</th>\n",
       "      <th>form</th>\n",
       "      <th>minutes</th>\n",
       "      <th>transfers_in</th>\n",
       "      <th>transfers_in_event</th>\n",
       "      <th>transfers_out</th>\n",
       "      <th>transfers_out_event</th>\n",
       "      <th>assists</th>\n",
       "      <th>goals_scored</th>\n",
       "      <th>goal_involvements</th>\n",
       "      <th>expected_goals</th>\n",
       "      <th>expected_assists</th>\n",
       "      <th>expected_goal_involvements</th>\n",
       "      <th>GI_on_xGI</th>\n",
       "      <th>expected_goals_per_90</th>\n",
       "      <th>saves_per_90</th>\n",
       "      <th>expected_assists_per_90</th>\n",
       "      <th>expected_goal_involvements_per_90</th>\n",
       "      <th>expected_goals_conceded_per_90</th>\n",
       "      <th>goals_conceded_per_90</th>\n",
       "      <th>defensive_contribution_per_90</th>\n",
       "    </tr>\n",
       "    <tr>\n",
       "      <th>id</th>\n",
       "      <th></th>\n",
       "      <th></th>\n",
       "      <th></th>\n",
       "      <th></th>\n",
       "      <th></th>\n",
       "      <th></th>\n",
       "      <th></th>\n",
       "      <th></th>\n",
       "      <th></th>\n",
       "      <th></th>\n",
       "      <th></th>\n",
       "      <th></th>\n",
       "      <th></th>\n",
       "      <th></th>\n",
       "      <th></th>\n",
       "      <th></th>\n",
       "      <th></th>\n",
       "      <th></th>\n",
       "      <th></th>\n",
       "      <th></th>\n",
       "      <th></th>\n",
       "      <th></th>\n",
       "      <th></th>\n",
       "      <th></th>\n",
       "      <th></th>\n",
       "      <th></th>\n",
       "      <th></th>\n",
       "      <th></th>\n",
       "      <th></th>\n",
       "      <th></th>\n",
       "      <th></th>\n",
       "      <th></th>\n",
       "      <th></th>\n",
       "    </tr>\n",
       "  </thead>\n",
       "  <tbody>\n",
       "    <tr>\n",
       "      <th>72</th>\n",
       "      <td>Marcos</td>\n",
       "      <td>Senesi</td>\n",
       "      <td>BOU</td>\n",
       "      <td>Bournemouth</td>\n",
       "      <td>DEF</td>\n",
       "      <td>48.0</td>\n",
       "      <td>37.0</td>\n",
       "      <td>0.770833</td>\n",
       "      <td>0.082222</td>\n",
       "      <td>3.166667</td>\n",
       "      <td>20.2</td>\n",
       "      <td>16.5</td>\n",
       "      <td>22</td>\n",
       "      <td>8.7</td>\n",
       "      <td>450.0</td>\n",
       "      <td>1891122</td>\n",
       "      <td>684816</td>\n",
       "      <td>166601</td>\n",
       "      <td>22297</td>\n",
       "      <td>1.0</td>\n",
       "      <td>0.0</td>\n",
       "      <td>1.0</td>\n",
       "      <td>0.14</td>\n",
       "      <td>0.15</td>\n",
       "      <td>0.29</td>\n",
       "      <td>3.448276</td>\n",
       "      <td>0.03</td>\n",
       "      <td>0.00</td>\n",
       "      <td>0.03</td>\n",
       "      <td>0.06</td>\n",
       "      <td>0.72</td>\n",
       "      <td>1.00</td>\n",
       "      <td>13.20</td>\n",
       "    </tr>\n",
       "    <tr>\n",
       "      <th>260</th>\n",
       "      <td>Marc</td>\n",
       "      <td>Guéhi</td>\n",
       "      <td>CRY</td>\n",
       "      <td>Crystal Palace</td>\n",
       "      <td>DEF</td>\n",
       "      <td>47.0</td>\n",
       "      <td>36.0</td>\n",
       "      <td>0.765957</td>\n",
       "      <td>0.080000</td>\n",
       "      <td>3.333333</td>\n",
       "      <td>18.0</td>\n",
       "      <td>25.1</td>\n",
       "      <td>12</td>\n",
       "      <td>9.3</td>\n",
       "      <td>450.0</td>\n",
       "      <td>1831703</td>\n",
       "      <td>289957</td>\n",
       "      <td>377021</td>\n",
       "      <td>91562</td>\n",
       "      <td>1.0</td>\n",
       "      <td>1.0</td>\n",
       "      <td>2.0</td>\n",
       "      <td>0.39</td>\n",
       "      <td>0.04</td>\n",
       "      <td>0.43</td>\n",
       "      <td>4.651163</td>\n",
       "      <td>0.08</td>\n",
       "      <td>0.00</td>\n",
       "      <td>0.01</td>\n",
       "      <td>0.09</td>\n",
       "      <td>0.94</td>\n",
       "      <td>0.40</td>\n",
       "      <td>7.20</td>\n",
       "    </tr>\n",
       "    <tr>\n",
       "      <th>575</th>\n",
       "      <td>Micky</td>\n",
       "      <td>Van de Ven</td>\n",
       "      <td>TOT</td>\n",
       "      <td>Spurs</td>\n",
       "      <td>DEF</td>\n",
       "      <td>47.0</td>\n",
       "      <td>28.0</td>\n",
       "      <td>0.595745</td>\n",
       "      <td>0.063781</td>\n",
       "      <td>2.666667</td>\n",
       "      <td>16.3</td>\n",
       "      <td>34.0</td>\n",
       "      <td>6</td>\n",
       "      <td>5.3</td>\n",
       "      <td>439.0</td>\n",
       "      <td>1472832</td>\n",
       "      <td>259539</td>\n",
       "      <td>566459</td>\n",
       "      <td>91833</td>\n",
       "      <td>0.0</td>\n",
       "      <td>1.0</td>\n",
       "      <td>1.0</td>\n",
       "      <td>0.68</td>\n",
       "      <td>0.03</td>\n",
       "      <td>0.71</td>\n",
       "      <td>1.408451</td>\n",
       "      <td>0.14</td>\n",
       "      <td>0.00</td>\n",
       "      <td>0.01</td>\n",
       "      <td>0.15</td>\n",
       "      <td>1.23</td>\n",
       "      <td>0.62</td>\n",
       "      <td>5.54</td>\n",
       "    </tr>\n",
       "    <tr>\n",
       "      <th>348</th>\n",
       "      <td>Joe</td>\n",
       "      <td>Rodon</td>\n",
       "      <td>LEE</td>\n",
       "      <td>Leeds</td>\n",
       "      <td>DEF</td>\n",
       "      <td>40.0</td>\n",
       "      <td>22.0</td>\n",
       "      <td>0.550000</td>\n",
       "      <td>0.048889</td>\n",
       "      <td>2.666667</td>\n",
       "      <td>10.5</td>\n",
       "      <td>4.3</td>\n",
       "      <td>84</td>\n",
       "      <td>4.3</td>\n",
       "      <td>450.0</td>\n",
       "      <td>385168</td>\n",
       "      <td>113504</td>\n",
       "      <td>134862</td>\n",
       "      <td>35304</td>\n",
       "      <td>0.0</td>\n",
       "      <td>0.0</td>\n",
       "      <td>0.0</td>\n",
       "      <td>0.00</td>\n",
       "      <td>0.01</td>\n",
       "      <td>0.01</td>\n",
       "      <td>0.000000</td>\n",
       "      <td>0.00</td>\n",
       "      <td>0.00</td>\n",
       "      <td>0.00</td>\n",
       "      <td>0.00</td>\n",
       "      <td>1.30</td>\n",
       "      <td>1.40</td>\n",
       "      <td>9.40</td>\n",
       "    </tr>\n",
       "    <tr>\n",
       "      <th>38</th>\n",
       "      <td>Ezri</td>\n",
       "      <td>Konsa</td>\n",
       "      <td>AVL</td>\n",
       "      <td>Aston Villa</td>\n",
       "      <td>DEF</td>\n",
       "      <td>45.0</td>\n",
       "      <td>12.0</td>\n",
       "      <td>0.266667</td>\n",
       "      <td>0.035821</td>\n",
       "      <td>3.333333</td>\n",
       "      <td>8.5</td>\n",
       "      <td>11.8</td>\n",
       "      <td>37</td>\n",
       "      <td>3.0</td>\n",
       "      <td>335.0</td>\n",
       "      <td>169683</td>\n",
       "      <td>20980</td>\n",
       "      <td>1052347</td>\n",
       "      <td>117254</td>\n",
       "      <td>0.0</td>\n",
       "      <td>0.0</td>\n",
       "      <td>0.0</td>\n",
       "      <td>0.00</td>\n",
       "      <td>0.07</td>\n",
       "      <td>0.07</td>\n",
       "      <td>0.000000</td>\n",
       "      <td>0.00</td>\n",
       "      <td>0.00</td>\n",
       "      <td>0.02</td>\n",
       "      <td>0.02</td>\n",
       "      <td>1.86</td>\n",
       "      <td>1.07</td>\n",
       "      <td>4.84</td>\n",
       "    </tr>\n",
       "    <tr>\n",
       "      <th>249</th>\n",
       "      <td>João Pedro</td>\n",
       "      <td>João Pedro</td>\n",
       "      <td>CHE</td>\n",
       "      <td>Chelsea</td>\n",
       "      <td>FWD</td>\n",
       "      <td>78.0</td>\n",
       "      <td>35.0</td>\n",
       "      <td>0.448718</td>\n",
       "      <td>0.083333</td>\n",
       "      <td>2.833333</td>\n",
       "      <td>36.3</td>\n",
       "      <td>67.8</td>\n",
       "      <td>1</td>\n",
       "      <td>6.0</td>\n",
       "      <td>420.0</td>\n",
       "      <td>2569589</td>\n",
       "      <td>277452</td>\n",
       "      <td>965482</td>\n",
       "      <td>207045</td>\n",
       "      <td>3.0</td>\n",
       "      <td>2.0</td>\n",
       "      <td>5.0</td>\n",
       "      <td>1.50</td>\n",
       "      <td>0.20</td>\n",
       "      <td>1.70</td>\n",
       "      <td>2.941176</td>\n",
       "      <td>0.32</td>\n",
       "      <td>0.00</td>\n",
       "      <td>0.04</td>\n",
       "      <td>0.36</td>\n",
       "      <td>1.05</td>\n",
       "      <td>0.86</td>\n",
       "      <td>4.71</td>\n",
       "    </tr>\n",
       "    <tr>\n",
       "      <th>430</th>\n",
       "      <td>Erling</td>\n",
       "      <td>Haaland</td>\n",
       "      <td>MCI</td>\n",
       "      <td>Man City</td>\n",
       "      <td>FWD</td>\n",
       "      <td>143.0</td>\n",
       "      <td>46.0</td>\n",
       "      <td>0.321678</td>\n",
       "      <td>0.111380</td>\n",
       "      <td>3.000000</td>\n",
       "      <td>52.2</td>\n",
       "      <td>46.4</td>\n",
       "      <td>4</td>\n",
       "      <td>10.3</td>\n",
       "      <td>413.0</td>\n",
       "      <td>2820444</td>\n",
       "      <td>1092736</td>\n",
       "      <td>609517</td>\n",
       "      <td>72612</td>\n",
       "      <td>0.0</td>\n",
       "      <td>6.0</td>\n",
       "      <td>6.0</td>\n",
       "      <td>6.18</td>\n",
       "      <td>0.32</td>\n",
       "      <td>6.50</td>\n",
       "      <td>0.923077</td>\n",
       "      <td>1.35</td>\n",
       "      <td>0.00</td>\n",
       "      <td>0.07</td>\n",
       "      <td>1.42</td>\n",
       "      <td>1.30</td>\n",
       "      <td>0.87</td>\n",
       "      <td>4.36</td>\n",
       "    </tr>\n",
       "    <tr>\n",
       "      <th>100</th>\n",
       "      <td>Eli Junior</td>\n",
       "      <td>Kroupi.Jr</td>\n",
       "      <td>BOU</td>\n",
       "      <td>Bournemouth</td>\n",
       "      <td>FWD</td>\n",
       "      <td>45.0</td>\n",
       "      <td>3.0</td>\n",
       "      <td>0.066667</td>\n",
       "      <td>0.250000</td>\n",
       "      <td>3.166667</td>\n",
       "      <td>0.2</td>\n",
       "      <td>1.5</td>\n",
       "      <td>153</td>\n",
       "      <td>0.3</td>\n",
       "      <td>12.0</td>\n",
       "      <td>169786</td>\n",
       "      <td>23119</td>\n",
       "      <td>124168</td>\n",
       "      <td>20876</td>\n",
       "      <td>0.0</td>\n",
       "      <td>0.0</td>\n",
       "      <td>0.0</td>\n",
       "      <td>0.00</td>\n",
       "      <td>0.00</td>\n",
       "      <td>0.00</td>\n",
       "      <td>NaN</td>\n",
       "      <td>0.00</td>\n",
       "      <td>0.00</td>\n",
       "      <td>0.00</td>\n",
       "      <td>0.00</td>\n",
       "      <td>1.80</td>\n",
       "      <td>7.50</td>\n",
       "      <td>7.50</td>\n",
       "    </tr>\n",
       "    <tr>\n",
       "      <th>470</th>\n",
       "      <td>Martin</td>\n",
       "      <td>Dúbravka</td>\n",
       "      <td>BUR</td>\n",
       "      <td>Burnley</td>\n",
       "      <td>GKP</td>\n",
       "      <td>40.0</td>\n",
       "      <td>17.0</td>\n",
       "      <td>0.425000</td>\n",
       "      <td>0.037778</td>\n",
       "      <td>3.166667</td>\n",
       "      <td>14.3</td>\n",
       "      <td>34.4</td>\n",
       "      <td>5</td>\n",
       "      <td>3.0</td>\n",
       "      <td>450.0</td>\n",
       "      <td>683404</td>\n",
       "      <td>111566</td>\n",
       "      <td>361589</td>\n",
       "      <td>66982</td>\n",
       "      <td>0.0</td>\n",
       "      <td>0.0</td>\n",
       "      <td>0.0</td>\n",
       "      <td>0.00</td>\n",
       "      <td>0.00</td>\n",
       "      <td>0.00</td>\n",
       "      <td>NaN</td>\n",
       "      <td>0.00</td>\n",
       "      <td>3.80</td>\n",
       "      <td>0.00</td>\n",
       "      <td>0.00</td>\n",
       "      <td>2.05</td>\n",
       "      <td>1.60</td>\n",
       "      <td>0.00</td>\n",
       "    </tr>\n",
       "    <tr>\n",
       "      <th>220</th>\n",
       "      <td>Robert</td>\n",
       "      <td>Sánchez</td>\n",
       "      <td>CHE</td>\n",
       "      <td>Chelsea</td>\n",
       "      <td>GKP</td>\n",
       "      <td>50.0</td>\n",
       "      <td>16.0</td>\n",
       "      <td>0.320000</td>\n",
       "      <td>0.043956</td>\n",
       "      <td>2.833333</td>\n",
       "      <td>8.1</td>\n",
       "      <td>17.9</td>\n",
       "      <td>20</td>\n",
       "      <td>1.7</td>\n",
       "      <td>364.0</td>\n",
       "      <td>470040</td>\n",
       "      <td>11287</td>\n",
       "      <td>1165864</td>\n",
       "      <td>489079</td>\n",
       "      <td>0.0</td>\n",
       "      <td>0.0</td>\n",
       "      <td>0.0</td>\n",
       "      <td>0.00</td>\n",
       "      <td>0.00</td>\n",
       "      <td>0.00</td>\n",
       "      <td>NaN</td>\n",
       "      <td>0.00</td>\n",
       "      <td>2.97</td>\n",
       "      <td>0.00</td>\n",
       "      <td>0.00</td>\n",
       "      <td>0.96</td>\n",
       "      <td>1.24</td>\n",
       "      <td>0.00</td>\n",
       "    </tr>\n",
       "    <tr>\n",
       "      <th>241</th>\n",
       "      <td>Moisés</td>\n",
       "      <td>Caicedo</td>\n",
       "      <td>CHE</td>\n",
       "      <td>Chelsea</td>\n",
       "      <td>MID</td>\n",
       "      <td>56.0</td>\n",
       "      <td>33.0</td>\n",
       "      <td>0.589286</td>\n",
       "      <td>0.073333</td>\n",
       "      <td>2.833333</td>\n",
       "      <td>26.0</td>\n",
       "      <td>11.7</td>\n",
       "      <td>38</td>\n",
       "      <td>6.7</td>\n",
       "      <td>450.0</td>\n",
       "      <td>928117</td>\n",
       "      <td>283709</td>\n",
       "      <td>309608</td>\n",
       "      <td>75812</td>\n",
       "      <td>0.0</td>\n",
       "      <td>2.0</td>\n",
       "      <td>2.0</td>\n",
       "      <td>0.44</td>\n",
       "      <td>0.20</td>\n",
       "      <td>0.64</td>\n",
       "      <td>3.125000</td>\n",
       "      <td>0.09</td>\n",
       "      <td>0.00</td>\n",
       "      <td>0.04</td>\n",
       "      <td>0.13</td>\n",
       "      <td>1.14</td>\n",
       "      <td>1.00</td>\n",
       "      <td>14.80</td>\n",
       "    </tr>\n",
       "    <tr>\n",
       "      <th>82</th>\n",
       "      <td>Antoine</td>\n",
       "      <td>Semenyo</td>\n",
       "      <td>BOU</td>\n",
       "      <td>Bournemouth</td>\n",
       "      <td>MID</td>\n",
       "      <td>77.0</td>\n",
       "      <td>41.0</td>\n",
       "      <td>0.532468</td>\n",
       "      <td>0.091111</td>\n",
       "      <td>3.166667</td>\n",
       "      <td>41.0</td>\n",
       "      <td>49.7</td>\n",
       "      <td>2</td>\n",
       "      <td>6.7</td>\n",
       "      <td>450.0</td>\n",
       "      <td>5146554</td>\n",
       "      <td>674325</td>\n",
       "      <td>465917</td>\n",
       "      <td>51785</td>\n",
       "      <td>2.0</td>\n",
       "      <td>3.0</td>\n",
       "      <td>5.0</td>\n",
       "      <td>2.78</td>\n",
       "      <td>0.26</td>\n",
       "      <td>3.04</td>\n",
       "      <td>1.644737</td>\n",
       "      <td>0.56</td>\n",
       "      <td>0.00</td>\n",
       "      <td>0.05</td>\n",
       "      <td>0.61</td>\n",
       "      <td>0.72</td>\n",
       "      <td>1.00</td>\n",
       "      <td>8.40</td>\n",
       "    </tr>\n",
       "    <tr>\n",
       "      <th>427</th>\n",
       "      <td>Tijjani</td>\n",
       "      <td>Reijnders</td>\n",
       "      <td>MCI</td>\n",
       "      <td>Man City</td>\n",
       "      <td>MID</td>\n",
       "      <td>57.0</td>\n",
       "      <td>26.0</td>\n",
       "      <td>0.456140</td>\n",
       "      <td>0.057778</td>\n",
       "      <td>3.000000</td>\n",
       "      <td>28.4</td>\n",
       "      <td>33.4</td>\n",
       "      <td>7</td>\n",
       "      <td>4.7</td>\n",
       "      <td>450.0</td>\n",
       "      <td>2561841</td>\n",
       "      <td>503862</td>\n",
       "      <td>1127002</td>\n",
       "      <td>106367</td>\n",
       "      <td>2.0</td>\n",
       "      <td>1.0</td>\n",
       "      <td>3.0</td>\n",
       "      <td>0.67</td>\n",
       "      <td>0.36</td>\n",
       "      <td>1.03</td>\n",
       "      <td>2.912621</td>\n",
       "      <td>0.13</td>\n",
       "      <td>0.00</td>\n",
       "      <td>0.07</td>\n",
       "      <td>0.20</td>\n",
       "      <td>1.29</td>\n",
       "      <td>1.00</td>\n",
       "      <td>6.40</td>\n",
       "    </tr>\n",
       "    <tr>\n",
       "      <th>449</th>\n",
       "      <td>Bruno</td>\n",
       "      <td>B.Fernandes</td>\n",
       "      <td>MUN</td>\n",
       "      <td>Man Utd</td>\n",
       "      <td>MID</td>\n",
       "      <td>90.0</td>\n",
       "      <td>26.0</td>\n",
       "      <td>0.288889</td>\n",
       "      <td>0.058296</td>\n",
       "      <td>3.166667</td>\n",
       "      <td>48.1</td>\n",
       "      <td>20.5</td>\n",
       "      <td>18</td>\n",
       "      <td>7.3</td>\n",
       "      <td>446.0</td>\n",
       "      <td>1041128</td>\n",
       "      <td>359599</td>\n",
       "      <td>1205100</td>\n",
       "      <td>123866</td>\n",
       "      <td>0.0</td>\n",
       "      <td>2.0</td>\n",
       "      <td>2.0</td>\n",
       "      <td>2.73</td>\n",
       "      <td>0.99</td>\n",
       "      <td>3.72</td>\n",
       "      <td>0.537634</td>\n",
       "      <td>0.55</td>\n",
       "      <td>0.00</td>\n",
       "      <td>0.20</td>\n",
       "      <td>0.75</td>\n",
       "      <td>1.43</td>\n",
       "      <td>1.61</td>\n",
       "      <td>10.90</td>\n",
       "    </tr>\n",
       "    <tr>\n",
       "      <th>381</th>\n",
       "      <td>Mohamed</td>\n",
       "      <td>M.Salah</td>\n",
       "      <td>LIV</td>\n",
       "      <td>Liverpool</td>\n",
       "      <td>MID</td>\n",
       "      <td>145.0</td>\n",
       "      <td>30.0</td>\n",
       "      <td>0.206897</td>\n",
       "      <td>0.066667</td>\n",
       "      <td>3.333333</td>\n",
       "      <td>36.1</td>\n",
       "      <td>49.5</td>\n",
       "      <td>3</td>\n",
       "      <td>5.7</td>\n",
       "      <td>450.0</td>\n",
       "      <td>1033448</td>\n",
       "      <td>115356</td>\n",
       "      <td>1337318</td>\n",
       "      <td>566560</td>\n",
       "      <td>2.0</td>\n",
       "      <td>2.0</td>\n",
       "      <td>4.0</td>\n",
       "      <td>1.22</td>\n",
       "      <td>0.69</td>\n",
       "      <td>1.91</td>\n",
       "      <td>2.094241</td>\n",
       "      <td>0.24</td>\n",
       "      <td>0.00</td>\n",
       "      <td>0.14</td>\n",
       "      <td>0.38</td>\n",
       "      <td>0.79</td>\n",
       "      <td>1.00</td>\n",
       "      <td>4.20</td>\n",
       "    </tr>\n",
       "  </tbody>\n",
       "</table>\n",
       "</div>"
      ],
      "text/plain": [
       "     first_name     web_name team_short       team_name position  price  \\\n",
       "id                                                                        \n",
       "72       Marcos       Senesi        BOU     Bournemouth      DEF   48.0   \n",
       "260        Marc        Guéhi        CRY  Crystal Palace      DEF   47.0   \n",
       "575       Micky   Van de Ven        TOT           Spurs      DEF   47.0   \n",
       "348         Joe        Rodon        LEE           Leeds      DEF   40.0   \n",
       "38         Ezri        Konsa        AVL     Aston Villa      DEF   45.0   \n",
       "249  João Pedro   João Pedro        CHE         Chelsea      FWD   78.0   \n",
       "430      Erling      Haaland        MCI        Man City      FWD  143.0   \n",
       "100  Eli Junior    Kroupi.Jr        BOU     Bournemouth      FWD   45.0   \n",
       "470      Martin     Dúbravka        BUR         Burnley      GKP   40.0   \n",
       "220      Robert      Sánchez        CHE         Chelsea      GKP   50.0   \n",
       "241      Moisés      Caicedo        CHE         Chelsea      MID   56.0   \n",
       "82      Antoine      Semenyo        BOU     Bournemouth      MID   77.0   \n",
       "427     Tijjani    Reijnders        MCI        Man City      MID   57.0   \n",
       "449       Bruno  B.Fernandes        MUN         Man Utd      MID   90.0   \n",
       "381     Mohamed      M.Salah        LIV       Liverpool      MID  145.0   \n",
       "\n",
       "     total_points  points_per_cost  points_per_minutes  fdr_next_6  ict_index  \\\n",
       "id                                                                              \n",
       "72           37.0         0.770833            0.082222    3.166667       20.2   \n",
       "260          36.0         0.765957            0.080000    3.333333       18.0   \n",
       "575          28.0         0.595745            0.063781    2.666667       16.3   \n",
       "348          22.0         0.550000            0.048889    2.666667       10.5   \n",
       "38           12.0         0.266667            0.035821    3.333333        8.5   \n",
       "249          35.0         0.448718            0.083333    2.833333       36.3   \n",
       "430          46.0         0.321678            0.111380    3.000000       52.2   \n",
       "100           3.0         0.066667            0.250000    3.166667        0.2   \n",
       "470          17.0         0.425000            0.037778    3.166667       14.3   \n",
       "220          16.0         0.320000            0.043956    2.833333        8.1   \n",
       "241          33.0         0.589286            0.073333    2.833333       26.0   \n",
       "82           41.0         0.532468            0.091111    3.166667       41.0   \n",
       "427          26.0         0.456140            0.057778    3.000000       28.4   \n",
       "449          26.0         0.288889            0.058296    3.166667       48.1   \n",
       "381          30.0         0.206897            0.066667    3.333333       36.1   \n",
       "\n",
       "     selected_by_percent  selected_rank  form  minutes  transfers_in  \\\n",
       "id                                                                     \n",
       "72                  16.5             22   8.7    450.0       1891122   \n",
       "260                 25.1             12   9.3    450.0       1831703   \n",
       "575                 34.0              6   5.3    439.0       1472832   \n",
       "348                  4.3             84   4.3    450.0        385168   \n",
       "38                  11.8             37   3.0    335.0        169683   \n",
       "249                 67.8              1   6.0    420.0       2569589   \n",
       "430                 46.4              4  10.3    413.0       2820444   \n",
       "100                  1.5            153   0.3     12.0        169786   \n",
       "470                 34.4              5   3.0    450.0        683404   \n",
       "220                 17.9             20   1.7    364.0        470040   \n",
       "241                 11.7             38   6.7    450.0        928117   \n",
       "82                  49.7              2   6.7    450.0       5146554   \n",
       "427                 33.4              7   4.7    450.0       2561841   \n",
       "449                 20.5             18   7.3    446.0       1041128   \n",
       "381                 49.5              3   5.7    450.0       1033448   \n",
       "\n",
       "     transfers_in_event  transfers_out  transfers_out_event  assists  \\\n",
       "id                                                                     \n",
       "72               684816         166601                22297      1.0   \n",
       "260              289957         377021                91562      1.0   \n",
       "575              259539         566459                91833      0.0   \n",
       "348              113504         134862                35304      0.0   \n",
       "38                20980        1052347               117254      0.0   \n",
       "249              277452         965482               207045      3.0   \n",
       "430             1092736         609517                72612      0.0   \n",
       "100               23119         124168                20876      0.0   \n",
       "470              111566         361589                66982      0.0   \n",
       "220               11287        1165864               489079      0.0   \n",
       "241              283709         309608                75812      0.0   \n",
       "82               674325         465917                51785      2.0   \n",
       "427              503862        1127002               106367      2.0   \n",
       "449              359599        1205100               123866      0.0   \n",
       "381              115356        1337318               566560      2.0   \n",
       "\n",
       "     goals_scored  goal_involvements  expected_goals  expected_assists  \\\n",
       "id                                                                       \n",
       "72            0.0                1.0            0.14              0.15   \n",
       "260           1.0                2.0            0.39              0.04   \n",
       "575           1.0                1.0            0.68              0.03   \n",
       "348           0.0                0.0            0.00              0.01   \n",
       "38            0.0                0.0            0.00              0.07   \n",
       "249           2.0                5.0            1.50              0.20   \n",
       "430           6.0                6.0            6.18              0.32   \n",
       "100           0.0                0.0            0.00              0.00   \n",
       "470           0.0                0.0            0.00              0.00   \n",
       "220           0.0                0.0            0.00              0.00   \n",
       "241           2.0                2.0            0.44              0.20   \n",
       "82            3.0                5.0            2.78              0.26   \n",
       "427           1.0                3.0            0.67              0.36   \n",
       "449           2.0                2.0            2.73              0.99   \n",
       "381           2.0                4.0            1.22              0.69   \n",
       "\n",
       "     expected_goal_involvements  GI_on_xGI  expected_goals_per_90  \\\n",
       "id                                                                  \n",
       "72                         0.29   3.448276                   0.03   \n",
       "260                        0.43   4.651163                   0.08   \n",
       "575                        0.71   1.408451                   0.14   \n",
       "348                        0.01   0.000000                   0.00   \n",
       "38                         0.07   0.000000                   0.00   \n",
       "249                        1.70   2.941176                   0.32   \n",
       "430                        6.50   0.923077                   1.35   \n",
       "100                        0.00        NaN                   0.00   \n",
       "470                        0.00        NaN                   0.00   \n",
       "220                        0.00        NaN                   0.00   \n",
       "241                        0.64   3.125000                   0.09   \n",
       "82                         3.04   1.644737                   0.56   \n",
       "427                        1.03   2.912621                   0.13   \n",
       "449                        3.72   0.537634                   0.55   \n",
       "381                        1.91   2.094241                   0.24   \n",
       "\n",
       "     saves_per_90  expected_assists_per_90  expected_goal_involvements_per_90  \\\n",
       "id                                                                              \n",
       "72           0.00                     0.03                               0.06   \n",
       "260          0.00                     0.01                               0.09   \n",
       "575          0.00                     0.01                               0.15   \n",
       "348          0.00                     0.00                               0.00   \n",
       "38           0.00                     0.02                               0.02   \n",
       "249          0.00                     0.04                               0.36   \n",
       "430          0.00                     0.07                               1.42   \n",
       "100          0.00                     0.00                               0.00   \n",
       "470          3.80                     0.00                               0.00   \n",
       "220          2.97                     0.00                               0.00   \n",
       "241          0.00                     0.04                               0.13   \n",
       "82           0.00                     0.05                               0.61   \n",
       "427          0.00                     0.07                               0.20   \n",
       "449          0.00                     0.20                               0.75   \n",
       "381          0.00                     0.14                               0.38   \n",
       "\n",
       "     expected_goals_conceded_per_90  goals_conceded_per_90  \\\n",
       "id                                                           \n",
       "72                             0.72                   1.00   \n",
       "260                            0.94                   0.40   \n",
       "575                            1.23                   0.62   \n",
       "348                            1.30                   1.40   \n",
       "38                             1.86                   1.07   \n",
       "249                            1.05                   0.86   \n",
       "430                            1.30                   0.87   \n",
       "100                            1.80                   7.50   \n",
       "470                            2.05                   1.60   \n",
       "220                            0.96                   1.24   \n",
       "241                            1.14                   1.00   \n",
       "82                             0.72                   1.00   \n",
       "427                            1.29                   1.00   \n",
       "449                            1.43                   1.61   \n",
       "381                            0.79                   1.00   \n",
       "\n",
       "     defensive_contribution_per_90  \n",
       "id                                  \n",
       "72                           13.20  \n",
       "260                           7.20  \n",
       "575                           5.54  \n",
       "348                           9.40  \n",
       "38                            4.84  \n",
       "249                           4.71  \n",
       "430                           4.36  \n",
       "100                           7.50  \n",
       "470                           0.00  \n",
       "220                           0.00  \n",
       "241                          14.80  \n",
       "82                            8.40  \n",
       "427                           6.40  \n",
       "449                          10.90  \n",
       "381                           4.20  "
      ]
     },
     "execution_count": 2,
     "metadata": {},
     "output_type": "execute_result"
    }
   ],
   "source": [
    "# Budget\n",
    "my_budget = 40.0  \n",
    "\n",
    "# Liste des noms des joueurs à ajouter\n",
    "selected_names = [\"Sánchez\", \"Dúbravka\", \"Guéhi\", \"Senesi\", \"Van de Ven\", \"Konsa\", \"Rodon\", \"M.Salah\", \"Reijnders\",  \n",
    "                   \"Semenyo\", \"B.Fernandes\", \"Caicedo\", \"\", \"João Pedro\", \"Haaland\", \"Kroupi.Jr\"]  # Remplace par les noms souhaités\n",
    "\n",
    "# Filtrer df_players pour obtenir les joueurs sélectionnés\n",
    "df_my_team = df_players[df_players[\"web_name\"].isin(selected_names)]\n",
    "\n",
    "# Afficher l'équipe sélectionnée\n",
    "df_my_team.sort_values(by = ['position'])"
   ]
  },
  {
   "cell_type": "code",
   "execution_count": 3,
   "id": "52140b34",
   "metadata": {},
   "outputs": [
    {
     "data": {
      "text/plain": [
       "np.float64(1008.0)"
      ]
     },
     "execution_count": 3,
     "metadata": {},
     "output_type": "execute_result"
    }
   ],
   "source": [
    "df_my_team.sum(numeric_only=True)['price'] # Coût total de l'équipe sélectionnée"
   ]
  },
  {
   "cell_type": "code",
   "execution_count": 4,
   "id": "72d4b82a",
   "metadata": {},
   "outputs": [],
   "source": [
    "# Je dois composer une équipe de 15 joueurs, je veux savoir si je peux l'améliorer en respectant les contraintes suivantes :\n",
    "# Mon budget est défini par la valeur my_budget (paramètre à modifier)\n",
    "# Je dois respecter la composition d'équipe suivante : 2 Gardiens (GKP), 5 Défenseurs (DEF), 5 Milieux (MID), 3 Attaquants (FWD)\n",
    "# Je ne peux pas avoir plus de 3 joueurs appartenant à la même équipe\n",
    "# Je veux maximiser le nombre de points que mon équipe peut potentiellement rapporter\n",
    "# Les critères me permettant de déterminer si un joueur va performer : les points_per_cost, l'ict_index, les points_per_minutes, le fdr_next_6 (plus la valeur est basse, plus le calendrier est facile et donc le joueur a de chances de performer)\n",
    "# La base de données df_players contient les informations nécessaires pour chaque joueur\n",
    "# A l'aide de Pulp, je vais résoudre ce problème d'optimisation linéaire en utilisant la programmation linéaire "
   ]
  },
  {
   "cell_type": "code",
   "execution_count": 5,
   "id": "50e03d6d",
   "metadata": {},
   "outputs": [
    {
     "name": "stdout",
     "output_type": "stream",
     "text": [
      "Corrélation entre ict_index et total_points : 0.880\n"
     ]
    }
   ],
   "source": [
    "corr = df_players['ict_index'].corr(df_players['total_points'])\n",
    "print(f\"Corrélation entre ict_index et total_points : {corr:.3f}\")\n"
   ]
  },
  {
   "cell_type": "code",
   "execution_count": 6,
   "id": "c8958aa4",
   "metadata": {},
   "outputs": [
    {
     "data": {
      "image/png": "[encoded data removed]",
      "text/plain": [
       "<Figure size 640x480 with 1 Axes>"
      ]
     },
     "metadata": {},
     "output_type": "display_data"
    }
   ],
   "source": [
    "sns.scatterplot(data=df_players, x='ict_index', y='total_points', hue='position')\n",
    "plt.title('ict_index vs total_points par position')\n",
    "plt.show()\n"
   ]
  },
  {
   "cell_type": "code",
   "execution_count": null,
   "id": "9ff3f80c",
   "metadata": {},
   "outputs": [
    {
     "data": {
      "image/png": "[encoded data removed]",
      "text/plain": [
       "<Figure size 832.5x500 with 1 Axes>"
      ]
     },
     "metadata": {},
     "output_type": "display_data"
    }
   ],
   "source": [
    "sns.lmplot(data=df_players, x='ict_index', y='points_per_cost', hue='position', aspect=1.5)\n",
    "plt.title('Relation linéaire entre ict_index et points_per_cost')\n",
    "plt.show()"
   ]
  },
  {
   "cell_type": "code",
   "execution_count": 8,
   "id": "09224312",
   "metadata": {},
   "outputs": [
    {
     "data": {
      "application/vnd.plotly.v1+json": {
       "config": {
        "plotlyServerURL": "https://plot.ly"
       },
       "data": [
        {
         "hovertemplate": "position=MID<br>ict_index=%{x}<br>points_per_cost=%{y}<br>web_name=%{text}<extra></extra>",
         "legendgroup": "MID",
         "marker": {
          "color": "#636efa",
          "symbol": "circle"
         },
         "mode": "markers+text",
         "name": "MID",
         "orientation": "v",
         "showlegend": true,
         "text": [
          "Anthony",
          "Caicedo",
          "Stach",
          "Cullen",
          "Semenyo",
          "Garner",
          "Zubimendi",
          "Gravenberch",
          "Reijnders",
          "Enzo",
          "Ndiaye",
          "Tavernier",
          "Minteh",
          "L.Paquetá",
          "Iwobi",
          "Xhaka",
          "Dewsbury-Hall",
          "P.M.Sarr",
          "Scott",
          "Kudus",
          "Bergvall",
          "Gana",
          "Grealish",
          "J.Palhinha",
          "Ndoye",
          "Anderson",
          "Ayari",
          "Gakpo",
          "Szoboszlai",
          "Talbi",
          "Wilson",
          "Rice",
          "E.Le Fée",
          "Brooks",
          "Henderson",
          "B.Fernandes",
          "Johnson",
          "O.Dango",
          "Mitoma",
          "Sarr",
          "Adams",
          "Yarmoliuk",
          "Doku",
          "Hudson-Odoi",
          "Lukić",
          "Wharton",
          "Tonali",
          "Damsgaard",
          "Gruda",
          "Berge",
          "Mbeumo",
          "Neto",
          "Carvalho",
          "Longstaff",
          "Ampadu",
          "Georginio",
          "McGinn",
          "Gomes",
          "Sessegnon",
          "Kamada",
          "Sadiki",
          "Hannibal",
          "Sangaré",
          "O'Riley",
          "Diarra",
          "Bruno G.",
          "M.Salah",
          "J.Murphy",
          "Hughes",
          "Tchaouna",
          "Adingra",
          "Bernardo",
          "Bobb",
          "Casemiro",
          "Okafor",
          "Summerville",
          "Foden",
          "Ward-Prowse",
          "Eze",
          "Hee Chan",
          "Schade",
          "Aaronson",
          "Kamara",
          "Munetsi",
          "Milner",
          "Onyeka",
          "King",
          "Amad",
          "Rogers",
          "Martinelli",
          "Gibbs-White",
          "Smith Rowe",
          "Mac Allister",
          "Bruun Larsen",
          "André",
          "Wieffer",
          "Rodrigo",
          "Ngumoha",
          "Barnes",
          "Bentancur",
          "C.Jones",
          "Madueke",
          "Laurent",
          "Ugarte",
          "Iroegbunam",
          "Gruev",
          "Chiesa",
          "Estêvão",
          "L.Miley",
          "Tielemans",
          "Merino",
          "Devenny",
          "James",
          "M.Fernandes",
          "Baleba",
          "Lerma",
          "Onana",
          "Wirtz",
          "Mount",
          "Joelinton",
          "Elanga",
          "J.Arias",
          "Malen",
          "Odobert",
          "Gnonto",
          "Cherki",
          "Fer López",
          "Bellegarde",
          "Dowman",
          "Marmoush",
          "Palmer",
          "Saka",
          "Jensen",
          "Tanaka",
          "Endo",
          "Trossard",
          "Ødegaard",
          "N.Gonzalez",
          "Ugochukwu",
          "Douglas Luiz",
          "Xavi",
          "Guessand",
          "Buendía",
          "Nwaneri",
          "Andrey Santos",
          "H.Traorè",
          "Yeremy",
          "Gray",
          "Florentino",
          "Willock",
          "Tel",
          "Hinshelwood",
          "Alcaraz",
          "Harrison",
          "Cunha",
          "Adli",
          "Souček",
          "Irving",
          "Gittens",
          "Mainoo",
          "Rigg",
          "Yates",
          "George",
          "Gomez",
          "Christie",
          "Kluivert",
          "McAtee",
          "Adama",
          "Elliott",
          "G.Rodriguez",
          "L.Guilherme",
          "Cairney",
          "S.Magassa",
          "J.Ramsey",
          "Hutchinson",
          "Bakwa",
          "Savinho",
          "Potts",
          "Burrowes",
          "Winterburn",
          "Armstrong",
          "Buonanotte",
          "Esse",
          "Edwards",
          "Cook",
          "Neil",
          "Janelt",
          "Röhl",
          "Milambo",
          "Roberts",
          "Jota",
          "Dibling",
          "McNeil",
          "Sancho",
          "Kevin",
          "Garnacho",
          "Gordon",
          "Fábio Vieira",
          "Nørgaard",
          "Kabia",
          "Sambi",
          "Harriman-Annous",
          "Bailey",
          "Iling Jr",
          "Barkley",
          "Barrenechea",
          "Dobbin",
          "Broggio",
          "Dendoncker",
          "Jimoh-Aloba",
          "Young",
          "Benson",
          "Boateng",
          "Churlinov",
          "Koleosho",
          "A.Ramsey",
          "Adewumi",
          "Banel",
          "Trésor",
          "Philip",
          "Sinisterra",
          "Faivre",
          "Sadi",
          "Silcott-Duberry",
          "Gannon-Doak",
          "Rees-Dottin",
          "Nelson",
          "Nunes",
          "Donovan",
          "Konak",
          "Maghoma",
          "Peart-Harris",
          "Trevitt",
          "March",
          "Enciso",
          "Sima",
          "Sarmiento",
          "Watson",
          "Yalcouye",
          "Knight",
          "Mazilu",
          "Moran",
          "Nkunku",
          "Lavia",
          "Mudryk",
          "D.Essugo",
          "Paez",
          "Doucouré",
          "Agbinone",
          "Ahamada",
          "Ebiowei",
          "J.Rak-Sakyi",
          "M.França",
          "Ozoh",
          "Rodney",
          "Umeh",
          "Cardines",
          "Bates",
          "Ebere",
          "Heath",
          "Metcalfe",
          "Onyango",
          "Andreas",
          "Godo",
          "Harris",
          "Reed",
          "Chukwueze",
          "Greenwood",
          "Ramazani",
          "Crew",
          "Gelhardt",
          "Gyabi",
          "Luis Díaz",
          "Bajcetic",
          "McConnell",
          "Morton",
          "Nyoni",
          "Gündoğan",
          "Kovačić",
          "Echeverri",
          "Nypan",
          "Phillips",
          "Mukasa",
          "Rashford",
          "Antony",
          "Collyer",
          "Fitzgerald",
          "J.Fletcher",
          "Kone",
          "Moorhouse",
          "Antoñito C.",
          "Hayden",
          "Kuol",
          "White",
          "Seung soo",
          "Dominguez",
          "O'Brien",
          "Da Silva Moreira",
          "Stamenic",
          "Aleksić",
          "Mundle",
          "Poveda",
          "Ba",
          "Browne",
          "Ekwah",
          "H.Jones",
          "Matete",
          "Triantis",
          "Traoré",
          "Son",
          "Maddison",
          "Kulusevski",
          "Bissouma",
          "Solomon",
          "Bryan",
          "Moore",
          "Min-hyeok",
          "Olusesi",
          "Álvarez",
          "Cornet",
          "Earthy",
          "Orford",
          "Guedes",
          "B.Traore",
          "Chirewa",
          "Edozie",
          "Gonzalez",
          "Hodge"
         ],
         "type": "scatter",
         "x": {
          "bdata": "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",
          "dtype": "f8"
         },
         "xaxis": "x",
         "y": {
          "bdata": "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",
          "dtype": "f8"
         },
         "yaxis": "y"
        }
       ],
       "layout": {
        "hovermode": "closest",
        "legend": {
         "title": {
          "text": "position"
         },
         "tracegroupgap": 0
        },
        "template": {
         "data": {
          "bar": [
           {
            "error_x": {
             "color": "#2a3f5f"
            },
            "error_y": {
             "color": "#2a3f5f"
            },
            "marker": {
             "line": {
              "color": "#E5ECF6",
              "width": 0.5
             },
             "pattern": {
              "fillmode": "overlay",
              "size": 10,
              "solidity": 0.2
             }
            },
            "type": "bar"
           }
          ],
          "barpolar": [
           {
            "marker": {
             "line": {
              "color": "#E5ECF6",
              "width": 0.5
             },
             "pattern": {
              "fillmode": "overlay",
              "size": 10,
              "solidity": 0.2
             }
            },
            "type": "barpolar"
           }
          ],
          "carpet": [
           {
            "aaxis": {
             "endlinecolor": "#2a3f5f",
             "gridcolor": "white",
             "linecolor": "white",
             "minorgridcolor": "white",
             "startlinecolor": "#2a3f5f"
            },
            "baxis": {
             "endlinecolor": "#2a3f5f",
             "gridcolor": "white",
             "linecolor": "white",
             "minorgridcolor": "white",
             "startlinecolor": "#2a3f5f"
            },
            "type": "carpet"
           }
          ],
          "choropleth": [
           {
            "colorbar": {
             "outlinewidth": 0,
             "ticks": ""
            },
            "type": "choropleth"
           }
          ],
          "contour": [
           {
            "colorbar": {
             "outlinewidth": 0,
             "ticks": ""
            },
            "colorscale": [
             [
              0,
              "#0d0887"
             ],
             [
              0.1111111111111111,
              "#46039f"
             ],
             [
              0.2222222222222222,
              "#7201a8"
             ],
             [
              0.3333333333333333,
              "#9c179e"
             ],
             [
              0.4444444444444444,
              "#bd3786"
             ],
             [
              0.5555555555555556,
              "#d8576b"
             ],
             [
              0.6666666666666666,
              "#ed7953"
             ],
             [
              0.7777777777777778,
              "#fb9f3a"
             ],
             [
              0.8888888888888888,
              "#fdca26"
             ],
             [
              1,
              "#f0f921"
             ]
            ],
            "type": "contour"
           }
          ],
          "contourcarpet": [
           {
            "colorbar": {
             "outlinewidth": 0,
             "ticks": ""
            },
            "type": "contourcarpet"
           }
          ],
          "heatmap": [
           {
            "colorbar": {
             "outlinewidth": 0,
             "ticks": ""
            },
            "colorscale": [
             [
              0,
              "#0d0887"
             ],
             [
              0.1111111111111111,
              "#46039f"
             ],
             [
              0.2222222222222222,
              "#7201a8"
             ],
             [
              0.3333333333333333,
              "#9c179e"
             ],
             [
              0.4444444444444444,
              "#bd3786"
             ],
             [
              0.5555555555555556,
              "#d8576b"
             ],
             [
              0.6666666666666666,
              "#ed7953"
             ],
             [
              0.7777777777777778,
              "#fb9f3a"
             ],
             [
              0.8888888888888888,
              "#fdca26"
             ],
             [
              1,
              "#f0f921"
             ]
            ],
            "type": "heatmap"
           }
          ],
          "histogram": [
           {
            "marker": {
             "pattern": {
              "fillmode": "overlay",
              "size": 10,
              "solidity": 0.2
             }
            },
            "type": "histogram"
           }
          ],
          "histogram2d": [
           {
            "colorbar": {
             "outlinewidth": 0,
             "ticks": ""
            },
            "colorscale": [
             [
              0,
              "#0d0887"
             ],
             [
              0.1111111111111111,
              "#46039f"
             ],
             [
              0.2222222222222222,
              "#7201a8"
             ],
             [
              0.3333333333333333,
              "#9c179e"
             ],
             [
              0.4444444444444444,
              "#bd3786"
             ],
             [
              0.5555555555555556,
              "#d8576b"
             ],
             [
              0.6666666666666666,
              "#ed7953"
             ],
             [
              0.7777777777777778,
              "#fb9f3a"
             ],
             [
              0.8888888888888888,
              "#fdca26"
             ],
             [
              1,
              "#f0f921"
             ]
            ],
            "type": "histogram2d"
           }
          ],
          "histogram2dcontour": [
           {
            "colorbar": {
             "outlinewidth": 0,
             "ticks": ""
            },
            "colorscale": [
             [
              0,
              "#0d0887"
             ],
             [
              0.1111111111111111,
              "#46039f"
             ],
             [
              0.2222222222222222,
              "#7201a8"
             ],
             [
              0.3333333333333333,
              "#9c179e"
             ],
             [
              0.4444444444444444,
              "#bd3786"
             ],
             [
              0.5555555555555556,
              "#d8576b"
             ],
             [
              0.6666666666666666,
              "#ed7953"
             ],
             [
              0.7777777777777778,
              "#fb9f3a"
             ],
             [
              0.8888888888888888,
              "#fdca26"
             ],
             [
              1,
              "#f0f921"
             ]
            ],
            "type": "histogram2dcontour"
           }
          ],
          "mesh3d": [
           {
            "colorbar": {
             "outlinewidth": 0,
             "ticks": ""
            },
            "type": "mesh3d"
           }
          ],
          "parcoords": [
           {
            "line": {
             "colorbar": {
              "outlinewidth": 0,
              "ticks": ""
             }
            },
            "type": "parcoords"
           }
          ],
          "pie": [
           {
            "automargin": true,
            "type": "pie"
           }
          ],
          "scatter": [
           {
            "fillpattern": {
             "fillmode": "overlay",
             "size": 10,
             "solidity": 0.2
            },
            "type": "scatter"
           }
          ],
          "scatter3d": [
           {
            "line": {
             "colorbar": {
              "outlinewidth": 0,
              "ticks": ""
             }
            },
            "marker": {
             "colorbar": {
              "outlinewidth": 0,
              "ticks": ""
             }
            },
            "type": "scatter3d"
           }
          ],
          "scattercarpet": [
           {
            "marker": {
             "colorbar": {
              "outlinewidth": 0,
              "ticks": ""
             }
            },
            "type": "scattercarpet"
           }
          ],
          "scattergeo": [
           {
            "marker": {
             "colorbar": {
              "outlinewidth": 0,
              "ticks": ""
             }
            },
            "type": "scattergeo"
           }
          ],
          "scattergl": [
           {
            "marker": {
             "colorbar": {
              "outlinewidth": 0,
              "ticks": ""
             }
            },
            "type": "scattergl"
           }
          ],
          "scattermap": [
           {
            "marker": {
             "colorbar": {
              "outlinewidth": 0,
              "ticks": ""
             }
            },
            "type": "scattermap"
           }
          ],
          "scattermapbox": [
           {
            "marker": {
             "colorbar": {
              "outlinewidth": 0,
              "ticks": ""
             }
            },
            "type": "scattermapbox"
           }
          ],
          "scatterpolar": [
           {
            "marker": {
             "colorbar": {
              "outlinewidth": 0,
              "ticks": ""
             }
            },
            "type": "scatterpolar"
           }
          ],
          "scatterpolargl": [
           {
            "marker": {
             "colorbar": {
              "outlinewidth": 0,
              "ticks": ""
             }
            },
            "type": "scatterpolargl"
           }
          ],
          "scatterternary": [
           {
            "marker": {
             "colorbar": {
              "outlinewidth": 0,
              "ticks": ""
             }
            },
            "type": "scatterternary"
           }
          ],
          "surface": [
           {
            "colorbar": {
             "outlinewidth": 0,
             "ticks": ""
            },
            "colorscale": [
             [
              0,
              "#0d0887"
             ],
             [
              0.1111111111111111,
              "#46039f"
             ],
             [
              0.2222222222222222,
              "#7201a8"
             ],
             [
              0.3333333333333333,
              "#9c179e"
             ],
             [
              0.4444444444444444,
              "#bd3786"
             ],
             [
              0.5555555555555556,
              "#d8576b"
             ],
             [
              0.6666666666666666,
              "#ed7953"
             ],
             [
              0.7777777777777778,
              "#fb9f3a"
             ],
             [
              0.8888888888888888,
              "#fdca26"
             ],
             [
              1,
              "#f0f921"
             ]
            ],
            "type": "surface"
           }
          ],
          "table": [
           {
            "cells": {
             "fill": {
              "color": "#EBF0F8"
             },
             "line": {
              "color": "white"
             }
            },
            "header": {
             "fill": {
              "color": "#C8D4E3"
             },
             "line": {
              "color": "white"
             }
            },
            "type": "table"
           }
          ]
         },
         "layout": {
          "annotationdefaults": {
           "arrowcolor": "#2a3f5f",
           "arrowhead": 0,
           "arrowwidth": 1
          },
          "autotypenumbers": "strict",
          "coloraxis": {
           "colorbar": {
            "outlinewidth": 0,
            "ticks": ""
           }
          },
          "colorscale": {
           "diverging": [
            [
             0,
             "#8e0152"
            ],
            [
             0.1,
             "#c51b7d"
            ],
            [
             0.2,
             "#de77ae"
            ],
            [
             0.3,
             "#f1b6da"
            ],
            [
             0.4,
             "#fde0ef"
            ],
            [
             0.5,
             "#f7f7f7"
            ],
            [
             0.6,
             "#e6f5d0"
            ],
            [
             0.7,
             "#b8e186"
            ],
            [
             0.8,
             "#7fbc41"
            ],
            [
             0.9,
             "#4d9221"
            ],
            [
             1,
             "#276419"
            ]
           ],
           "sequential": [
            [
             0,
             "#0d0887"
            ],
            [
             0.1111111111111111,
             "#46039f"
            ],
            [
             0.2222222222222222,
             "#7201a8"
            ],
            [
             0.3333333333333333,
             "#9c179e"
            ],
            [
             0.4444444444444444,
             "#bd3786"
            ],
            [
             0.5555555555555556,
             "#d8576b"
            ],
            [
             0.6666666666666666,
             "#ed7953"
            ],
            [
             0.7777777777777778,
             "#fb9f3a"
            ],
            [
             0.8888888888888888,
             "#fdca26"
            ],
            [
             1,
             "#f0f921"
            ]
           ],
           "sequentialminus": [
            [
             0,
             "#0d0887"
            ],
            [
             0.1111111111111111,
             "#46039f"
            ],
            [
             0.2222222222222222,
             "#7201a8"
            ],
            [
             0.3333333333333333,
             "#9c179e"
            ],
            [
             0.4444444444444444,
             "#bd3786"
            ],
            [
             0.5555555555555556,
             "#d8576b"
            ],
            [
             0.6666666666666666,
             "#ed7953"
            ],
            [
             0.7777777777777778,
             "#fb9f3a"
            ],
            [
             0.8888888888888888,
             "#fdca26"
            ],
            [
             1,
             "#f0f921"
            ]
           ]
          },
          "colorway": [
           "#636efa",
           "#EF553B",
           "#00cc96",
           "#ab63fa",
           "#FFA15A",
           "#19d3f3",
           "#FF6692",
           "#B6E880",
           "#FF97FF",
           "#FECB52"
          ],
          "font": {
           "color": "#2a3f5f"
          },
          "geo": {
           "bgcolor": "white",
           "lakecolor": "white",
           "landcolor": "#E5ECF6",
           "showlakes": true,
           "showland": true,
           "subunitcolor": "white"
          },
          "hoverlabel": {
           "align": "left"
          },
          "hovermode": "closest",
          "mapbox": {
           "style": "light"
          },
          "paper_bgcolor": "white",
          "plot_bgcolor": "#E5ECF6",
          "polar": {
           "angularaxis": {
            "gridcolor": "white",
            "linecolor": "white",
            "ticks": ""
           },
           "bgcolor": "#E5ECF6",
           "radialaxis": {
            "gridcolor": "white",
            "linecolor": "white",
            "ticks": ""
           }
          },
          "scene": {
           "xaxis": {
            "backgroundcolor": "#E5ECF6",
            "gridcolor": "white",
            "gridwidth": 2,
            "linecolor": "white",
            "showbackground": true,
            "ticks": "",
            "zerolinecolor": "white"
           },
           "yaxis": {
            "backgroundcolor": "#E5ECF6",
            "gridcolor": "white",
            "gridwidth": 2,
            "linecolor": "white",
            "showbackground": true,
            "ticks": "",
            "zerolinecolor": "white"
           },
           "zaxis": {
            "backgroundcolor": "#E5ECF6",
            "gridcolor": "white",
            "gridwidth": 2,
            "linecolor": "white",
            "showbackground": true,
            "ticks": "",
            "zerolinecolor": "white"
           }
          },
          "shapedefaults": {
           "line": {
            "color": "#2a3f5f"
           }
          },
          "ternary": {
           "aaxis": {
            "gridcolor": "white",
            "linecolor": "white",
            "ticks": ""
           },
           "baxis": {
            "gridcolor": "white",
            "linecolor": "white",
            "ticks": ""
           },
           "bgcolor": "#E5ECF6",
           "caxis": {
            "gridcolor": "white",
            "linecolor": "white",
            "ticks": ""
           }
          },
          "title": {
           "x": 0.05
          },
          "xaxis": {
           "automargin": true,
           "gridcolor": "white",
           "linecolor": "white",
           "ticks": "",
           "title": {
            "standoff": 15
           },
           "zerolinecolor": "white",
           "zerolinewidth": 2
          },
          "yaxis": {
           "automargin": true,
           "gridcolor": "white",
           "linecolor": "white",
           "ticks": "",
           "title": {
            "standoff": 15
           },
           "zerolinecolor": "white",
           "zerolinewidth": 2
          }
         }
        },
        "title": {
         "text": "ict_index vs points_per_cost (Hover pour nom du joueur)"
        },
        "xaxis": {
         "anchor": "y",
         "domain": [
          0,
          1
         ],
         "title": {
          "text": "ict_index"
         }
        },
        "yaxis": {
         "anchor": "x",
         "domain": [
          0,
          1
         ],
         "title": {
          "text": "points_per_cost"
         }
        }
       }
      }
     },
     "metadata": {},
     "output_type": "display_data"
    }
   ],
   "source": [
    "import plotly.express as px\n",
    "\n",
    "fig = px.scatter(\n",
    "    df_players[df_players['position'] == 'MID'],  # Filtrer pour éviter les joueurs sans minutes\n",
    "    x='ict_index',\n",
    "    y='points_per_cost',\n",
    "    text='web_name',  # Affiche le nom au survol\n",
    "    color='position', # Optionnel, couleur par poste\n",
    "    title='ict_index vs points_per_cost (Hover pour nom du joueur)'\n",
    ")\n",
    "\n",
    "fig.update_traces(marker=dict(size=10, opacity=0.7),\n",
    "                  selector=dict(mode='markers'))\n",
    "fig.update_layout(hovermode='closest')\n",
    "fig.show()"
   ]
  },
  {
   "cell_type": "code",
   "execution_count": 9,
   "id": "cc23512f",
   "metadata": {},
   "outputs": [
    {
     "data": {
      "image/png": "[encoded data removed]",
      "text/plain": [
       "<Figure size 832.5x500 with 1 Axes>"
      ]
     },
     "metadata": {},
     "output_type": "display_data"
    }
   ],
   "source": [
    "sns.lmplot(data=df_players, x='expected_goal_involvements', y='goal_involvements', hue='position', aspect=1.5)\n",
    "plt.title('Relation linéaire entre expected_goal_involvements et goal_involvements')\n",
    "plt.show()\n"
   ]
  },
  {
   "cell_type": "code",
   "execution_count": 10,
   "id": "60c5829e",
   "metadata": {},
   "outputs": [
    {
     "data": {
      "application/vnd.plotly.v1+json": {
       "config": {
        "plotlyServerURL": "https://plot.ly"
       },
       "data": [
        {
         "hovertemplate": "position=DEF<br>expected_goal_involvements=%{x}<br>goal_involvements=%{y}<br>web_name=%{text}<extra></extra>",
         "legendgroup": "DEF",
         "marker": {
          "color": "#636efa",
          "symbol": "circle"
         },
         "mode": "markers+text",
         "name": "DEF",
         "orientation": "v",
         "showlegend": true,
         "text": [
          "Senesi",
          "Guéhi",
          "Chalobah",
          "Burn",
          "Calafiori",
          "Livramento",
          "J.Timber",
          "Mitchell",
          "Van de Ven",
          "Lacroix",
          "Richards",
          "Romero",
          "Alderete",
          "Rodon",
          "Cash",
          "Truffert",
          "Gudmundsson",
          "Andersen",
          "Mings",
          "Ekdal",
          "Tarkowski",
          "Diakité",
          "Muñoz",
          "Mukiele",
          "Keane",
          "Struijk",
          "Virgil",
          "Hume",
          "Spence",
          "Trippier",
          "Schär",
          "Ballard",
          "Gabriel",
          "Diouf",
          "Estève",
          "Pedro Porro",
          "Bogle",
          "Bassey",
          "Konaté",
          "Van den Berg",
          "Hartman",
          "Reinildo",
          "Botman",
          "Tete",
          "Kayode",
          "Digne",
          "Cucurella",
          "O'Brien",
          "Maguire",
          "Saliba",
          "De Ligt",
          "Collins",
          "Lewis-Potter",
          "Rúben",
          "Dunk",
          "Yoro",
          "N.Williams",
          "Bogarde",
          "Mavropanos",
          "Agbadou",
          "Konsa",
          "O’Reilly",
          "Lewis",
          "Hill",
          "Tosin",
          "Walker",
          "Acheampong",
          "James",
          "R.Gomes",
          "Kilman",
          "Walker-Peters",
          "Gusto",
          "Mosquera",
          "Khusanov",
          "Dorgu",
          "Kerkez",
          "Mazraoui",
          "Smith",
          "Van Hecke",
          "Krejčí",
          "Shaw",
          "Gvardiol",
          "Aït-Nouri",
          "Hall",
          "Stones",
          "Thiaw",
          "H.Bueno",
          "Veltman",
          "Milenković",
          "Dalot",
          "Ajer",
          "Møller Wolfe",
          "Murillo",
          "Aina",
          "De Cuyper",
          "F.Kadıoğlu",
          "White",
          "Toti",
          "S.Bueno",
          "Tchatchoua",
          "Milosavljević",
          "Frimpong",
          "Matheus N.",
          "Sonne",
          "Worrall",
          "Udogie",
          "Castagne",
          "N.Aguerd",
          "Mosquera",
          "Pau",
          "Henry",
          "Fofana",
          "J.Cuenca",
          "Aké",
          "Hoever",
          "Seelt",
          "Hickey",
          "Justin",
          "Danso",
          "Maatsen",
          "Morato",
          "Coppola",
          "Geertruida",
          "Zinchenko",
          "Mykolenko",
          "Bradley",
          "Robinson",
          "Gomez",
          "Lewis-Skelly",
          "Heaven",
          "Byram",
          "Clyne",
          "Masuaku",
          "Soler",
          "Wan-Bissaka",
          "Todibo",
          "Lascelles",
          "Coleman",
          "Lindelöf",
          "Robertson",
          "Pinnock",
          "Doherty",
          "Savona",
          "A.Jimenez",
          "Hato",
          "Kiwior",
          "Clarke",
          "Kacurri",
          "Nichols",
          "Hincapie",
          "A.García",
          "Alex Moreno",
          "Sousa",
          "Yasin",
          "Rowe",
          "Patterson",
          "Roberts",
          "Delcroix",
          "Dodgson",
          "Humphreys",
          "Jordan",
          "Lucas Pires",
          "Sambo",
          "Tuanzebe",
          "Zabarnyi",
          "Akinmboni",
          "Bevan",
          "J.Araujo",
          "Mepham",
          "Roerslev",
          "Arthur",
          "Fredrick",
          "Ji-soo",
          "Meghoma",
          "Boscagli",
          "Estupiñan",
          "Lamptey",
          "Webster",
          "Cashin",
          "Slater",
          "Tasker",
          "Colwill",
          "B.Badiashile",
          "M.Sarr",
          "Anselmino",
          "Sosa",
          "Chadi Riad",
          "Holding",
          "Kporha",
          "Canvot",
          "Branthwaite",
          "Patterson",
          "Dixon",
          "Welch",
          "Aznou",
          "Campbell",
          "Diop",
          "Amissah",
          "Bijol",
          "Bornauw",
          "Schmidt",
          "Tsimikas",
          "Nallo",
          "R.Williams",
          "Ramsay",
          "Leoni",
          "Akanji",
          "Vitor Reis",
          "Mfuni",
          "Martinez",
          "D.Leon",
          "Amass",
          "Fredricson",
          "Malacia",
          "Krafth",
          "A.Murphy",
          "Ashby",
          "Pivas",
          "Targett",
          "David Carmo",
          "Jair Cunha",
          "O.Richards",
          "Abbott",
          "Boly",
          "Cuiabano",
          "Alese",
          "Anderson",
          "Cirkin",
          "Hjelde",
          "Huggins",
          "Johnson",
          "O'Nien",
          "Pembele",
          "Davies",
          "Dragusin",
          "Phillips",
          "Takai",
          "Vuskovic",
          "Igor",
          "Emerson",
          "Scarles",
          "Casey",
          "Meupiyou",
          "Pedro Lima",
          "Pond"
         ],
         "type": "scatter",
         "x": {
          "bdata": "j8L1KFyP0j+F61G4HoXbP83MzMzMzPQ/w/UoXI/CxT+PwvUoXI/6P3sUrkfhetQ/7FG4HoXr9T/Xo3A9CtfjP7gehetRuOY/KVyPwvUo3D9mZmZmZmbWP6RwPQrXo9A/KVyPwvUo3D97FK5H4XqEP+F6FK5H4eI/9ihcj8L12D+kcD0K16PgP4/C9Shcj/I/4XoUrkfh2j97FK5H4XrEP0jhehSuR9E/exSuR+F6pD8AAAAAAAD4P65H4XoUrtc/hetRuB6F4z+kcD0K16PQP+xRuB6F69E/j8L1KFyP0j8zMzMzMzPTP2ZmZmZmZtY/MzMzMzMzwz+uR+F6FK7XPzMzMzMzM9M/PQrXo3A96j8K16NwPQrHP2ZmZmZmZu4/CtejcD0Kxz/hehSuR+HKP+F6FK5H4eI/uB6F61G4zj9SuB6F61HgP7gehetRuK4/AAAAAAAAAAAAAAAAAADgP8P1KFyPwsU/MzMzMzMz0z8UrkfhehTmP5qZmZmZmdk/KVyPwvUozD97FK5H4XrEP1K4HoXrUeg/w/UoXI/CxT8K16NwPQrHP5qZmZmZmbk/cT0K16NwzT/Xo3A9CtfTP8P1KFyPwtU/mpmZmZmZqT/Xo3A9CtfTP3sUrkfheuQ/7FG4HoXrsT/sUbgeheuxPxSuR+F6FOY/MzMzMzMzwz8pXI/C9Si8P8P1KFyPwsU/mpmZmZmZuT+PwvUoXI/iP5qZmZmZmek/4XoUrkfh2j8K16NwPQrHPwrXo3A9Crc/exSuR+F6pD97FK5H4XqUP0jhehSuR+k/MzMzMzMzwz+kcD0K16PAPwrXo3A9Crc/cT0K16Nw3T8pXI/C9SjsP1K4HoXrUcg/AAAAAAAAAACkcD0K16PgPwrXo3A9Crc/exSuR+F6pD97FK5H4XqUP+F6FK5H4eI/exSuR+F6hD/hehSuR+HKPylcj8L1KOQ/AAAAAAAA4D+4HoXrUbi+P5qZmZmZmck/CtejcD0K1z8UrkfhehTeP7gehetRuL4/exSuR+F6lD/sUbgeheuxP5qZmZmZmak/exSuR+F6pD8K16NwPQrHPylcj8L1KLw/exSuR+F6lD8pXI/C9Si8PwAAAAAAAAAAw/UoXI/CxT/NzMzMzMzcP6RwPQrXo8A/mpmZmZmZqT+amZmZmZnJP1K4HoXrUcg/exSuR+F6hD97FK5H4XqEP4/C9Shcj9I/uB6F61G4zj97FK5H4XqEPwAAAAAAAAAAAAAAAAAAAAAAAAAAAAAAANejcD0K19M/exSuR+F6hD8AAAAAAAAAAAAAAAAAAAAAKVyPwvUovD+4HoXrUbjOP1K4HoXrUcg/uB6F61G4rj8AAAAAAAAAAAAAAAAAAAAAAAAAAAAAAAAAAAAAAAAAAAAAAAAAAAAAAAAAAAAAAAAAAAAAAAAAAKRwPQrXo8A/exSuR+F6hD8AAAAAAAAAAAAAAAAAAAAAAAAAAAAAAABSuB6F61HgP3sUrkfheqQ/uB6F61G4nj8AAAAAAAAAALgehetRuK4/exSuR+F6hD8AAAAAAAAAAAAAAAAAAAAAAAAAAAAAAAAAAAAAAAAAAAAAAAAAAAAAAAAAAAAAAAAAAAAAAAAAAAAAAAAAAAAAAAAAAAAAAAAAAAAAAAAAAAAAAAAAAAAAAAAAAAAAAAAAAAAAAAAAAAAAAAAAAAAAAAAAAAAAAAAAAAAAAAAAAAAAAAAAAAAAAAAAAAAAAAAAAAAAAAAAAAAAAAAAAAAAAAAAAAAAAAAAAAAAAAAAAAAAAAAAAAAAAAAAAAAAAAAAAAAAAAAAAAAAAAAAAAAAAAAAAAAAAAAAAAAAAAAAAAAAAAAAAAAAAAAAAAAAAAAAAAAAAAAAAAAAAAAAAAAAAAAAAAAAAAAAAAAAAAAAAAAAAAAAAAAAAAAAAAAAAAAAAAAAAAAAAAAAAAAAAAAAAAAAAAAAAAAAAAAAAAAAAAAAAAAAAAAAAAAAAAAAAAAAAAAAAAAAAAAAAAAAAAAAAAAAAAAAAAAAAAAAAAAAAAAAAAAAAAAAAAAAAAAAAAAAAAAAAAAAAAAAAAAAAAAAAAAAAAAAAAAAAAAAAAAAAAAAAAAAAAAAAAAAAAAAAAAAAAAAAAAAAAAAAAAAAAAAAAAAAAAAAAAAAAAAAAAAAAAAAAAAAAAAAAAAAAAAAAAAAAAAAAAAAAAAAAAAAAAAAAAAAAAAAAAAAAAAAAAAAAAAAAAAAAAAAAAAAAAAAAAAAAAAAAAAAAAAAAAAAAAAAAAAAAAAAAAAAAAAAAAAAAAAAAAAAAAAAAAAAAAAAAAAAAAAAAAAAAAAAAAAAAAAAAAAAAAAAAAAAAAAAAAAAAAAAAAAAAAAAAAAAAAAAAAAAAAAAAAAAAAAAAAAAAAAAAAAAAAAAAAAAAAAAAAAAAAAAAAAAAAAAAAAAAAAAAAAAAAAAAAAAAAAAAAAAAAAAAAAAAAAAAAAAAAAAAAAAAAAAAAAAAAAAAAAAAAAAAAAAAAAAAAAAAAAAAAAAAAAAAAAAAAAAAAAAAAAAAAAAAAAAAAAAAAAAAAAAAAAAAAAAAAAAAAAAAAAAAAAAAAAAAAAAAAAAAAAAAAAAAAAAA==",
          "dtype": "f8"
         },
         "xaxis": "x",
         "y": {
          "bdata": "AAAAAAAA8D8AAAAAAAAAQAAAAAAAAAhAAAAAAAAAAAAAAAAAAAAIQAAAAAAAAPA/AAAAAAAACEAAAAAAAADwPwAAAAAAAPA/AAAAAAAA8D8AAAAAAAAAAAAAAAAAAPA/AAAAAAAA8D8AAAAAAAAAAAAAAAAAAPA/AAAAAAAAAAAAAAAAAAAAAAAAAAAAAAAAAAAAAAAAAAAAAAAAAAAAAAAAAAAAAAAAAAAAAAAAAAAAAAAAAADwPwAAAAAAAAAAAAAAAAAAAAAAAAAAAAAAAAAAAAAAAAAAAAAAAAAAAAAAAAAAAAAAAAAAAAAAAAAAAAAAAAAAAAAAAAAAAADwPwAAAAAAAAAAAAAAAAAACEAAAAAAAAAAAAAAAAAAAAAAAAAAAAAA8D8AAAAAAAAAAAAAAAAAAAAAAAAAAAAAAAAAAAAAAAAAAAAAAAAAAAAAAAAAAAAAAAAAAAAAAAAAAAAAAAAAAAAAAAAAAAAAAAAAAAAAAADwPwAAAAAAAAAAAAAAAAAA8D8AAAAAAAAAAAAAAAAAAAAAAAAAAAAAAAAAAAAAAAAAAAAAAAAAAAAAAAAAAAAA8D8AAAAAAADwPwAAAAAAAPA/AAAAAAAAAAAAAAAAAAAAAAAAAAAAAAAAAAAAAAAAAAAAAAAAAAAAAAAAAAAAAPA/AAAAAAAAAAAAAAAAAAAAAAAAAAAAAAAAAAAAAAAAAAAAAAAAAADwPwAAAAAAAPA/AAAAAAAAAAAAAAAAAAAAAAAAAAAAAAAAAAAAAAAAAAAAAAAAAAAAAAAAAAAAAPA/AAAAAAAAAAAAAAAAAAAAAAAAAAAAAAAAAAAAAAAAAAAAAAAAAADwPwAAAAAAAAAAAAAAAAAAAAAAAAAAAAAAAAAAAAAAAAAAAAAAAAAAAAAAAAAAAAAAAAAAAAAAAAAAAAAAAAAAAAAAAAAAAAAAAAAAAAAAAPA/AAAAAAAA8D8AAAAAAADwPwAAAAAAAAAAAAAAAAAAAAAAAAAAAAAAAAAAAAAAAAAAAAAAAAAAAAAAAAAAAAAAAAAAAAAAAAAAAAAAAAAAAAAAAAAAAAAAAAAAAAAAAPA/AAAAAAAAAAAAAAAAAAAAAAAAAAAAAAAAAAAAAAAAAAAAAAAAAAAAAAAAAAAAAAAAAAAAAAAAAAAAAAAAAAAAAAAAAAAAAAAAAAAAAAAAAAAAAAAAAAAAAAAAAAAAAAAAAAAAAAAAAAAAAAAAAAAAAAAAAAAAAAAAAAAAAAAAAAAAAAAAAAAAAAAAAAAAAAAAAAAAAAAAAAAAAAAAAAAAAAAAAAAAAAAAAAAAAAAAAAAAAAAAAAAAAAAAAAAAAAAAAAAAAAAAAAAAAAAAAAAAAAAAAAAAAAAAAAAAAAAAAAAAAAAAAAAAAAAAAAAAAAAAAAAAAAAAAAAAAAAAAAAAAAAAAAAAAAAAAAAAAAAAAAAAAAAAAAAAAAAAAAAAAAAAAAAAAAAAAAAAAAAAAAAAAAAAAAAAAAAAAAAAAAAAAAAAAAAAAAAAAAAAAAAAAAAAAAAAAAAAAAAAAAAAAAAAAAAAAAAAAAAAAAAAAAAAAAAAAAAAAAAAAAAAAAAAAAAAAAAAAAAAAAAAAAAAAAAAAAAAAAAAAAAAAAAAAAAAAAAAAAAAAAAAAAAAAAAAAAAAAAAAAAAAAAAAAAAAAAAAAAAAAAAAAAAAAAAAAAAAAAAAAAAAAAAAAAAAAAAAAAAAAAAAAAAAAAAAAAAAAAAAAAAAAAAAAAAAAAAAAAAAAAAAAAAAAAAAAAAAAAAAAAAAAAAAAAAAAAAAAAAAAAAAAAAAAAAAAAAAAAAAAAAAAAAAAAAAAAAAAAAAAAAAAAAAAAAAAAAAAAAAAAAAAAAAAAAAAAAAAAAAAAAAAAAAAAAAAAAAAAAAAAAAAAAAAAAAAAAAAAAAAAAAAAAAAAAAAAAAAAAAAAAAAAAAAAAAAAAAAAAAAAAAAAAAAAAAAAAAAAAAAAAAAAAAAAAAAAAAAAAAAAAAAAAAAAAAAAAAAAAAAAAAAAAAAAAAAAAAAAAAAAAAAAAAAAAAAAAAAAAAAAAAAAAAAAAAAAAAAAAAAAAAAAAAAAAAAAAAAAAAAAAAAAAAAAAAAAAAAAAAAAAAAAAAAAAAAAAAAAAAAAAAAAAAAAAAAAAAAAAAAAAAAAAAAAAAAAAAAAAAAAAAAAAAAAAAAAAAAAAAAAAAAAAAAAAAAAAAAAAAAAAAAAAAAAAAAAAAAAAAAAAAAAAAAAAAAAAAAAAAAAAAAAAAAAAAAAAAAAAAAAAAAAAAAAAAAAAAAAAAAAAAAAAAAAAAAAAAAAAAAAAAAAAAAAAAAAAAAAAAAAAAAAAAAAAAAAAAAAAAAAAAAAAAAAAAAAAAAAAAAAAAAAAAAAAAAAAAAAAAAAAAAAAAAAAAAAAAAAAAAAAAAAAAAAAAAAAAAAAAAAAAAAAAAAAAAAAAAAAAAAAAAAAAAAAAAAAAAAAAAAAAAAAAAAAAAAAAAAAAAAAAAAAAAAAAAAAAAAAAAAAAAAAAAAAAAAAAAAAAAAAAAAAAAAAAAAAAAAAAAAAAAAAAAAAAAAAAAAAAAAAAAAAAAAAAAAAAAAAAAAAAAA==",
          "dtype": "f8"
         },
         "yaxis": "y"
        },
        {
         "hovertemplate": "position=GKP<br>expected_goal_involvements=%{x}<br>goal_involvements=%{y}<br>web_name=%{text}<extra></extra>",
         "legendgroup": "GKP",
         "marker": {
          "color": "#EF553B",
          "symbol": "circle"
         },
         "mode": "markers+text",
         "name": "GKP",
         "orientation": "v",
         "showlegend": true,
         "text": [
          "Roefs",
          "Pope",
          "Vicario",
          "Petrović",
          "Raya",
          "Pickford",
          "Henderson",
          "Dúbravka",
          "Leno",
          "A.Becker",
          "Sánchez",
          "Perri",
          "Trafford",
          "Kelleher",
          "Martinez",
          "Sels",
          "Hermansen",
          "Bayindir",
          "Verbruggen",
          "M.Bizot",
          "Darlow",
          "Donnarumma",
          "José Sá",
          "Johnstone",
          "Areola",
          "Jörgensen",
          "Arrizabalaga",
          "Hein",
          "Setford",
          "Gauci",
          "Marschall",
          "Wright",
          "Proctor",
          "Weiss",
          "Green",
          "Hladký",
          "Neto",
          "Dennis",
          "McKenna",
          "Paulsen",
          "Balcombe",
          "Cox",
          "Eyestone",
          "Valdimarsson",
          "Steele",
          "McGill",
          "Rushworth",
          "Scherpen",
          "Penders",
          "Slonina",
          "Benitez",
          "Matthews",
          "Travers",
          "Tyrer",
          "King",
          "Benda",
          "Lecomte",
          "Meslier",
          "Cairns",
          "Mamardashvili",
          "Pécsi",
          "Woodman",
          "Ederson M.",
          "Ortega Moreno",
          "Bettinelli",
          "Onana",
          "Harrison",
          "Heaton",
          "Mee",
          "Lammens",
          "Gillespie",
          "Odysseas",
          "Ramsdale",
          "C.Miguel",
          "Turner",
          "Gunn",
          "John",
          "Patterson",
          "Moore",
          "Nna Noukeu",
          "Austin",
          "Kinsky",
          "Foderingham",
          "Hegyi",
          "Fabianski",
          "Bentley"
         ],
         "type": "scatter",
         "x": {
          "bdata": "AAAAAAAAAAAAAAAAAAAAAHsUrkfheoQ/AAAAAAAAAAC4HoXrUbieP3sUrkfheqQ/uB6F61G4nj8AAAAAAAAAAAAAAAAAAAAAexSuR+F6hD8AAAAAAAAAAAAAAAAAAAAAAAAAAAAAAAB7FK5H4XqEP3sUrkfheoQ/AAAAAAAAAAB7FK5H4XqEP3sUrkfheqQ/exSuR+F6hD8AAAAAAAAAAAAAAAAAAAAAAAAAAAAAAAC4HoXrUbiePwAAAAAAAAAAAAAAAAAAAAAAAAAAAAAAAAAAAAAAAAAAAAAAAAAAAAAAAAAAAAAAAAAAAAAAAAAAAAAAAAAAAAAAAAAAAAAAAAAAAAAAAAAAAAAAAAAAAAAAAAAAAAAAAAAAAAAAAAAAAAAAAAAAAAAAAAAAAAAAAAAAAAAAAAAAAAAAAAAAAAAAAAAAAAAAAAAAAAAAAAAAAAAAAAAAAAAAAAAAAAAAAAAAAAAAAAAAAAAAAAAAAAAAAAAAAAAAAAAAAAAAAAAAAAAAAAAAAAAAAAAAAAAAAAAAAAAAAAAAAAAAAAAAAAAAAAAAAAAAAAAAAAAAAAAAAAAAAAAAAAAAAAAAAAAAAAAAAAAAAAAAAAAAAAAAAAAAAAAAAAAAAAAAAAAAAAAAAAAAAAAAAAAAAAAAAAAAAAAAAAAAAAAAAAAAAAAAAAAAAAAAAAAAAAAAAAAAAAAAAAAAAAAAAAAAAAAAAAAAAAAAAAAAAAAAAAAAAAAAAAAAAAAAAAAAAAAAAAAAAAAAAAAAAAAAAAAAAAAAAAAAAAAAAAAAAAAAAAAAAAAAAAAAAAAAAAAAAAAAAAAAAAAAAAAAAAAAAAAAAAAAAAAAAAAAAAAAAAAAAAAAAAAAAAAAAAAAAAAAAAAAAAAAAAAAAAAAAAAAAAAAAAAAAAAAAA==",
          "dtype": "f8"
         },
         "xaxis": "x",
         "y": {
          "bdata": "AAAAAAAAAAAAAAAAAADwPwAAAAAAAAAAAAAAAAAAAAAAAAAAAAAAAAAAAAAAAAAAAAAAAAAAAAAAAAAAAAAAAAAAAAAAAAAAAAAAAAAAAAAAAAAAAAAAAAAAAAAAAAAAAAAAAAAAAAAAAAAAAAAAAAAAAAAAAAAAAAAAAAAAAAAAAAAAAAAAAAAAAAAAAAAAAAAAAAAAAAAAAAAAAAAAAAAAAAAAAAAAAAAAAAAAAAAAAAAAAAAAAAAAAAAAAAAAAAAAAAAAAAAAAAAAAAAAAAAAAAAAAAAAAAAAAAAAAAAAAAAAAAAAAAAAAAAAAAAAAAAAAAAAAAAAAAAAAAAAAAAAAAAAAAAAAAAAAAAAAAAAAAAAAAAAAAAAAAAAAAAAAAAAAAAAAAAAAAAAAAAAAAAAAAAAAAAAAAAAAAAAAAAAAAAAAAAAAAAAAAAAAAAAAAAAAAAAAAAAAAAAAAAAAAAAAAAAAAAAAAAAAAAAAAAAAAAAAAAAAAAAAAAAAAAAAAAAAAAAAAAAAAAAAAAAAAAAAAAAAAAAAAAAAAAAAAAAAAAAAAAAAAAAAAAAAAAAAAAAAAAAAAAAAAAAAAAAAAAAAAAAAAAAAAAAAAAAAAAAAAAAAAAAAAAAAAAAAAAAAAAAAAAAAAAAAAAAAAAAAAAAAAAAAAAAAAAAAAAAAAAAAAAAAAAAAAAAAAAAAAAAAAAAAAAAAAAAAAAAAAAAAAAAAAAAAAAAAAAAAAAAAAAAAAAAAAAAAAAAAAAAAAAAAAAAAAAAAAAAAAAAAAAAAAAAAAAAAAAAAAAAAAAAAAAAAAAAAAAAAAAAAAAAAAAAAAAAAAAAAAAAAAAAAAAAAAAAAAAAAAAAAAAAAAAAAAAAAAAAAAAAAAAAAAAAAAAAAAAAAAAAAAAAAAAAAAAAAA==",
          "dtype": "f8"
         },
         "yaxis": "y"
        },
        {
         "hovertemplate": "position=MID<br>expected_goal_involvements=%{x}<br>goal_involvements=%{y}<br>web_name=%{text}<extra></extra>",
         "legendgroup": "MID",
         "marker": {
          "color": "#00cc96",
          "symbol": "circle"
         },
         "mode": "markers+text",
         "name": "MID",
         "orientation": "v",
         "showlegend": true,
         "text": [
          "Anthony",
          "Caicedo",
          "Stach",
          "Cullen",
          "Semenyo",
          "Garner",
          "Zubimendi",
          "Gravenberch",
          "Reijnders",
          "Enzo",
          "Ndiaye",
          "Tavernier",
          "Minteh",
          "L.Paquetá",
          "Iwobi",
          "Xhaka",
          "Dewsbury-Hall",
          "P.M.Sarr",
          "Scott",
          "Kudus",
          "Bergvall",
          "Gana",
          "Grealish",
          "J.Palhinha",
          "Ndoye",
          "Anderson",
          "Ayari",
          "Gakpo",
          "Szoboszlai",
          "Talbi",
          "Wilson",
          "Rice",
          "E.Le Fée",
          "Brooks",
          "Henderson",
          "B.Fernandes",
          "Johnson",
          "O.Dango",
          "Mitoma",
          "Sarr",
          "Adams",
          "Yarmoliuk",
          "Doku",
          "Hudson-Odoi",
          "Lukić",
          "Wharton",
          "Tonali",
          "Damsgaard",
          "Gruda",
          "Berge",
          "Mbeumo",
          "Neto",
          "Carvalho",
          "Longstaff",
          "Ampadu",
          "Georginio",
          "McGinn",
          "Gomes",
          "Sessegnon",
          "Kamada",
          "Sadiki",
          "Hannibal",
          "Sangaré",
          "O'Riley",
          "Diarra",
          "Bruno G.",
          "M.Salah",
          "J.Murphy",
          "Hughes",
          "Tchaouna",
          "Adingra",
          "Bernardo",
          "Bobb",
          "Casemiro",
          "Okafor",
          "Summerville",
          "Foden",
          "Ward-Prowse",
          "Eze",
          "Hee Chan",
          "Schade",
          "Aaronson",
          "Kamara",
          "Munetsi",
          "Milner",
          "Onyeka",
          "King",
          "Amad",
          "Rogers",
          "Martinelli",
          "Gibbs-White",
          "Smith Rowe",
          "Mac Allister",
          "Bruun Larsen",
          "André",
          "Wieffer",
          "Rodrigo",
          "Ngumoha",
          "Barnes",
          "Bentancur",
          "C.Jones",
          "Madueke",
          "Laurent",
          "Ugarte",
          "Iroegbunam",
          "Gruev",
          "Chiesa",
          "Estêvão",
          "L.Miley",
          "Tielemans",
          "Merino",
          "Devenny",
          "James",
          "M.Fernandes",
          "Baleba",
          "Lerma",
          "Onana",
          "Wirtz",
          "Mount",
          "Joelinton",
          "Elanga",
          "J.Arias",
          "Malen",
          "Odobert",
          "Gnonto",
          "Cherki",
          "Fer López",
          "Bellegarde",
          "Dowman",
          "Marmoush",
          "Palmer",
          "Saka",
          "Jensen",
          "Tanaka",
          "Endo",
          "Trossard",
          "Ødegaard",
          "N.Gonzalez",
          "Ugochukwu",
          "Douglas Luiz",
          "Xavi",
          "Guessand",
          "Buendía",
          "Nwaneri",
          "Andrey Santos",
          "H.Traorè",
          "Yeremy",
          "Gray",
          "Florentino",
          "Willock",
          "Tel",
          "Hinshelwood",
          "Alcaraz",
          "Harrison",
          "Cunha",
          "Adli",
          "Souček",
          "Irving",
          "Gittens",
          "Mainoo",
          "Rigg",
          "Yates",
          "George",
          "Gomez",
          "Christie",
          "Kluivert",
          "McAtee",
          "Adama",
          "Elliott",
          "G.Rodriguez",
          "L.Guilherme",
          "Cairney",
          "S.Magassa",
          "J.Ramsey",
          "Hutchinson",
          "Bakwa",
          "Savinho",
          "Potts",
          "Burrowes",
          "Winterburn",
          "Armstrong",
          "Buonanotte",
          "Esse",
          "Edwards",
          "Cook",
          "Neil",
          "Janelt",
          "Röhl",
          "Milambo",
          "Roberts",
          "Jota",
          "Dibling",
          "McNeil",
          "Sancho",
          "Kevin",
          "Garnacho",
          "Gordon",
          "Fábio Vieira",
          "Nørgaard",
          "Kabia",
          "Sambi",
          "Harriman-Annous",
          "Bailey",
          "Iling Jr",
          "Barkley",
          "Barrenechea",
          "Dobbin",
          "Broggio",
          "Dendoncker",
          "Jimoh-Aloba",
          "Young",
          "Benson",
          "Boateng",
          "Churlinov",
          "Koleosho",
          "A.Ramsey",
          "Adewumi",
          "Banel",
          "Trésor",
          "Philip",
          "Sinisterra",
          "Faivre",
          "Sadi",
          "Silcott-Duberry",
          "Gannon-Doak",
          "Rees-Dottin",
          "Nelson",
          "Nunes",
          "Donovan",
          "Konak",
          "Maghoma",
          "Peart-Harris",
          "Trevitt",
          "March",
          "Enciso",
          "Sima",
          "Sarmiento",
          "Watson",
          "Yalcouye",
          "Knight",
          "Mazilu",
          "Moran",
          "Nkunku",
          "Lavia",
          "Mudryk",
          "D.Essugo",
          "Paez",
          "Doucouré",
          "Agbinone",
          "Ahamada",
          "Ebiowei",
          "J.Rak-Sakyi",
          "M.França",
          "Ozoh",
          "Rodney",
          "Umeh",
          "Cardines",
          "Bates",
          "Ebere",
          "Heath",
          "Metcalfe",
          "Onyango",
          "Andreas",
          "Godo",
          "Harris",
          "Reed",
          "Chukwueze",
          "Greenwood",
          "Ramazani",
          "Crew",
          "Gelhardt",
          "Gyabi",
          "Luis Díaz",
          "Bajcetic",
          "McConnell",
          "Morton",
          "Nyoni",
          "Gündoğan",
          "Kovačić",
          "Echeverri",
          "Nypan",
          "Phillips",
          "Mukasa",
          "Rashford",
          "Antony",
          "Collyer",
          "Fitzgerald",
          "J.Fletcher",
          "Kone",
          "Moorhouse",
          "Antoñito C.",
          "Hayden",
          "Kuol",
          "White",
          "Seung soo",
          "Dominguez",
          "O'Brien",
          "Da Silva Moreira",
          "Stamenic",
          "Aleksić",
          "Mundle",
          "Poveda",
          "Ba",
          "Browne",
          "Ekwah",
          "H.Jones",
          "Matete",
          "Triantis",
          "Traoré",
          "Son",
          "Maddison",
          "Kulusevski",
          "Bissouma",
          "Solomon",
          "Bryan",
          "Moore",
          "Min-hyeok",
          "Olusesi",
          "Álvarez",
          "Cornet",
          "Earthy",
          "Orford",
          "Guedes",
          "B.Traore",
          "Chirewa",
          "Edozie",
          "Gonzalez",
          "Hodge"
         ],
         "type": "scatter",
         "x": {
          "bdata": "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",
          "dtype": "f8"
         },
         "xaxis": "x",
         "y": {
          "bdata": "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",
          "dtype": "f8"
         },
         "yaxis": "y"
        },
        {
         "hovertemplate": "position=FWD<br>expected_goal_involvements=%{x}<br>goal_involvements=%{y}<br>web_name=%{text}<extra></extra>",
         "legendgroup": "FWD",
         "marker": {
          "color": "#ab63fa",
          "symbol": "circle"
         },
         "mode": "markers+text",
         "name": "FWD",
         "orientation": "v",
         "showlegend": true,
         "text": [
          "Isidor",
          "João Pedro",
          "Richarlison",
          "Ekitiké",
          "Foster",
          "Haaland",
          "Bowen",
          "Thiago",
          "Muniz",
          "Wood",
          "Evanilson",
          "Calvert-Lewin",
          "Gyökeres",
          "Mayenda",
          "Beto",
          "Mateta",
          "Nmecha",
          "Wilson",
          "Osula",
          "Woltemade",
          "Watkins",
          "Füllkrug",
          "Barry",
          "Welbeck",
          "Raúl",
          "Šeško",
          "Strand Larsen",
          "Tolu",
          "Igor Jesus",
          "Kalimuendo",
          "Kroupi.Jr",
          "Delap",
          "Piroe",
          "Flemming",
          "Marc Guiu",
          "Zirkzee",
          "Solanke",
          "Kalajdžić",
          "Édouard",
          "Nketiah",
          "Broja",
          "Tzimas",
          "Uche",
          "Brobbey",
          "Havertz",
          "Isak",
          "G.Jesus",
          "Redmond",
          "Amdouni",
          "Barnes",
          "Obafemi",
          "Enes Ünal",
          "Adu-Adjei",
          "Morgan",
          "Ferguson",
          "Kostoulas",
          "N.Jackson",
          "Marsh",
          "Y.Chermiti",
          "Sherif",
          "Kusi-Asare",
          "Bamford",
          "Mateo Joseph",
          "Gray",
          "Darwin",
          "Danns",
          "Højlund",
          "Obi",
          "Wheatley",
          "Wissa",
          "Neave",
          "Awoniyi",
          "Abdullahi",
          "Luís Hemir",
          "Rusyn",
          "Lankshear",
          "Scarlett",
          "Kolo Muani",
          "Marshall",
          "Fábio Silva",
          "Chiwome",
          "Fraser"
         ],
         "type": "scatter",
         "x": {
          "bdata": "KVyPwvUo8D8zMzMzMzP7Px+F61G4Hv0/hetRuB6F/z+PwvUoXI/qPwAAAAAAABpA7FG4HoXr8T8pXI/C9Sj4P9ejcD0K1+s/H4XrUbgeAUC4HoXrUbjyP+xRuB6F6+E/MzMzMzMzA0D2KFyPwvXYP7gehetRuABAFK5H4XoUCEBcj8L1KFzvPxSuR+F6FPI/4XoUrkfh2j8zMzMzMzPTP83MzMzMzPQ/4XoUrkfh2j+4HoXrUbjeP1K4HoXrUQBAmpmZmZmZ2T+kcD0K16PgPx+F61G4HuU/AAAAAAAA0D/sUbgehevBP65H4XoUrtc/AAAAAAAAAACkcD0K16PQP3sUrkfhetQ/KVyPwvUovD+4HoXrUbieP2ZmZmZmZuY/mpmZmZmZyT97FK5H4XqEPwAAAAAAAAAAexSuR+F6pD8AAAAAAAAAAAAAAAAAAAAAexSuR+F6hD8AAAAAAAAAAHsUrkfheoQ/exSuR+F6hD8AAAAAAAAAAAAAAAAAAAAAAAAAAAAAAAAAAAAAAAAAAAAAAAAAAAAAAAAAAAAAAAAAAAAAAAAAAAAAAAAAAAAAAAAAAAAAAAAAAAAAAAAAAAAAAAAAAAAAAAAAAAAAAAAAAAAAAAAAAAAAAAAAAAAAAAAAAAAAAAAAAAAAAAAAAAAAAAAAAAAAAAAAAAAAAAAAAAAAAAAAAAAAAAAAAAAAAAAAAAAAAAAAAAAAAAAAAAAAAAAAAAAAAAAAAAAAAAAAAAAAAAAAAAAAAAAAAAAAAAAAAAAAAAAAAAAAAAAAAAAAAAAAAAAAAAAAAAAAAAAAAAAAAAAAAAAAAAAAAAAAAAAAAAAAAAAAAAAAAAAAAAAAAAAAAAAAAAAAAAAAAAA=",
          "dtype": "f8"
         },
         "xaxis": "x",
         "y": {
          "bdata": "AAAAAAAACEAAAAAAAAAUQAAAAAAAABBAAAAAAAAAEEAAAAAAAAAAQAAAAAAAABhAAAAAAAAAAEAAAAAAAAAAQAAAAAAAAABAAAAAAAAAAEAAAAAAAAAAQAAAAAAAAABAAAAAAAAACEAAAAAAAADwPwAAAAAAAPA/AAAAAAAAAEAAAAAAAADwPwAAAAAAAPA/AAAAAAAA8D8AAAAAAADwPwAAAAAAAAAAAAAAAAAAAAAAAAAAAAAAAAAAAAAAAAAAAAAAAAAAAAAAAAAAAAAAAAAAAAAAAAAAAAAAAAAAAAAAAAAAAAAAAAAAAAAAAAAAAAAAAAAAAAAAAAAAAAAAAAAAAAAAAAAAAAAAAAAAAAAAAAAAAAAAAAAAAAAAAAAAAAAAAAAAAAAAAAAAAAAAAAAAAAAAAAAAAAAAAAAAAAAAAAAAAAAAAAAAAAAAAAAAAAAAAAAAAAAAAAAAAAAAAAAAAAAAAAAAAAAAAAAAAAAAAAAAAAAAAAAAAAAAAAAAAAAAAAAAAAAAAAAAAAAAAAAAAAAAAAAAAAAAAAAAAAAAAAAAAAAAAAAAAAAAAAAAAAAAAAAAAAAAAAAAAAAAAAAAAAAAAAAAAAAAAAAAAAAAAAAAAAAAAAAAAAAAAAAAAAAAAAAAAAAAAAAAAAAAAAAAAAAAAAAAAAAAAAAAAAAAAAAAAAAAAAAAAAAAAAAAAAAAAAAAAAAAAAAAAAAAAAAAAAAAAAAAAAAAAAAAAAAAAAAAAAAAAAAAAAAAAAAAAAAAAAAAAAAAAAAAAAAAAAAAAAAAAAAAAAAAAAAAAAAAAAAAAAAAAAAAAAAAAAAAAAAAAAAAAAAAAAAAAAAAAAAAAAAAAAAAAAAAAAAAAAA=",
          "dtype": "f8"
         },
         "yaxis": "y"
        }
       ],
       "layout": {
        "hovermode": "closest",
        "legend": {
         "title": {
          "text": "position"
         },
         "tracegroupgap": 0
        },
        "template": {
         "data": {
          "bar": [
           {
            "error_x": {
             "color": "#2a3f5f"
            },
            "error_y": {
             "color": "#2a3f5f"
            },
            "marker": {
             "line": {
              "color": "#E5ECF6",
              "width": 0.5
             },
             "pattern": {
              "fillmode": "overlay",
              "size": 10,
              "solidity": 0.2
             }
            },
            "type": "bar"
           }
          ],
          "barpolar": [
           {
            "marker": {
             "line": {
              "color": "#E5ECF6",
              "width": 0.5
             },
             "pattern": {
              "fillmode": "overlay",
              "size": 10,
              "solidity": 0.2
             }
            },
            "type": "barpolar"
           }
          ],
          "carpet": [
           {
            "aaxis": {
             "endlinecolor": "#2a3f5f",
             "gridcolor": "white",
             "linecolor": "white",
             "minorgridcolor": "white",
             "startlinecolor": "#2a3f5f"
            },
            "baxis": {
             "endlinecolor": "#2a3f5f",
             "gridcolor": "white",
             "linecolor": "white",
             "minorgridcolor": "white",
             "startlinecolor": "#2a3f5f"
            },
            "type": "carpet"
           }
          ],
          "choropleth": [
           {
            "colorbar": {
             "outlinewidth": 0,
             "ticks": ""
            },
            "type": "choropleth"
           }
          ],
          "contour": [
           {
            "colorbar": {
             "outlinewidth": 0,
             "ticks": ""
            },
            "colorscale": [
             [
              0,
              "#0d0887"
             ],
             [
              0.1111111111111111,
              "#46039f"
             ],
             [
              0.2222222222222222,
              "#7201a8"
             ],
             [
              0.3333333333333333,
              "#9c179e"
             ],
             [
              0.4444444444444444,
              "#bd3786"
             ],
             [
              0.5555555555555556,
              "#d8576b"
             ],
             [
              0.6666666666666666,
              "#ed7953"
             ],
             [
              0.7777777777777778,
              "#fb9f3a"
             ],
             [
              0.8888888888888888,
              "#fdca26"
             ],
             [
              1,
              "#f0f921"
             ]
            ],
            "type": "contour"
           }
          ],
          "contourcarpet": [
           {
            "colorbar": {
             "outlinewidth": 0,
             "ticks": ""
            },
            "type": "contourcarpet"
           }
          ],
          "heatmap": [
           {
            "colorbar": {
             "outlinewidth": 0,
             "ticks": ""
            },
            "colorscale": [
             [
              0,
              "#0d0887"
             ],
             [
              0.1111111111111111,
              "#46039f"
             ],
             [
              0.2222222222222222,
              "#7201a8"
             ],
             [
              0.3333333333333333,
              "#9c179e"
             ],
             [
              0.4444444444444444,
              "#bd3786"
             ],
             [
              0.5555555555555556,
              "#d8576b"
             ],
             [
              0.6666666666666666,
              "#ed7953"
             ],
             [
              0.7777777777777778,
              "#fb9f3a"
             ],
             [
              0.8888888888888888,
              "#fdca26"
             ],
             [
              1,
              "#f0f921"
             ]
            ],
            "type": "heatmap"
           }
          ],
          "histogram": [
           {
            "marker": {
             "pattern": {
              "fillmode": "overlay",
              "size": 10,
              "solidity": 0.2
             }
            },
            "type": "histogram"
           }
          ],
          "histogram2d": [
           {
            "colorbar": {
             "outlinewidth": 0,
             "ticks": ""
            },
            "colorscale": [
             [
              0,
              "#0d0887"
             ],
             [
              0.1111111111111111,
              "#46039f"
             ],
             [
              0.2222222222222222,
              "#7201a8"
             ],
             [
              0.3333333333333333,
              "#9c179e"
             ],
             [
              0.4444444444444444,
              "#bd3786"
             ],
             [
              0.5555555555555556,
              "#d8576b"
             ],
             [
              0.6666666666666666,
              "#ed7953"
             ],
             [
              0.7777777777777778,
              "#fb9f3a"
             ],
             [
              0.8888888888888888,
              "#fdca26"
             ],
             [
              1,
              "#f0f921"
             ]
            ],
            "type": "histogram2d"
           }
          ],
          "histogram2dcontour": [
           {
            "colorbar": {
             "outlinewidth": 0,
             "ticks": ""
            },
            "colorscale": [
             [
              0,
              "#0d0887"
             ],
             [
              0.1111111111111111,
              "#46039f"
             ],
             [
              0.2222222222222222,
              "#7201a8"
             ],
             [
              0.3333333333333333,
              "#9c179e"
             ],
             [
              0.4444444444444444,
              "#bd3786"
             ],
             [
              0.5555555555555556,
              "#d8576b"
             ],
             [
              0.6666666666666666,
              "#ed7953"
             ],
             [
              0.7777777777777778,
              "#fb9f3a"
             ],
             [
              0.8888888888888888,
              "#fdca26"
             ],
             [
              1,
              "#f0f921"
             ]
            ],
            "type": "histogram2dcontour"
           }
          ],
          "mesh3d": [
           {
            "colorbar": {
             "outlinewidth": 0,
             "ticks": ""
            },
            "type": "mesh3d"
           }
          ],
          "parcoords": [
           {
            "line": {
             "colorbar": {
              "outlinewidth": 0,
              "ticks": ""
             }
            },
            "type": "parcoords"
           }
          ],
          "pie": [
           {
            "automargin": true,
            "type": "pie"
           }
          ],
          "scatter": [
           {
            "fillpattern": {
             "fillmode": "overlay",
             "size": 10,
             "solidity": 0.2
            },
            "type": "scatter"
           }
          ],
          "scatter3d": [
           {
            "line": {
             "colorbar": {
              "outlinewidth": 0,
              "ticks": ""
             }
            },
            "marker": {
             "colorbar": {
              "outlinewidth": 0,
              "ticks": ""
             }
            },
            "type": "scatter3d"
           }
          ],
          "scattercarpet": [
           {
            "marker": {
             "colorbar": {
              "outlinewidth": 0,
              "ticks": ""
             }
            },
            "type": "scattercarpet"
           }
          ],
          "scattergeo": [
           {
            "marker": {
             "colorbar": {
              "outlinewidth": 0,
              "ticks": ""
             }
            },
            "type": "scattergeo"
           }
          ],
          "scattergl": [
           {
            "marker": {
             "colorbar": {
              "outlinewidth": 0,
              "ticks": ""
             }
            },
            "type": "scattergl"
           }
          ],
          "scattermap": [
           {
            "marker": {
             "colorbar": {
              "outlinewidth": 0,
              "ticks": ""
             }
            },
            "type": "scattermap"
           }
          ],
          "scattermapbox": [
           {
            "marker": {
             "colorbar": {
              "outlinewidth": 0,
              "ticks": ""
             }
            },
            "type": "scattermapbox"
           }
          ],
          "scatterpolar": [
           {
            "marker": {
             "colorbar": {
              "outlinewidth": 0,
              "ticks": ""
             }
            },
            "type": "scatterpolar"
           }
          ],
          "scatterpolargl": [
           {
            "marker": {
             "colorbar": {
              "outlinewidth": 0,
              "ticks": ""
             }
            },
            "type": "scatterpolargl"
           }
          ],
          "scatterternary": [
           {
            "marker": {
             "colorbar": {
              "outlinewidth": 0,
              "ticks": ""
             }
            },
            "type": "scatterternary"
           }
          ],
          "surface": [
           {
            "colorbar": {
             "outlinewidth": 0,
             "ticks": ""
            },
            "colorscale": [
             [
              0,
              "#0d0887"
             ],
             [
              0.1111111111111111,
              "#46039f"
             ],
             [
              0.2222222222222222,
              "#7201a8"
             ],
             [
              0.3333333333333333,
              "#9c179e"
             ],
             [
              0.4444444444444444,
              "#bd3786"
             ],
             [
              0.5555555555555556,
              "#d8576b"
             ],
             [
              0.6666666666666666,
              "#ed7953"
             ],
             [
              0.7777777777777778,
              "#fb9f3a"
             ],
             [
              0.8888888888888888,
              "#fdca26"
             ],
             [
              1,
              "#f0f921"
             ]
            ],
            "type": "surface"
           }
          ],
          "table": [
           {
            "cells": {
             "fill": {
              "color": "#EBF0F8"
             },
             "line": {
              "color": "white"
             }
            },
            "header": {
             "fill": {
              "color": "#C8D4E3"
             },
             "line": {
              "color": "white"
             }
            },
            "type": "table"
           }
          ]
         },
         "layout": {
          "annotationdefaults": {
           "arrowcolor": "#2a3f5f",
           "arrowhead": 0,
           "arrowwidth": 1
          },
          "autotypenumbers": "strict",
          "coloraxis": {
           "colorbar": {
            "outlinewidth": 0,
            "ticks": ""
           }
          },
          "colorscale": {
           "diverging": [
            [
             0,
             "#8e0152"
            ],
            [
             0.1,
             "#c51b7d"
            ],
            [
             0.2,
             "#de77ae"
            ],
            [
             0.3,
             "#f1b6da"
            ],
            [
             0.4,
             "#fde0ef"
            ],
            [
             0.5,
             "#f7f7f7"
            ],
            [
             0.6,
             "#e6f5d0"
            ],
            [
             0.7,
             "#b8e186"
            ],
            [
             0.8,
             "#7fbc41"
            ],
            [
             0.9,
             "#4d9221"
            ],
            [
             1,
             "#276419"
            ]
           ],
           "sequential": [
            [
             0,
             "#0d0887"
            ],
            [
             0.1111111111111111,
             "#46039f"
            ],
            [
             0.2222222222222222,
             "#7201a8"
            ],
            [
             0.3333333333333333,
             "#9c179e"
            ],
            [
             0.4444444444444444,
             "#bd3786"
            ],
            [
             0.5555555555555556,
             "#d8576b"
            ],
            [
             0.6666666666666666,
             "#ed7953"
            ],
            [
             0.7777777777777778,
             "#fb9f3a"
            ],
            [
             0.8888888888888888,
             "#fdca26"
            ],
            [
             1,
             "#f0f921"
            ]
           ],
           "sequentialminus": [
            [
             0,
             "#0d0887"
            ],
            [
             0.1111111111111111,
             "#46039f"
            ],
            [
             0.2222222222222222,
             "#7201a8"
            ],
            [
             0.3333333333333333,
             "#9c179e"
            ],
            [
             0.4444444444444444,
             "#bd3786"
            ],
            [
             0.5555555555555556,
             "#d8576b"
            ],
            [
             0.6666666666666666,
             "#ed7953"
            ],
            [
             0.7777777777777778,
             "#fb9f3a"
            ],
            [
             0.8888888888888888,
             "#fdca26"
            ],
            [
             1,
             "#f0f921"
            ]
           ]
          },
          "colorway": [
           "#636efa",
           "#EF553B",
           "#00cc96",
           "#ab63fa",
           "#FFA15A",
           "#19d3f3",
           "#FF6692",
           "#B6E880",
           "#FF97FF",
           "#FECB52"
          ],
          "font": {
           "color": "#2a3f5f"
          },
          "geo": {
           "bgcolor": "white",
           "lakecolor": "white",
           "landcolor": "#E5ECF6",
           "showlakes": true,
           "showland": true,
           "subunitcolor": "white"
          },
          "hoverlabel": {
           "align": "left"
          },
          "hovermode": "closest",
          "mapbox": {
           "style": "light"
          },
          "paper_bgcolor": "white",
          "plot_bgcolor": "#E5ECF6",
          "polar": {
           "angularaxis": {
            "gridcolor": "white",
            "linecolor": "white",
            "ticks": ""
           },
           "bgcolor": "#E5ECF6",
           "radialaxis": {
            "gridcolor": "white",
            "linecolor": "white",
            "ticks": ""
           }
          },
          "scene": {
           "xaxis": {
            "backgroundcolor": "#E5ECF6",
            "gridcolor": "white",
            "gridwidth": 2,
            "linecolor": "white",
            "showbackground": true,
            "ticks": "",
            "zerolinecolor": "white"
           },
           "yaxis": {
            "backgroundcolor": "#E5ECF6",
            "gridcolor": "white",
            "gridwidth": 2,
            "linecolor": "white",
            "showbackground": true,
            "ticks": "",
            "zerolinecolor": "white"
           },
           "zaxis": {
            "backgroundcolor": "#E5ECF6",
            "gridcolor": "white",
            "gridwidth": 2,
            "linecolor": "white",
            "showbackground": true,
            "ticks": "",
            "zerolinecolor": "white"
           }
          },
          "shapedefaults": {
           "line": {
            "color": "#2a3f5f"
           }
          },
          "ternary": {
           "aaxis": {
            "gridcolor": "white",
            "linecolor": "white",
            "ticks": ""
           },
           "baxis": {
            "gridcolor": "white",
            "linecolor": "white",
            "ticks": ""
           },
           "bgcolor": "#E5ECF6",
           "caxis": {
            "gridcolor": "white",
            "linecolor": "white",
            "ticks": ""
           }
          },
          "title": {
           "x": 0.05
          },
          "xaxis": {
           "automargin": true,
           "gridcolor": "white",
           "linecolor": "white",
           "ticks": "",
           "title": {
            "standoff": 15
           },
           "zerolinecolor": "white",
           "zerolinewidth": 2
          },
          "yaxis": {
           "automargin": true,
           "gridcolor": "white",
           "linecolor": "white",
           "ticks": "",
           "title": {
            "standoff": 15
           },
           "zerolinecolor": "white",
           "zerolinewidth": 2
          }
         }
        },
        "title": {
         "text": "Relation linéaire entre expected_goal_involvements et goal_involvements (Hover pour nom du joueur)"
        },
        "xaxis": {
         "anchor": "y",
         "domain": [
          0,
          1
         ],
         "title": {
          "text": "expected_goal_involvements"
         }
        },
        "yaxis": {
         "anchor": "x",
         "domain": [
          0,
          1
         ],
         "title": {
          "text": "goal_involvements"
         }
        }
       }
      }
     },
     "metadata": {},
     "output_type": "display_data"
    }
   ],
   "source": [
    "import plotly.express as px\n",
    "\n",
    "fig = px.scatter(\n",
    "    df_players,\n",
    "    x='expected_goal_involvements',\n",
    "    y='goal_involvements',\n",
    "    text='web_name',  # Affiche le nom au survol\n",
    "    color='position', # Optionnel, couleur par poste\n",
    "    title='Relation linéaire entre expected_goal_involvements et goal_involvements (Hover pour nom du joueur)'\n",
    ")\n",
    "\n",
    "fig.update_traces(marker=dict(size=10, opacity=0.7),\n",
    "                  selector=dict(mode='markers'))\n",
    "fig.update_layout(hovermode='closest')\n",
    "fig.show()"
   ]
  },
  {
   "cell_type": "code",
   "execution_count": null,
   "id": "bcafed94",
   "metadata": {},
   "outputs": [],
   "source": []
  },
  {
   "cell_type": "code",
   "execution_count": null,
   "id": "68219f6c",
   "metadata": {},
   "outputs": [],
   "source": []
  },
  {
   "cell_type": "code",
   "execution_count": null,
   "id": "2d3e11c6",
   "metadata": {},
   "outputs": [],
   "source": []
  },
  {
   "cell_type": "code",
   "execution_count": null,
   "id": "32ec3cde",
   "metadata": {},
   "outputs": [],
   "source": []
  }
 ],
 "metadata": {
  "kernelspec": {
   "display_name": "Python 3",
   "language": "python",
   "name": "python3"
  },
  "language_info": {
   "codemirror_mode": {
    "name": "ipython",
    "version": 3
   },
   "file_extension": ".py",
   "mimetype": "text/x-python",
   "name": "python",
   "nbconvert_exporter": "python",
   "pygments_lexer": "ipython3",
   "version": "3.12.1"
  }
 },
 "nbformat": 4,
 "nbformat_minor": 5
}
