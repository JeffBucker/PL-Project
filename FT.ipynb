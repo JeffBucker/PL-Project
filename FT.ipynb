{
 "cells": [
  {
   "cell_type": "code",
   "execution_count": 11,
   "id": "b1be241e",
   "metadata": {},
   "outputs": [],
   "source": [
    "import pandas as pd\n",
    "import numpy as np\n",
    "from pulp import LpProblem, LpVariable, LpMaximize, lpSum, LpBinary\n",
    "import matplotlib.pyplot as plt\n",
    "import seaborn as sns\n",
    "import plotly.express as px\n",
    "\n",
    "pd.set_option('display.max_columns', None)\n",
    "pd.set_option('display.max_rows', None)\n",
    "\n",
    "df_players = pd.read_parquet('df_players.parquet')\n",
    "df_positions = pd.read_parquet('df_positions.parquet')\n",
    "df_teams = pd.read_parquet('df_teams.parquet')"
   ]
  },
  {
   "cell_type": "code",
   "execution_count": 12,
   "id": "5657ee98",
   "metadata": {},
   "outputs": [
    {
     "data": {
      "text/html": [
       "<div>\n",
       "<style scoped>\n",
       "    .dataframe tbody tr th:only-of-type {\n",
       "        vertical-align: middle;\n",
       "    }\n",
       "\n",
       "    .dataframe tbody tr th {\n",
       "        vertical-align: top;\n",
       "    }\n",
       "\n",
       "    .dataframe thead th {\n",
       "        text-align: right;\n",
       "    }\n",
       "</style>\n",
       "<table border=\"1\" class=\"dataframe\">\n",
       "  <thead>\n",
       "    <tr style=\"text-align: right;\">\n",
       "      <th></th>\n",
       "      <th>first_name</th>\n",
       "      <th>web_name</th>\n",
       "      <th>team_short</th>\n",
       "      <th>team_name</th>\n",
       "      <th>position</th>\n",
       "      <th>price</th>\n",
       "      <th>total_points</th>\n",
       "      <th>points_per_cost</th>\n",
       "      <th>points_per_minutes</th>\n",
       "      <th>fdr_next_6</th>\n",
       "      <th>ict_index</th>\n",
       "      <th>selected_by_percent</th>\n",
       "      <th>selected_rank</th>\n",
       "      <th>form</th>\n",
       "      <th>minutes</th>\n",
       "      <th>transfers_in</th>\n",
       "      <th>transfers_in_event</th>\n",
       "      <th>transfers_out</th>\n",
       "      <th>transfers_out_event</th>\n",
       "      <th>assists</th>\n",
       "      <th>goals_scored</th>\n",
       "      <th>goal_involvements</th>\n",
       "      <th>expected_goals</th>\n",
       "      <th>expected_assists</th>\n",
       "      <th>expected_goal_involvements</th>\n",
       "      <th>GI_on_xGI</th>\n",
       "      <th>expected_goals_per_90</th>\n",
       "      <th>saves_per_90</th>\n",
       "      <th>expected_assists_per_90</th>\n",
       "      <th>expected_goal_involvements_per_90</th>\n",
       "      <th>expected_goals_conceded_per_90</th>\n",
       "      <th>goals_conceded_per_90</th>\n",
       "      <th>defensive_contribution_per_90</th>\n",
       "      <th>clean_sheets_per_90</th>\n",
       "      <th>minutes_last</th>\n",
       "      <th>xGI_last</th>\n",
       "      <th>xG_last</th>\n",
       "      <th>ict_last</th>\n",
       "      <th>total_points_last</th>\n",
       "      <th>total_points_last_per_xGI_last</th>\n",
       "    </tr>\n",
       "    <tr>\n",
       "      <th>id</th>\n",
       "      <th></th>\n",
       "      <th></th>\n",
       "      <th></th>\n",
       "      <th></th>\n",
       "      <th></th>\n",
       "      <th></th>\n",
       "      <th></th>\n",
       "      <th></th>\n",
       "      <th></th>\n",
       "      <th></th>\n",
       "      <th></th>\n",
       "      <th></th>\n",
       "      <th></th>\n",
       "      <th></th>\n",
       "      <th></th>\n",
       "      <th></th>\n",
       "      <th></th>\n",
       "      <th></th>\n",
       "      <th></th>\n",
       "      <th></th>\n",
       "      <th></th>\n",
       "      <th></th>\n",
       "      <th></th>\n",
       "      <th></th>\n",
       "      <th></th>\n",
       "      <th></th>\n",
       "      <th></th>\n",
       "      <th></th>\n",
       "      <th></th>\n",
       "      <th></th>\n",
       "      <th></th>\n",
       "      <th></th>\n",
       "      <th></th>\n",
       "      <th></th>\n",
       "      <th></th>\n",
       "      <th></th>\n",
       "      <th></th>\n",
       "      <th></th>\n",
       "      <th></th>\n",
       "      <th></th>\n",
       "    </tr>\n",
       "  </thead>\n",
       "  <tbody>\n",
       "    <tr>\n",
       "      <th>72</th>\n",
       "      <td>Marcos</td>\n",
       "      <td>Senesi</td>\n",
       "      <td>BOU</td>\n",
       "      <td>Bournemouth</td>\n",
       "      <td>DEF</td>\n",
       "      <td>49.0</td>\n",
       "      <td>45.0</td>\n",
       "      <td>0.918367</td>\n",
       "      <td>0.078809</td>\n",
       "      <td>3.166667</td>\n",
       "      <td>28.1</td>\n",
       "      <td>24.0</td>\n",
       "      <td>14</td>\n",
       "      <td>5.0</td>\n",
       "      <td>571.0</td>\n",
       "      <td>2853986</td>\n",
       "      <td>3437</td>\n",
       "      <td>196153</td>\n",
       "      <td>89</td>\n",
       "      <td>2.0</td>\n",
       "      <td>0.0</td>\n",
       "      <td>2.0</td>\n",
       "      <td>0.14</td>\n",
       "      <td>0.41</td>\n",
       "      <td>0.55</td>\n",
       "      <td>3.636364</td>\n",
       "      <td>0.02</td>\n",
       "      <td>0.0</td>\n",
       "      <td>0.06</td>\n",
       "      <td>0.08</td>\n",
       "      <td>0.87</td>\n",
       "      <td>1.10</td>\n",
       "      <td>13.08</td>\n",
       "      <td>0.47</td>\n",
       "      <td>76.00</td>\n",
       "      <td>0.0800</td>\n",
       "      <td>0.0000</td>\n",
       "      <td>3.900</td>\n",
       "      <td>5.00</td>\n",
       "      <td>62.500000</td>\n",
       "    </tr>\n",
       "    <tr>\n",
       "      <th>260</th>\n",
       "      <td>Marc</td>\n",
       "      <td>Guéhi</td>\n",
       "      <td>CRY</td>\n",
       "      <td>Crystal Palace</td>\n",
       "      <td>DEF</td>\n",
       "      <td>48.0</td>\n",
       "      <td>43.0</td>\n",
       "      <td>0.895833</td>\n",
       "      <td>0.079630</td>\n",
       "      <td>3.166667</td>\n",
       "      <td>23.1</td>\n",
       "      <td>29.9</td>\n",
       "      <td>9</td>\n",
       "      <td>5.0</td>\n",
       "      <td>540.0</td>\n",
       "      <td>2461413</td>\n",
       "      <td>2340</td>\n",
       "      <td>442180</td>\n",
       "      <td>82</td>\n",
       "      <td>2.0</td>\n",
       "      <td>1.0</td>\n",
       "      <td>3.0</td>\n",
       "      <td>0.39</td>\n",
       "      <td>0.09</td>\n",
       "      <td>0.48</td>\n",
       "      <td>6.250000</td>\n",
       "      <td>0.06</td>\n",
       "      <td>0.0</td>\n",
       "      <td>0.02</td>\n",
       "      <td>0.08</td>\n",
       "      <td>1.14</td>\n",
       "      <td>0.50</td>\n",
       "      <td>7.83</td>\n",
       "      <td>0.50</td>\n",
       "      <td>67.50</td>\n",
       "      <td>0.0750</td>\n",
       "      <td>0.0575</td>\n",
       "      <td>2.875</td>\n",
       "      <td>5.00</td>\n",
       "      <td>66.666667</td>\n",
       "    </tr>\n",
       "    <tr>\n",
       "      <th>348</th>\n",
       "      <td>Joe</td>\n",
       "      <td>Rodon</td>\n",
       "      <td>LEE</td>\n",
       "      <td>Leeds</td>\n",
       "      <td>DEF</td>\n",
       "      <td>40.0</td>\n",
       "      <td>29.0</td>\n",
       "      <td>0.725000</td>\n",
       "      <td>0.053704</td>\n",
       "      <td>2.666667</td>\n",
       "      <td>20.7</td>\n",
       "      <td>5.2</td>\n",
       "      <td>73</td>\n",
       "      <td>3.2</td>\n",
       "      <td>540.0</td>\n",
       "      <td>528761</td>\n",
       "      <td>893</td>\n",
       "      <td>170185</td>\n",
       "      <td>65</td>\n",
       "      <td>0.0</td>\n",
       "      <td>1.0</td>\n",
       "      <td>1.0</td>\n",
       "      <td>0.33</td>\n",
       "      <td>0.01</td>\n",
       "      <td>0.34</td>\n",
       "      <td>2.941176</td>\n",
       "      <td>0.06</td>\n",
       "      <td>0.0</td>\n",
       "      <td>0.00</td>\n",
       "      <td>0.06</td>\n",
       "      <td>1.22</td>\n",
       "      <td>1.50</td>\n",
       "      <td>9.33</td>\n",
       "      <td>0.33</td>\n",
       "      <td>67.50</td>\n",
       "      <td>0.0850</td>\n",
       "      <td>0.0825</td>\n",
       "      <td>3.625</td>\n",
       "      <td>3.25</td>\n",
       "      <td>38.235294</td>\n",
       "    </tr>\n",
       "    <tr>\n",
       "      <th>575</th>\n",
       "      <td>Micky</td>\n",
       "      <td>Van de Ven</td>\n",
       "      <td>TOT</td>\n",
       "      <td>Spurs</td>\n",
       "      <td>DEF</td>\n",
       "      <td>48.0</td>\n",
       "      <td>30.0</td>\n",
       "      <td>0.625000</td>\n",
       "      <td>0.056711</td>\n",
       "      <td>3.000000</td>\n",
       "      <td>20.3</td>\n",
       "      <td>34.5</td>\n",
       "      <td>5</td>\n",
       "      <td>4.2</td>\n",
       "      <td>529.0</td>\n",
       "      <td>1692138</td>\n",
       "      <td>592</td>\n",
       "      <td>702360</td>\n",
       "      <td>562</td>\n",
       "      <td>0.0</td>\n",
       "      <td>1.0</td>\n",
       "      <td>1.0</td>\n",
       "      <td>0.69</td>\n",
       "      <td>0.16</td>\n",
       "      <td>0.85</td>\n",
       "      <td>1.176471</td>\n",
       "      <td>0.12</td>\n",
       "      <td>0.0</td>\n",
       "      <td>0.03</td>\n",
       "      <td>0.15</td>\n",
       "      <td>1.22</td>\n",
       "      <td>0.68</td>\n",
       "      <td>5.61</td>\n",
       "      <td>0.51</td>\n",
       "      <td>64.75</td>\n",
       "      <td>0.0600</td>\n",
       "      <td>0.0250</td>\n",
       "      <td>3.425</td>\n",
       "      <td>4.25</td>\n",
       "      <td>70.833333</td>\n",
       "    </tr>\n",
       "    <tr>\n",
       "      <th>38</th>\n",
       "      <td>Ezri</td>\n",
       "      <td>Konsa</td>\n",
       "      <td>AVL</td>\n",
       "      <td>Aston Villa</td>\n",
       "      <td>DEF</td>\n",
       "      <td>45.0</td>\n",
       "      <td>14.0</td>\n",
       "      <td>0.311111</td>\n",
       "      <td>0.032941</td>\n",
       "      <td>3.166667</td>\n",
       "      <td>10.8</td>\n",
       "      <td>10.9</td>\n",
       "      <td>38</td>\n",
       "      <td>2.5</td>\n",
       "      <td>425.0</td>\n",
       "      <td>196553</td>\n",
       "      <td>88</td>\n",
       "      <td>1181802</td>\n",
       "      <td>643</td>\n",
       "      <td>0.0</td>\n",
       "      <td>0.0</td>\n",
       "      <td>0.0</td>\n",
       "      <td>0.00</td>\n",
       "      <td>0.07</td>\n",
       "      <td>0.07</td>\n",
       "      <td>0.000000</td>\n",
       "      <td>0.00</td>\n",
       "      <td>0.0</td>\n",
       "      <td>0.01</td>\n",
       "      <td>0.01</td>\n",
       "      <td>1.66</td>\n",
       "      <td>1.06</td>\n",
       "      <td>4.87</td>\n",
       "      <td>0.42</td>\n",
       "      <td>67.50</td>\n",
       "      <td>0.0075</td>\n",
       "      <td>0.0000</td>\n",
       "      <td>1.700</td>\n",
       "      <td>2.50</td>\n",
       "      <td>333.333333</td>\n",
       "    </tr>\n",
       "    <tr>\n",
       "      <th>249</th>\n",
       "      <td>João Pedro</td>\n",
       "      <td>João Pedro</td>\n",
       "      <td>CHE</td>\n",
       "      <td>Chelsea</td>\n",
       "      <td>FWD</td>\n",
       "      <td>77.0</td>\n",
       "      <td>37.0</td>\n",
       "      <td>0.480519</td>\n",
       "      <td>0.072549</td>\n",
       "      <td>2.666667</td>\n",
       "      <td>40.2</td>\n",
       "      <td>62.7</td>\n",
       "      <td>1</td>\n",
       "      <td>2.8</td>\n",
       "      <td>510.0</td>\n",
       "      <td>2758918</td>\n",
       "      <td>866</td>\n",
       "      <td>1755992</td>\n",
       "      <td>1935</td>\n",
       "      <td>3.0</td>\n",
       "      <td>2.0</td>\n",
       "      <td>5.0</td>\n",
       "      <td>1.50</td>\n",
       "      <td>0.23</td>\n",
       "      <td>1.73</td>\n",
       "      <td>2.890173</td>\n",
       "      <td>0.26</td>\n",
       "      <td>0.0</td>\n",
       "      <td>0.04</td>\n",
       "      <td>0.30</td>\n",
       "      <td>1.27</td>\n",
       "      <td>1.24</td>\n",
       "      <td>4.94</td>\n",
       "      <td>0.35</td>\n",
       "      <td>64.50</td>\n",
       "      <td>0.0575</td>\n",
       "      <td>0.0375</td>\n",
       "      <td>3.000</td>\n",
       "      <td>2.75</td>\n",
       "      <td>47.826087</td>\n",
       "    </tr>\n",
       "    <tr>\n",
       "      <th>430</th>\n",
       "      <td>Erling</td>\n",
       "      <td>Haaland</td>\n",
       "      <td>MCI</td>\n",
       "      <td>Man City</td>\n",
       "      <td>FWD</td>\n",
       "      <td>144.0</td>\n",
       "      <td>62.0</td>\n",
       "      <td>0.430556</td>\n",
       "      <td>0.123260</td>\n",
       "      <td>3.333333</td>\n",
       "      <td>70.6</td>\n",
       "      <td>57.9</td>\n",
       "      <td>2</td>\n",
       "      <td>9.5</td>\n",
       "      <td>503.0</td>\n",
       "      <td>4260583</td>\n",
       "      <td>3653</td>\n",
       "      <td>619137</td>\n",
       "      <td>45</td>\n",
       "      <td>1.0</td>\n",
       "      <td>8.0</td>\n",
       "      <td>9.0</td>\n",
       "      <td>7.35</td>\n",
       "      <td>0.56</td>\n",
       "      <td>7.91</td>\n",
       "      <td>1.137800</td>\n",
       "      <td>1.32</td>\n",
       "      <td>0.0</td>\n",
       "      <td>0.10</td>\n",
       "      <td>1.42</td>\n",
       "      <td>1.14</td>\n",
       "      <td>0.89</td>\n",
       "      <td>4.29</td>\n",
       "      <td>0.54</td>\n",
       "      <td>62.75</td>\n",
       "      <td>0.9375</td>\n",
       "      <td>0.8725</td>\n",
       "      <td>10.450</td>\n",
       "      <td>9.50</td>\n",
       "      <td>10.133333</td>\n",
       "    </tr>\n",
       "    <tr>\n",
       "      <th>100</th>\n",
       "      <td>Eli Junior</td>\n",
       "      <td>Kroupi.Jr</td>\n",
       "      <td>BOU</td>\n",
       "      <td>Bournemouth</td>\n",
       "      <td>FWD</td>\n",
       "      <td>45.0</td>\n",
       "      <td>9.0</td>\n",
       "      <td>0.200000</td>\n",
       "      <td>0.428571</td>\n",
       "      <td>3.166667</td>\n",
       "      <td>7.6</td>\n",
       "      <td>1.7</td>\n",
       "      <td>145</td>\n",
       "      <td>1.5</td>\n",
       "      <td>21.0</td>\n",
       "      <td>214990</td>\n",
       "      <td>138</td>\n",
       "      <td>147082</td>\n",
       "      <td>114</td>\n",
       "      <td>0.0</td>\n",
       "      <td>1.0</td>\n",
       "      <td>1.0</td>\n",
       "      <td>0.23</td>\n",
       "      <td>0.00</td>\n",
       "      <td>0.23</td>\n",
       "      <td>4.347826</td>\n",
       "      <td>0.99</td>\n",
       "      <td>0.0</td>\n",
       "      <td>0.00</td>\n",
       "      <td>0.99</td>\n",
       "      <td>1.33</td>\n",
       "      <td>4.29</td>\n",
       "      <td>8.57</td>\n",
       "      <td>0.00</td>\n",
       "      <td>2.25</td>\n",
       "      <td>0.0575</td>\n",
       "      <td>0.0575</td>\n",
       "      <td>1.850</td>\n",
       "      <td>1.50</td>\n",
       "      <td>26.086957</td>\n",
       "    </tr>\n",
       "    <tr>\n",
       "      <th>469</th>\n",
       "      <td>Nick</td>\n",
       "      <td>Pope</td>\n",
       "      <td>NEW</td>\n",
       "      <td>Newcastle</td>\n",
       "      <td>GKP</td>\n",
       "      <td>51.0</td>\n",
       "      <td>34.0</td>\n",
       "      <td>0.666667</td>\n",
       "      <td>0.062963</td>\n",
       "      <td>3.000000</td>\n",
       "      <td>13.5</td>\n",
       "      <td>8.7</td>\n",
       "      <td>44</td>\n",
       "      <td>4.0</td>\n",
       "      <td>540.0</td>\n",
       "      <td>728005</td>\n",
       "      <td>1270</td>\n",
       "      <td>222975</td>\n",
       "      <td>132</td>\n",
       "      <td>1.0</td>\n",
       "      <td>0.0</td>\n",
       "      <td>1.0</td>\n",
       "      <td>0.00</td>\n",
       "      <td>0.00</td>\n",
       "      <td>0.00</td>\n",
       "      <td>0.000000</td>\n",
       "      <td>0.00</td>\n",
       "      <td>2.5</td>\n",
       "      <td>0.00</td>\n",
       "      <td>0.00</td>\n",
       "      <td>0.78</td>\n",
       "      <td>0.83</td>\n",
       "      <td>0.00</td>\n",
       "      <td>0.67</td>\n",
       "      <td>67.50</td>\n",
       "      <td>0.0000</td>\n",
       "      <td>0.0000</td>\n",
       "      <td>2.200</td>\n",
       "      <td>4.00</td>\n",
       "      <td>0.000000</td>\n",
       "    </tr>\n",
       "    <tr>\n",
       "      <th>470</th>\n",
       "      <td>Martin</td>\n",
       "      <td>Dúbravka</td>\n",
       "      <td>BUR</td>\n",
       "      <td>Burnley</td>\n",
       "      <td>GKP</td>\n",
       "      <td>40.0</td>\n",
       "      <td>18.0</td>\n",
       "      <td>0.450000</td>\n",
       "      <td>0.033333</td>\n",
       "      <td>3.000000</td>\n",
       "      <td>18.4</td>\n",
       "      <td>34.3</td>\n",
       "      <td>6</td>\n",
       "      <td>2.0</td>\n",
       "      <td>540.0</td>\n",
       "      <td>790564</td>\n",
       "      <td>334</td>\n",
       "      <td>458742</td>\n",
       "      <td>306</td>\n",
       "      <td>0.0</td>\n",
       "      <td>0.0</td>\n",
       "      <td>0.0</td>\n",
       "      <td>0.00</td>\n",
       "      <td>0.00</td>\n",
       "      <td>0.00</td>\n",
       "      <td>NaN</td>\n",
       "      <td>0.00</td>\n",
       "      <td>4.0</td>\n",
       "      <td>0.00</td>\n",
       "      <td>0.00</td>\n",
       "      <td>2.05</td>\n",
       "      <td>2.17</td>\n",
       "      <td>0.00</td>\n",
       "      <td>0.17</td>\n",
       "      <td>67.50</td>\n",
       "      <td>0.0000</td>\n",
       "      <td>0.0000</td>\n",
       "      <td>2.800</td>\n",
       "      <td>2.00</td>\n",
       "      <td>0.000000</td>\n",
       "    </tr>\n",
       "    <tr>\n",
       "      <th>82</th>\n",
       "      <td>Antoine</td>\n",
       "      <td>Semenyo</td>\n",
       "      <td>BOU</td>\n",
       "      <td>Bournemouth</td>\n",
       "      <td>MID</td>\n",
       "      <td>78.0</td>\n",
       "      <td>49.0</td>\n",
       "      <td>0.628205</td>\n",
       "      <td>0.085814</td>\n",
       "      <td>3.166667</td>\n",
       "      <td>47.8</td>\n",
       "      <td>55.8</td>\n",
       "      <td>3</td>\n",
       "      <td>6.5</td>\n",
       "      <td>571.0</td>\n",
       "      <td>5957202</td>\n",
       "      <td>2309</td>\n",
       "      <td>514433</td>\n",
       "      <td>205</td>\n",
       "      <td>2.0</td>\n",
       "      <td>4.0</td>\n",
       "      <td>6.0</td>\n",
       "      <td>2.99</td>\n",
       "      <td>0.38</td>\n",
       "      <td>3.37</td>\n",
       "      <td>1.780415</td>\n",
       "      <td>0.47</td>\n",
       "      <td>0.0</td>\n",
       "      <td>0.06</td>\n",
       "      <td>0.53</td>\n",
       "      <td>0.87</td>\n",
       "      <td>1.10</td>\n",
       "      <td>7.88</td>\n",
       "      <td>0.47</td>\n",
       "      <td>76.00</td>\n",
       "      <td>0.3550</td>\n",
       "      <td>0.2975</td>\n",
       "      <td>5.300</td>\n",
       "      <td>6.50</td>\n",
       "      <td>18.309859</td>\n",
       "    </tr>\n",
       "    <tr>\n",
       "      <th>241</th>\n",
       "      <td>Moisés</td>\n",
       "      <td>Caicedo</td>\n",
       "      <td>CHE</td>\n",
       "      <td>Chelsea</td>\n",
       "      <td>MID</td>\n",
       "      <td>57.0</td>\n",
       "      <td>35.0</td>\n",
       "      <td>0.614035</td>\n",
       "      <td>0.064815</td>\n",
       "      <td>2.666667</td>\n",
       "      <td>28.4</td>\n",
       "      <td>11.7</td>\n",
       "      <td>34</td>\n",
       "      <td>4.5</td>\n",
       "      <td>540.0</td>\n",
       "      <td>1079008</td>\n",
       "      <td>401</td>\n",
       "      <td>454168</td>\n",
       "      <td>367</td>\n",
       "      <td>0.0</td>\n",
       "      <td>2.0</td>\n",
       "      <td>2.0</td>\n",
       "      <td>0.47</td>\n",
       "      <td>0.22</td>\n",
       "      <td>0.69</td>\n",
       "      <td>2.898551</td>\n",
       "      <td>0.08</td>\n",
       "      <td>0.0</td>\n",
       "      <td>0.04</td>\n",
       "      <td>0.12</td>\n",
       "      <td>1.33</td>\n",
       "      <td>1.33</td>\n",
       "      <td>14.17</td>\n",
       "      <td>0.33</td>\n",
       "      <td>67.50</td>\n",
       "      <td>0.0650</td>\n",
       "      <td>0.0325</td>\n",
       "      <td>3.525</td>\n",
       "      <td>4.50</td>\n",
       "      <td>69.230769</td>\n",
       "    </tr>\n",
       "    <tr>\n",
       "      <th>427</th>\n",
       "      <td>Tijjani</td>\n",
       "      <td>Reijnders</td>\n",
       "      <td>MCI</td>\n",
       "      <td>Man City</td>\n",
       "      <td>MID</td>\n",
       "      <td>58.0</td>\n",
       "      <td>28.0</td>\n",
       "      <td>0.482759</td>\n",
       "      <td>0.052632</td>\n",
       "      <td>3.333333</td>\n",
       "      <td>32.4</td>\n",
       "      <td>33.7</td>\n",
       "      <td>7</td>\n",
       "      <td>3.5</td>\n",
       "      <td>532.0</td>\n",
       "      <td>2887150</td>\n",
       "      <td>587</td>\n",
       "      <td>1379108</td>\n",
       "      <td>814</td>\n",
       "      <td>2.0</td>\n",
       "      <td>1.0</td>\n",
       "      <td>3.0</td>\n",
       "      <td>0.81</td>\n",
       "      <td>0.42</td>\n",
       "      <td>1.23</td>\n",
       "      <td>2.439024</td>\n",
       "      <td>0.14</td>\n",
       "      <td>0.0</td>\n",
       "      <td>0.07</td>\n",
       "      <td>0.21</td>\n",
       "      <td>1.16</td>\n",
       "      <td>1.02</td>\n",
       "      <td>6.43</td>\n",
       "      <td>0.34</td>\n",
       "      <td>65.50</td>\n",
       "      <td>0.1675</td>\n",
       "      <td>0.1375</td>\n",
       "      <td>4.050</td>\n",
       "      <td>3.50</td>\n",
       "      <td>20.895522</td>\n",
       "    </tr>\n",
       "    <tr>\n",
       "      <th>449</th>\n",
       "      <td>Bruno</td>\n",
       "      <td>B.Fernandes</td>\n",
       "      <td>MUN</td>\n",
       "      <td>Man Utd</td>\n",
       "      <td>MID</td>\n",
       "      <td>90.0</td>\n",
       "      <td>25.0</td>\n",
       "      <td>0.277778</td>\n",
       "      <td>0.046642</td>\n",
       "      <td>3.000000</td>\n",
       "      <td>52.8</td>\n",
       "      <td>19.8</td>\n",
       "      <td>18</td>\n",
       "      <td>2.8</td>\n",
       "      <td>536.0</td>\n",
       "      <td>1275417</td>\n",
       "      <td>299</td>\n",
       "      <td>1511503</td>\n",
       "      <td>1945</td>\n",
       "      <td>0.0</td>\n",
       "      <td>2.0</td>\n",
       "      <td>2.0</td>\n",
       "      <td>3.52</td>\n",
       "      <td>1.00</td>\n",
       "      <td>4.52</td>\n",
       "      <td>0.442478</td>\n",
       "      <td>0.59</td>\n",
       "      <td>0.0</td>\n",
       "      <td>0.17</td>\n",
       "      <td>0.76</td>\n",
       "      <td>1.53</td>\n",
       "      <td>1.85</td>\n",
       "      <td>10.91</td>\n",
       "      <td>0.00</td>\n",
       "      <td>66.50</td>\n",
       "      <td>0.5100</td>\n",
       "      <td>0.4075</td>\n",
       "      <td>5.175</td>\n",
       "      <td>2.75</td>\n",
       "      <td>5.392157</td>\n",
       "    </tr>\n",
       "    <tr>\n",
       "      <th>16</th>\n",
       "      <td>Bukayo</td>\n",
       "      <td>Saka</td>\n",
       "      <td>ARS</td>\n",
       "      <td>Arsenal</td>\n",
       "      <td>MID</td>\n",
       "      <td>98.0</td>\n",
       "      <td>12.0</td>\n",
       "      <td>0.122449</td>\n",
       "      <td>0.046875</td>\n",
       "      <td>2.500000</td>\n",
       "      <td>21.8</td>\n",
       "      <td>8.2</td>\n",
       "      <td>47</td>\n",
       "      <td>0.8</td>\n",
       "      <td>256.0</td>\n",
       "      <td>844156</td>\n",
       "      <td>2218</td>\n",
       "      <td>1705949</td>\n",
       "      <td>140</td>\n",
       "      <td>0.0</td>\n",
       "      <td>1.0</td>\n",
       "      <td>1.0</td>\n",
       "      <td>0.38</td>\n",
       "      <td>0.34</td>\n",
       "      <td>0.72</td>\n",
       "      <td>1.388889</td>\n",
       "      <td>0.13</td>\n",
       "      <td>0.0</td>\n",
       "      <td>0.12</td>\n",
       "      <td>0.25</td>\n",
       "      <td>0.90</td>\n",
       "      <td>0.35</td>\n",
       "      <td>5.98</td>\n",
       "      <td>0.35</td>\n",
       "      <td>28.50</td>\n",
       "      <td>0.0850</td>\n",
       "      <td>0.0300</td>\n",
       "      <td>2.275</td>\n",
       "      <td>0.75</td>\n",
       "      <td>8.823529</td>\n",
       "    </tr>\n",
       "  </tbody>\n",
       "</table>\n",
       "</div>"
      ],
      "text/plain": [
       "     first_name     web_name team_short       team_name position  price  \\\n",
       "id                                                                        \n",
       "72       Marcos       Senesi        BOU     Bournemouth      DEF   49.0   \n",
       "260        Marc        Guéhi        CRY  Crystal Palace      DEF   48.0   \n",
       "348         Joe        Rodon        LEE           Leeds      DEF   40.0   \n",
       "575       Micky   Van de Ven        TOT           Spurs      DEF   48.0   \n",
       "38         Ezri        Konsa        AVL     Aston Villa      DEF   45.0   \n",
       "249  João Pedro   João Pedro        CHE         Chelsea      FWD   77.0   \n",
       "430      Erling      Haaland        MCI        Man City      FWD  144.0   \n",
       "100  Eli Junior    Kroupi.Jr        BOU     Bournemouth      FWD   45.0   \n",
       "469        Nick         Pope        NEW       Newcastle      GKP   51.0   \n",
       "470      Martin     Dúbravka        BUR         Burnley      GKP   40.0   \n",
       "82      Antoine      Semenyo        BOU     Bournemouth      MID   78.0   \n",
       "241      Moisés      Caicedo        CHE         Chelsea      MID   57.0   \n",
       "427     Tijjani    Reijnders        MCI        Man City      MID   58.0   \n",
       "449       Bruno  B.Fernandes        MUN         Man Utd      MID   90.0   \n",
       "16       Bukayo         Saka        ARS         Arsenal      MID   98.0   \n",
       "\n",
       "     total_points  points_per_cost  points_per_minutes  fdr_next_6  ict_index  \\\n",
       "id                                                                              \n",
       "72           45.0         0.918367            0.078809    3.166667       28.1   \n",
       "260          43.0         0.895833            0.079630    3.166667       23.1   \n",
       "348          29.0         0.725000            0.053704    2.666667       20.7   \n",
       "575          30.0         0.625000            0.056711    3.000000       20.3   \n",
       "38           14.0         0.311111            0.032941    3.166667       10.8   \n",
       "249          37.0         0.480519            0.072549    2.666667       40.2   \n",
       "430          62.0         0.430556            0.123260    3.333333       70.6   \n",
       "100           9.0         0.200000            0.428571    3.166667        7.6   \n",
       "469          34.0         0.666667            0.062963    3.000000       13.5   \n",
       "470          18.0         0.450000            0.033333    3.000000       18.4   \n",
       "82           49.0         0.628205            0.085814    3.166667       47.8   \n",
       "241          35.0         0.614035            0.064815    2.666667       28.4   \n",
       "427          28.0         0.482759            0.052632    3.333333       32.4   \n",
       "449          25.0         0.277778            0.046642    3.000000       52.8   \n",
       "16           12.0         0.122449            0.046875    2.500000       21.8   \n",
       "\n",
       "     selected_by_percent  selected_rank  form  minutes  transfers_in  \\\n",
       "id                                                                     \n",
       "72                  24.0             14   5.0    571.0       2853986   \n",
       "260                 29.9              9   5.0    540.0       2461413   \n",
       "348                  5.2             73   3.2    540.0        528761   \n",
       "575                 34.5              5   4.2    529.0       1692138   \n",
       "38                  10.9             38   2.5    425.0        196553   \n",
       "249                 62.7              1   2.8    510.0       2758918   \n",
       "430                 57.9              2   9.5    503.0       4260583   \n",
       "100                  1.7            145   1.5     21.0        214990   \n",
       "469                  8.7             44   4.0    540.0        728005   \n",
       "470                 34.3              6   2.0    540.0        790564   \n",
       "82                  55.8              3   6.5    571.0       5957202   \n",
       "241                 11.7             34   4.5    540.0       1079008   \n",
       "427                 33.7              7   3.5    532.0       2887150   \n",
       "449                 19.8             18   2.8    536.0       1275417   \n",
       "16                   8.2             47   0.8    256.0        844156   \n",
       "\n",
       "     transfers_in_event  transfers_out  transfers_out_event  assists  \\\n",
       "id                                                                     \n",
       "72                 3437         196153                   89      2.0   \n",
       "260                2340         442180                   82      2.0   \n",
       "348                 893         170185                   65      0.0   \n",
       "575                 592         702360                  562      0.0   \n",
       "38                   88        1181802                  643      0.0   \n",
       "249                 866        1755992                 1935      3.0   \n",
       "430                3653         619137                   45      1.0   \n",
       "100                 138         147082                  114      0.0   \n",
       "469                1270         222975                  132      1.0   \n",
       "470                 334         458742                  306      0.0   \n",
       "82                 2309         514433                  205      2.0   \n",
       "241                 401         454168                  367      0.0   \n",
       "427                 587        1379108                  814      2.0   \n",
       "449                 299        1511503                 1945      0.0   \n",
       "16                 2218        1705949                  140      0.0   \n",
       "\n",
       "     goals_scored  goal_involvements  expected_goals  expected_assists  \\\n",
       "id                                                                       \n",
       "72            0.0                2.0            0.14              0.41   \n",
       "260           1.0                3.0            0.39              0.09   \n",
       "348           1.0                1.0            0.33              0.01   \n",
       "575           1.0                1.0            0.69              0.16   \n",
       "38            0.0                0.0            0.00              0.07   \n",
       "249           2.0                5.0            1.50              0.23   \n",
       "430           8.0                9.0            7.35              0.56   \n",
       "100           1.0                1.0            0.23              0.00   \n",
       "469           0.0                1.0            0.00              0.00   \n",
       "470           0.0                0.0            0.00              0.00   \n",
       "82            4.0                6.0            2.99              0.38   \n",
       "241           2.0                2.0            0.47              0.22   \n",
       "427           1.0                3.0            0.81              0.42   \n",
       "449           2.0                2.0            3.52              1.00   \n",
       "16            1.0                1.0            0.38              0.34   \n",
       "\n",
       "     expected_goal_involvements  GI_on_xGI  expected_goals_per_90  \\\n",
       "id                                                                  \n",
       "72                         0.55   3.636364                   0.02   \n",
       "260                        0.48   6.250000                   0.06   \n",
       "348                        0.34   2.941176                   0.06   \n",
       "575                        0.85   1.176471                   0.12   \n",
       "38                         0.07   0.000000                   0.00   \n",
       "249                        1.73   2.890173                   0.26   \n",
       "430                        7.91   1.137800                   1.32   \n",
       "100                        0.23   4.347826                   0.99   \n",
       "469                        0.00   0.000000                   0.00   \n",
       "470                        0.00        NaN                   0.00   \n",
       "82                         3.37   1.780415                   0.47   \n",
       "241                        0.69   2.898551                   0.08   \n",
       "427                        1.23   2.439024                   0.14   \n",
       "449                        4.52   0.442478                   0.59   \n",
       "16                         0.72   1.388889                   0.13   \n",
       "\n",
       "     saves_per_90  expected_assists_per_90  expected_goal_involvements_per_90  \\\n",
       "id                                                                              \n",
       "72            0.0                     0.06                               0.08   \n",
       "260           0.0                     0.02                               0.08   \n",
       "348           0.0                     0.00                               0.06   \n",
       "575           0.0                     0.03                               0.15   \n",
       "38            0.0                     0.01                               0.01   \n",
       "249           0.0                     0.04                               0.30   \n",
       "430           0.0                     0.10                               1.42   \n",
       "100           0.0                     0.00                               0.99   \n",
       "469           2.5                     0.00                               0.00   \n",
       "470           4.0                     0.00                               0.00   \n",
       "82            0.0                     0.06                               0.53   \n",
       "241           0.0                     0.04                               0.12   \n",
       "427           0.0                     0.07                               0.21   \n",
       "449           0.0                     0.17                               0.76   \n",
       "16            0.0                     0.12                               0.25   \n",
       "\n",
       "     expected_goals_conceded_per_90  goals_conceded_per_90  \\\n",
       "id                                                           \n",
       "72                             0.87                   1.10   \n",
       "260                            1.14                   0.50   \n",
       "348                            1.22                   1.50   \n",
       "575                            1.22                   0.68   \n",
       "38                             1.66                   1.06   \n",
       "249                            1.27                   1.24   \n",
       "430                            1.14                   0.89   \n",
       "100                            1.33                   4.29   \n",
       "469                            0.78                   0.83   \n",
       "470                            2.05                   2.17   \n",
       "82                             0.87                   1.10   \n",
       "241                            1.33                   1.33   \n",
       "427                            1.16                   1.02   \n",
       "449                            1.53                   1.85   \n",
       "16                             0.90                   0.35   \n",
       "\n",
       "     defensive_contribution_per_90  clean_sheets_per_90  minutes_last  \\\n",
       "id                                                                      \n",
       "72                           13.08                 0.47         76.00   \n",
       "260                           7.83                 0.50         67.50   \n",
       "348                           9.33                 0.33         67.50   \n",
       "575                           5.61                 0.51         64.75   \n",
       "38                            4.87                 0.42         67.50   \n",
       "249                           4.94                 0.35         64.50   \n",
       "430                           4.29                 0.54         62.75   \n",
       "100                           8.57                 0.00          2.25   \n",
       "469                           0.00                 0.67         67.50   \n",
       "470                           0.00                 0.17         67.50   \n",
       "82                            7.88                 0.47         76.00   \n",
       "241                          14.17                 0.33         67.50   \n",
       "427                           6.43                 0.34         65.50   \n",
       "449                          10.91                 0.00         66.50   \n",
       "16                            5.98                 0.35         28.50   \n",
       "\n",
       "     xGI_last  xG_last  ict_last  total_points_last  \\\n",
       "id                                                    \n",
       "72     0.0800   0.0000     3.900               5.00   \n",
       "260    0.0750   0.0575     2.875               5.00   \n",
       "348    0.0850   0.0825     3.625               3.25   \n",
       "575    0.0600   0.0250     3.425               4.25   \n",
       "38     0.0075   0.0000     1.700               2.50   \n",
       "249    0.0575   0.0375     3.000               2.75   \n",
       "430    0.9375   0.8725    10.450               9.50   \n",
       "100    0.0575   0.0575     1.850               1.50   \n",
       "469    0.0000   0.0000     2.200               4.00   \n",
       "470    0.0000   0.0000     2.800               2.00   \n",
       "82     0.3550   0.2975     5.300               6.50   \n",
       "241    0.0650   0.0325     3.525               4.50   \n",
       "427    0.1675   0.1375     4.050               3.50   \n",
       "449    0.5100   0.4075     5.175               2.75   \n",
       "16     0.0850   0.0300     2.275               0.75   \n",
       "\n",
       "     total_points_last_per_xGI_last  \n",
       "id                                   \n",
       "72                        62.500000  \n",
       "260                       66.666667  \n",
       "348                       38.235294  \n",
       "575                       70.833333  \n",
       "38                       333.333333  \n",
       "249                       47.826087  \n",
       "430                       10.133333  \n",
       "100                       26.086957  \n",
       "469                        0.000000  \n",
       "470                        0.000000  \n",
       "82                        18.309859  \n",
       "241                       69.230769  \n",
       "427                       20.895522  \n",
       "449                        5.392157  \n",
       "16                         8.823529  "
      ]
     },
     "execution_count": 12,
     "metadata": {},
     "output_type": "execute_result"
    }
   ],
   "source": [
    "# Budget\n",
    "my_budget = 40.0  \n",
    "\n",
    "# Liste des noms des joueurs à ajouter\n",
    "selected_names = [\"Pope\", \"Dúbravka\", \"Guéhi\", \"Senesi\", \"Van de Ven\", \"Konsa\", \"Rodon\", \"Saka\", \"Reijnders\",  \n",
    "                   \"Semenyo\", \"B.Fernandes\", \"Caicedo\", \"\", \"João Pedro\", \"Haaland\", \"Kroupi.Jr\"]  # Remplace par les noms souhaités\n",
    "\n",
    "# Filtrer df_players pour obtenir les joueurs sélectionnés\n",
    "df_my_team = df_players[df_players[\"web_name\"].isin(selected_names)]\n",
    "\n",
    "# Afficher l'équipe sélectionnée\n",
    "df_my_team.sort_values(by = ['position'])"
   ]
  },
  {
   "cell_type": "code",
   "execution_count": 13,
   "id": "52140b34",
   "metadata": {},
   "outputs": [
    {
     "data": {
      "text/plain": [
       "np.float64(968.0)"
      ]
     },
     "execution_count": 13,
     "metadata": {},
     "output_type": "execute_result"
    }
   ],
   "source": [
    "df_my_team.sum(numeric_only=True)['price'] # Coût total de l'équipe sélectionnée"
   ]
  },
  {
   "cell_type": "code",
   "execution_count": 14,
   "id": "72d4b82a",
   "metadata": {},
   "outputs": [],
   "source": [
    "# Je dois composer une équipe de 15 joueurs, je veux savoir si je peux l'améliorer en respectant les contraintes suivantes :\n",
    "# Mon budget est défini par la valeur my_budget (paramètre à modifier)\n",
    "# Je dois respecter la composition d'équipe suivante : 2 Gardiens (GKP), 5 Défenseurs (DEF), 5 Milieux (MID), 3 Attaquants (FWD)\n",
    "# Je ne peux pas avoir plus de 3 joueurs appartenant à la même équipe\n",
    "# Je veux maximiser le nombre de points que mon équipe peut potentiellement rapporter\n",
    "# Les critères me permettant de déterminer si un joueur va performer : les points_per_cost, l'ict_index, les points_per_minutes, le fdr_next_6 (plus la valeur est basse, plus le calendrier est facile et donc le joueur a de chances de performer)\n",
    "# La base de données df_players contient les informations nécessaires pour chaque joueur\n",
    "# A l'aide de Pulp, je vais résoudre ce problème d'optimisation linéaire en utilisant la programmation linéaire "
   ]
  },
  {
   "cell_type": "code",
   "execution_count": 15,
   "id": "50e03d6d",
   "metadata": {},
   "outputs": [
    {
     "name": "stdout",
     "output_type": "stream",
     "text": [
      "Corrélation entre ict_index et total_points : 0.894\n"
     ]
    }
   ],
   "source": [
    "corr = df_players['ict_index'].corr(df_players['total_points'])\n",
    "print(f\"Corrélation entre ict_index et total_points : {corr:.3f}\")\n"
   ]
  },
  {
   "cell_type": "code",
   "execution_count": 16,
   "id": "c8958aa4",
   "metadata": {},
   "outputs": [
    {
     "data": {
      "image/png": "[encoded data removed]",
      "text/plain": [
       "<Figure size 640x480 with 1 Axes>"
      ]
     },
     "metadata": {},
     "output_type": "display_data"
    }
   ],
   "source": [
    "sns.scatterplot(data=df_players, x='ict_index', y='total_points', hue='position')\n",
    "plt.title('ict_index vs total_points par position')\n",
    "plt.show()\n"
   ]
  },
  {
   "cell_type": "code",
   "execution_count": 17,
   "id": "9ff3f80c",
   "metadata": {},
   "outputs": [
    {
     "data": {
      "image/png": "[encoded data removed]",
      "text/plain": [
       "<Figure size 832.5x500 with 1 Axes>"
      ]
     },
     "metadata": {},
     "output_type": "display_data"
    }
   ],
   "source": [
    "sns.lmplot(data=df_players, x='ict_index', y='points_per_cost', hue='position', aspect=1.5)\n",
    "plt.title('Relation linéaire entre ict_index et points_per_cost')\n",
    "plt.show()"
   ]
  },
  {
   "cell_type": "code",
   "execution_count": 18,
   "id": "09224312",
   "metadata": {},
   "outputs": [
    {
     "data": {
      "application/vnd.plotly.v1+json": {
       "config": {
        "plotlyServerURL": "https://plot.ly"
       },
       "data": [
        {
         "hovertemplate": "position=FWD<br>ict_index=%{x}<br>points_per_cost=%{y}<br>web_name=%{text}<extra></extra>",
         "legendgroup": "FWD",
         "marker": {
          "color": "#636efa",
          "symbol": "circle"
         },
         "mode": "markers+text",
         "name": "FWD",
         "orientation": "v",
         "showlegend": true,
         "text": [
          "Thiago",
          "Isidor",
          "João Pedro",
          "Richarlison",
          "Haaland",
          "Bowen",
          "Foster",
          "Ekitiké",
          "Evanilson",
          "Wood",
          "Calvert-Lewin",
          "Muniz",
          "Welbeck",
          "Gyökeres",
          "Beto",
          "Woltemade",
          "Mateta",
          "Mayenda",
          "Nmecha",
          "Watkins",
          "Osula",
          "Kroupi.Jr",
          "Šeško",
          "Raúl",
          "Wilson",
          "Füllkrug",
          "Barry",
          "Strand Larsen",
          "Nketiah",
          "Tolu",
          "Igor Jesus",
          "Kalimuendo",
          "Delap",
          "Piroe",
          "Flemming",
          "Zirkzee",
          "Marc Guiu",
          "Broja",
          "Tzimas",
          "Brobbey",
          "Isak",
          "Solanke",
          "Kalajdžić",
          "Édouard",
          "Uche",
          "Havertz",
          "G.Jesus",
          "Redmond",
          "Amdouni",
          "Barnes",
          "Obafemi",
          "Enes Ünal",
          "Adu-Adjei",
          "Morgan",
          "Ferguson",
          "Kostoulas",
          "N.Jackson",
          "Marsh",
          "Y.Chermiti",
          "Sherif",
          "Kusi-Asare",
          "Bamford",
          "Mateo Joseph",
          "Gray",
          "Darwin",
          "Danns",
          "Højlund",
          "Obi",
          "Wheatley",
          "Wissa",
          "Neave",
          "Awoniyi",
          "Abdullahi",
          "Luís Hemir",
          "Rusyn",
          "Lankshear",
          "Scarlett",
          "Kolo Muani",
          "Marshall",
          "Fábio Silva",
          "Chiwome",
          "Fraser"
         ],
         "type": "scatter",
         "x": {
          "bdata": "mpmZmZmZQUAAAAAAAAA5QJqZmZmZGURAMzMzMzNzQ0BmZmZmZqZRQJqZmZmZ2URAmpmZmZkZNUBmZmZmZmY9QAAAAAAAAD1AzczMzMxMPUAAAAAAAIA1QAAAAAAAADRAAAAAAACAM0CamZmZmVlBQGZmZmZm5jBAAAAAAACAMEAAAAAAAEBAQJqZmZmZmSRAZmZmZmZmIUAAAAAAAIA4QJqZmZmZmR9AZmZmZmZmHkAAAAAAAAA4QDMzMzMzMyJAmpmZmZmZLEAzMzMzMzM1QAAAAAAAABBAMzMzMzMzJkAAAAAAAAAhQDMzMzMzMx9AMzMzMzMzHUBmZmZmZmYQQAAAAAAAABRAMzMzMzMzFUBmZmZmZmb+PzMzMzMzMyBAZmZmZmZm5j8AAAAAAADgP83MzMzMzPw/mpmZmZmZ2T+amZmZmZn5P83MzMzMzAhAZmZmZmZm5j+amZmZmZnJP2ZmZmZmZgJAMzMzMzMz4z8AAAAAAAAAAAAAAAAAAAAAAAAAAAAAAAAAAAAAAAAAAAAAAAAAAAAAAAAAAAAAAAAAAAAAAAAAAAAAAAAAAAAAAAAAAAAAAAAAAAAAAAAAAAAAAAAAAAAAAAAAAAAAAAAAAAAAAAAAAAAAAAAAAAAAAAAAAAAAAAAAAAAAAAAAAAAAAAAAAAAAAAAAAAAAAAAAAAAAAAAAAAAAAAAAAAAAAAAAAAAAAAAAAAAAAAAAAAAAAAAAAAAAAAAAAAAAAAAAAAAAAAAAAAAAAAAAAAAAAAAAAAAAAAAAAAAAAAAAAAAAAAAAAAAAAAAAAAAAAAAAAAAAAAAAAAAAAAAAAAAAAAAAAAAAAAAAAAAAAAAAAAAAAAAAAAAAAAAAAAAAAAA=",
          "dtype": "f8"
         },
         "xaxis": "x",
         "y": {
          "bdata": "AAAAAAAA4D+3bdu2bdveP1MDe8fUwN4/LS0tLS0t3T/kOI7jOI7bP9u2bdu2bds/mpmZmZmZ2T/IpHiBTIrXPzMzMzMzM9M/bzBFPusG0z+eEuQpQZ7SP3TRRRdddNE/URRFURRF0T8RERERERHRP3sJ7SW0l9A/NgcSrbA50D+4HoXrUbjOP0GeEuQpQc4/KVyPwvUozD9huacRlnvKP5qZmZmZmck/mpmZmZmZyT/EiBEjRozIPxiGYRiGYcg/shVBw0ndxz9wH8F9BPfBP0dY7mmE5b4/AAAAAAAAvD9CewntJbS3P0YXXXTRRbc/fBphuacRtj9VVVVVVVW1P4QQQgghhLA/ntiJndiJrT8iNcF4K/usP5S6L4+tCKo/9AV9QV/Qpz/BeCv7HFKjP2gvob2E9qI/nhLkKUGeoj8iNcF4K/ucPxzHcRzHcZw/OQUvp+DllD97FK5H4XqUP54S5ClBnpI/4MCBAwcOjD8AAAAAAAAAAAAAAAAAAAAAAAAAAAAAAAAAAAAAAAAAAAAAAAAAAAAAAAAAAAAAAAAAAAAAAAAAAAAAAAAAAAAAAAAAAAAAAAAAAAAAAAAAAAAAAAAAAAAAAAAAAAAAAAAAAAAAAAAAAAAAAAAAAAAAAAAAAAAAAAAAAAAAAAAAAAAAAAAAAAAAAAAAAAAAAAAAAAAAAAAAAAAAAAAAAAAAAAAAAAAAAAAAAAAAAAAAAAAAAAAAAAAAAAAAAAAAAAAAAAAAAAAAAAAAAAAAAAAAAAAAAAAAAAAAAAAAAAAAAAAAAAAAAAAAAAAAAAAAAAAAAAAAAAAAAAAAAAAAAAAAAAAAAAAAAAAAAAAAAAAAAAAAAAAAAAAAAAAAAAAAAAA=",
          "dtype": "f8"
         },
         "yaxis": "y"
        }
       ],
       "layout": {
        "hovermode": "closest",
        "legend": {
         "title": {
          "text": "position"
         },
         "tracegroupgap": 0
        },
        "template": {
         "data": {
          "bar": [
           {
            "error_x": {
             "color": "#2a3f5f"
            },
            "error_y": {
             "color": "#2a3f5f"
            },
            "marker": {
             "line": {
              "color": "#E5ECF6",
              "width": 0.5
             },
             "pattern": {
              "fillmode": "overlay",
              "size": 10,
              "solidity": 0.2
             }
            },
            "type": "bar"
           }
          ],
          "barpolar": [
           {
            "marker": {
             "line": {
              "color": "#E5ECF6",
              "width": 0.5
             },
             "pattern": {
              "fillmode": "overlay",
              "size": 10,
              "solidity": 0.2
             }
            },
            "type": "barpolar"
           }
          ],
          "carpet": [
           {
            "aaxis": {
             "endlinecolor": "#2a3f5f",
             "gridcolor": "white",
             "linecolor": "white",
             "minorgridcolor": "white",
             "startlinecolor": "#2a3f5f"
            },
            "baxis": {
             "endlinecolor": "#2a3f5f",
             "gridcolor": "white",
             "linecolor": "white",
             "minorgridcolor": "white",
             "startlinecolor": "#2a3f5f"
            },
            "type": "carpet"
           }
          ],
          "choropleth": [
           {
            "colorbar": {
             "outlinewidth": 0,
             "ticks": ""
            },
            "type": "choropleth"
           }
          ],
          "contour": [
           {
            "colorbar": {
             "outlinewidth": 0,
             "ticks": ""
            },
            "colorscale": [
             [
              0,
              "#0d0887"
             ],
             [
              0.1111111111111111,
              "#46039f"
             ],
             [
              0.2222222222222222,
              "#7201a8"
             ],
             [
              0.3333333333333333,
              "#9c179e"
             ],
             [
              0.4444444444444444,
              "#bd3786"
             ],
             [
              0.5555555555555556,
              "#d8576b"
             ],
             [
              0.6666666666666666,
              "#ed7953"
             ],
             [
              0.7777777777777778,
              "#fb9f3a"
             ],
             [
              0.8888888888888888,
              "#fdca26"
             ],
             [
              1,
              "#f0f921"
             ]
            ],
            "type": "contour"
           }
          ],
          "contourcarpet": [
           {
            "colorbar": {
             "outlinewidth": 0,
             "ticks": ""
            },
            "type": "contourcarpet"
           }
          ],
          "heatmap": [
           {
            "colorbar": {
             "outlinewidth": 0,
             "ticks": ""
            },
            "colorscale": [
             [
              0,
              "#0d0887"
             ],
             [
              0.1111111111111111,
              "#46039f"
             ],
             [
              0.2222222222222222,
              "#7201a8"
             ],
             [
              0.3333333333333333,
              "#9c179e"
             ],
             [
              0.4444444444444444,
              "#bd3786"
             ],
             [
              0.5555555555555556,
              "#d8576b"
             ],
             [
              0.6666666666666666,
              "#ed7953"
             ],
             [
              0.7777777777777778,
              "#fb9f3a"
             ],
             [
              0.8888888888888888,
              "#fdca26"
             ],
             [
              1,
              "#f0f921"
             ]
            ],
            "type": "heatmap"
           }
          ],
          "histogram": [
           {
            "marker": {
             "pattern": {
              "fillmode": "overlay",
              "size": 10,
              "solidity": 0.2
             }
            },
            "type": "histogram"
           }
          ],
          "histogram2d": [
           {
            "colorbar": {
             "outlinewidth": 0,
             "ticks": ""
            },
            "colorscale": [
             [
              0,
              "#0d0887"
             ],
             [
              0.1111111111111111,
              "#46039f"
             ],
             [
              0.2222222222222222,
              "#7201a8"
             ],
             [
              0.3333333333333333,
              "#9c179e"
             ],
             [
              0.4444444444444444,
              "#bd3786"
             ],
             [
              0.5555555555555556,
              "#d8576b"
             ],
             [
              0.6666666666666666,
              "#ed7953"
             ],
             [
              0.7777777777777778,
              "#fb9f3a"
             ],
             [
              0.8888888888888888,
              "#fdca26"
             ],
             [
              1,
              "#f0f921"
             ]
            ],
            "type": "histogram2d"
           }
          ],
          "histogram2dcontour": [
           {
            "colorbar": {
             "outlinewidth": 0,
             "ticks": ""
            },
            "colorscale": [
             [
              0,
              "#0d0887"
             ],
             [
              0.1111111111111111,
              "#46039f"
             ],
             [
              0.2222222222222222,
              "#7201a8"
             ],
             [
              0.3333333333333333,
              "#9c179e"
             ],
             [
              0.4444444444444444,
              "#bd3786"
             ],
             [
              0.5555555555555556,
              "#d8576b"
             ],
             [
              0.6666666666666666,
              "#ed7953"
             ],
             [
              0.7777777777777778,
              "#fb9f3a"
             ],
             [
              0.8888888888888888,
              "#fdca26"
             ],
             [
              1,
              "#f0f921"
             ]
            ],
            "type": "histogram2dcontour"
           }
          ],
          "mesh3d": [
           {
            "colorbar": {
             "outlinewidth": 0,
             "ticks": ""
            },
            "type": "mesh3d"
           }
          ],
          "parcoords": [
           {
            "line": {
             "colorbar": {
              "outlinewidth": 0,
              "ticks": ""
             }
            },
            "type": "parcoords"
           }
          ],
          "pie": [
           {
            "automargin": true,
            "type": "pie"
           }
          ],
          "scatter": [
           {
            "fillpattern": {
             "fillmode": "overlay",
             "size": 10,
             "solidity": 0.2
            },
            "type": "scatter"
           }
          ],
          "scatter3d": [
           {
            "line": {
             "colorbar": {
              "outlinewidth": 0,
              "ticks": ""
             }
            },
            "marker": {
             "colorbar": {
              "outlinewidth": 0,
              "ticks": ""
             }
            },
            "type": "scatter3d"
           }
          ],
          "scattercarpet": [
           {
            "marker": {
             "colorbar": {
              "outlinewidth": 0,
              "ticks": ""
             }
            },
            "type": "scattercarpet"
           }
          ],
          "scattergeo": [
           {
            "marker": {
             "colorbar": {
              "outlinewidth": 0,
              "ticks": ""
             }
            },
            "type": "scattergeo"
           }
          ],
          "scattergl": [
           {
            "marker": {
             "colorbar": {
              "outlinewidth": 0,
              "ticks": ""
             }
            },
            "type": "scattergl"
           }
          ],
          "scattermap": [
           {
            "marker": {
             "colorbar": {
              "outlinewidth": 0,
              "ticks": ""
             }
            },
            "type": "scattermap"
           }
          ],
          "scattermapbox": [
           {
            "marker": {
             "colorbar": {
              "outlinewidth": 0,
              "ticks": ""
             }
            },
            "type": "scattermapbox"
           }
          ],
          "scatterpolar": [
           {
            "marker": {
             "colorbar": {
              "outlinewidth": 0,
              "ticks": ""
             }
            },
            "type": "scatterpolar"
           }
          ],
          "scatterpolargl": [
           {
            "marker": {
             "colorbar": {
              "outlinewidth": 0,
              "ticks": ""
             }
            },
            "type": "scatterpolargl"
           }
          ],
          "scatterternary": [
           {
            "marker": {
             "colorbar": {
              "outlinewidth": 0,
              "ticks": ""
             }
            },
            "type": "scatterternary"
           }
          ],
          "surface": [
           {
            "colorbar": {
             "outlinewidth": 0,
             "ticks": ""
            },
            "colorscale": [
             [
              0,
              "#0d0887"
             ],
             [
              0.1111111111111111,
              "#46039f"
             ],
             [
              0.2222222222222222,
              "#7201a8"
             ],
             [
              0.3333333333333333,
              "#9c179e"
             ],
             [
              0.4444444444444444,
              "#bd3786"
             ],
             [
              0.5555555555555556,
              "#d8576b"
             ],
             [
              0.6666666666666666,
              "#ed7953"
             ],
             [
              0.7777777777777778,
              "#fb9f3a"
             ],
             [
              0.8888888888888888,
              "#fdca26"
             ],
             [
              1,
              "#f0f921"
             ]
            ],
            "type": "surface"
           }
          ],
          "table": [
           {
            "cells": {
             "fill": {
              "color": "#EBF0F8"
             },
             "line": {
              "color": "white"
             }
            },
            "header": {
             "fill": {
              "color": "#C8D4E3"
             },
             "line": {
              "color": "white"
             }
            },
            "type": "table"
           }
          ]
         },
         "layout": {
          "annotationdefaults": {
           "arrowcolor": "#2a3f5f",
           "arrowhead": 0,
           "arrowwidth": 1
          },
          "autotypenumbers": "strict",
          "coloraxis": {
           "colorbar": {
            "outlinewidth": 0,
            "ticks": ""
           }
          },
          "colorscale": {
           "diverging": [
            [
             0,
             "#8e0152"
            ],
            [
             0.1,
             "#c51b7d"
            ],
            [
             0.2,
             "#de77ae"
            ],
            [
             0.3,
             "#f1b6da"
            ],
            [
             0.4,
             "#fde0ef"
            ],
            [
             0.5,
             "#f7f7f7"
            ],
            [
             0.6,
             "#e6f5d0"
            ],
            [
             0.7,
             "#b8e186"
            ],
            [
             0.8,
             "#7fbc41"
            ],
            [
             0.9,
             "#4d9221"
            ],
            [
             1,
             "#276419"
            ]
           ],
           "sequential": [
            [
             0,
             "#0d0887"
            ],
            [
             0.1111111111111111,
             "#46039f"
            ],
            [
             0.2222222222222222,
             "#7201a8"
            ],
            [
             0.3333333333333333,
             "#9c179e"
            ],
            [
             0.4444444444444444,
             "#bd3786"
            ],
            [
             0.5555555555555556,
             "#d8576b"
            ],
            [
             0.6666666666666666,
             "#ed7953"
            ],
            [
             0.7777777777777778,
             "#fb9f3a"
            ],
            [
             0.8888888888888888,
             "#fdca26"
            ],
            [
             1,
             "#f0f921"
            ]
           ],
           "sequentialminus": [
            [
             0,
             "#0d0887"
            ],
            [
             0.1111111111111111,
             "#46039f"
            ],
            [
             0.2222222222222222,
             "#7201a8"
            ],
            [
             0.3333333333333333,
             "#9c179e"
            ],
            [
             0.4444444444444444,
             "#bd3786"
            ],
            [
             0.5555555555555556,
             "#d8576b"
            ],
            [
             0.6666666666666666,
             "#ed7953"
            ],
            [
             0.7777777777777778,
             "#fb9f3a"
            ],
            [
             0.8888888888888888,
             "#fdca26"
            ],
            [
             1,
             "#f0f921"
            ]
           ]
          },
          "colorway": [
           "#636efa",
           "#EF553B",
           "#00cc96",
           "#ab63fa",
           "#FFA15A",
           "#19d3f3",
           "#FF6692",
           "#B6E880",
           "#FF97FF",
           "#FECB52"
          ],
          "font": {
           "color": "#2a3f5f"
          },
          "geo": {
           "bgcolor": "white",
           "lakecolor": "white",
           "landcolor": "#E5ECF6",
           "showlakes": true,
           "showland": true,
           "subunitcolor": "white"
          },
          "hoverlabel": {
           "align": "left"
          },
          "hovermode": "closest",
          "mapbox": {
           "style": "light"
          },
          "paper_bgcolor": "white",
          "plot_bgcolor": "#E5ECF6",
          "polar": {
           "angularaxis": {
            "gridcolor": "white",
            "linecolor": "white",
            "ticks": ""
           },
           "bgcolor": "#E5ECF6",
           "radialaxis": {
            "gridcolor": "white",
            "linecolor": "white",
            "ticks": ""
           }
          },
          "scene": {
           "xaxis": {
            "backgroundcolor": "#E5ECF6",
            "gridcolor": "white",
            "gridwidth": 2,
            "linecolor": "white",
            "showbackground": true,
            "ticks": "",
            "zerolinecolor": "white"
           },
           "yaxis": {
            "backgroundcolor": "#E5ECF6",
            "gridcolor": "white",
            "gridwidth": 2,
            "linecolor": "white",
            "showbackground": true,
            "ticks": "",
            "zerolinecolor": "white"
           },
           "zaxis": {
            "backgroundcolor": "#E5ECF6",
            "gridcolor": "white",
            "gridwidth": 2,
            "linecolor": "white",
            "showbackground": true,
            "ticks": "",
            "zerolinecolor": "white"
           }
          },
          "shapedefaults": {
           "line": {
            "color": "#2a3f5f"
           }
          },
          "ternary": {
           "aaxis": {
            "gridcolor": "white",
            "linecolor": "white",
            "ticks": ""
           },
           "baxis": {
            "gridcolor": "white",
            "linecolor": "white",
            "ticks": ""
           },
           "bgcolor": "#E5ECF6",
           "caxis": {
            "gridcolor": "white",
            "linecolor": "white",
            "ticks": ""
           }
          },
          "title": {
           "x": 0.05
          },
          "xaxis": {
           "automargin": true,
           "gridcolor": "white",
           "linecolor": "white",
           "ticks": "",
           "title": {
            "standoff": 15
           },
           "zerolinecolor": "white",
           "zerolinewidth": 2
          },
          "yaxis": {
           "automargin": true,
           "gridcolor": "white",
           "linecolor": "white",
           "ticks": "",
           "title": {
            "standoff": 15
           },
           "zerolinecolor": "white",
           "zerolinewidth": 2
          }
         }
        },
        "title": {
         "text": "ict_index vs points_per_cost (Hover pour nom du joueur)"
        },
        "xaxis": {
         "anchor": "y",
         "domain": [
          0,
          1
         ],
         "title": {
          "text": "ict_index"
         }
        },
        "yaxis": {
         "anchor": "x",
         "domain": [
          0,
          1
         ],
         "title": {
          "text": "points_per_cost"
         }
        }
       }
      }
     },
     "metadata": {},
     "output_type": "display_data"
    }
   ],
   "source": [
    "import plotly.express as px\n",
    "\n",
    "fig = px.scatter(\n",
    "    df_players[df_players['position'] == 'FWD'],  # Filtrer pour éviter les joueurs sans minutes\n",
    "    x='ict_index',\n",
    "    y='points_per_cost',\n",
    "    text='web_name',  # Affiche le nom au survol\n",
    "    color='position', # Optionnel, couleur par poste\n",
    "    title='ict_index vs points_per_cost (Hover pour nom du joueur)'\n",
    ")\n",
    "\n",
    "fig.update_traces(marker=dict(size=10, opacity=0.7),\n",
    "                  selector=dict(mode='markers'))\n",
    "fig.update_layout(hovermode='closest')\n",
    "fig.show()"
   ]
  },
  {
   "cell_type": "code",
   "execution_count": 19,
   "id": "cc23512f",
   "metadata": {},
   "outputs": [
    {
     "data": {
      "image/png": "[encoded data removed]",
      "text/plain": [
       "<Figure size 832.5x500 with 1 Axes>"
      ]
     },
     "metadata": {},
     "output_type": "display_data"
    }
   ],
   "source": [
    "sns.lmplot(data=df_players, x='expected_goal_involvements', y='goal_involvements', hue='position', aspect=1.5)\n",
    "plt.title('Relation linéaire entre expected_goal_involvements et goal_involvements')\n",
    "plt.show()\n"
   ]
  },
  {
   "cell_type": "code",
   "execution_count": 20,
   "id": "60c5829e",
   "metadata": {},
   "outputs": [
    {
     "data": {
      "application/vnd.plotly.v1+json": {
       "config": {
        "plotlyServerURL": "https://plot.ly"
       },
       "data": [
        {
         "hovertemplate": "position=DEF<br>expected_goal_involvements=%{x}<br>goal_involvements=%{y}<br>web_name=%{text}<extra></extra>",
         "legendgroup": "DEF",
         "marker": {
          "color": "#636efa",
          "symbol": "circle"
         },
         "mode": "markers+text",
         "name": "DEF",
         "orientation": "v",
         "showlegend": true,
         "text": [
          "Alderete",
          "Senesi",
          "Guéhi",
          "Livramento",
          "Rodon",
          "Keane",
          "Mitchell",
          "Chalobah",
          "Lacroix",
          "Richards",
          "Burn",
          "J.Timber",
          "Calafiori",
          "Van de Ven",
          "Truffert",
          "Gabriel",
          "Romero",
          "Andersen",
          "Mukiele",
          "Cash",
          "Hume",
          "Diakité",
          "Gudmundsson",
          "Diouf",
          "Mings",
          "Struijk",
          "Muñoz",
          "Tarkowski",
          "Ekdal",
          "Spence",
          "Virgil",
          "Bogle",
          "Digne",
          "Ballard",
          "Schär",
          "Hartman",
          "Trippier",
          "Konaté",
          "Pedro Porro",
          "Botman",
          "Van den Berg",
          "Bassey",
          "Kayode",
          "S.Bueno",
          "De Ligt",
          "O'Brien",
          "Estève",
          "Reinildo",
          "Maguire",
          "Tete",
          "Cucurella",
          "Rúben",
          "Bogarde",
          "Collins",
          "Lewis-Potter",
          "Saliba",
          "Dunk",
          "Konsa",
          "Yoro",
          "N.Williams",
          "O’Reilly",
          "Matheus N.",
          "De Cuyper",
          "Mavropanos",
          "Agbadou",
          "Lewis",
          "James",
          "Hill",
          "Kilman",
          "Van Hecke",
          "Tosin",
          "Walker-Peters",
          "Acheampong",
          "Thiaw",
          "Mosquera",
          "Krejčí",
          "R.Gomes",
          "Walker",
          "Gvardiol",
          "H.Bueno",
          "Gusto",
          "Khusanov",
          "Kerkez",
          "Dorgu",
          "Shaw",
          "Mazraoui",
          "Smith",
          "Aït-Nouri",
          "Hall",
          "Milenković",
          "Stones",
          "Dalot",
          "Castagne",
          "F.Kadıoğlu",
          "Veltman",
          "Ajer",
          "Møller Wolfe",
          "Murillo",
          "Aina",
          "Toti",
          "Udogie",
          "White",
          "Tchatchoua",
          "Frimpong",
          "Hickey",
          "Morato",
          "Pau",
          "Henry",
          "Milosavljević",
          "Zinchenko",
          "Worrall",
          "Sonne",
          "Aké",
          "N.Aguerd",
          "Mosquera",
          "Fofana",
          "J.Cuenca",
          "Geertruida",
          "Mykolenko",
          "Bradley",
          "Robinson",
          "Lewis-Skelly",
          "Hoever",
          "Seelt",
          "Justin",
          "Maatsen",
          "Danso",
          "Coppola",
          "Lindelöf",
          "Hato",
          "Gomez",
          "Clyne",
          "Heaven",
          "Byram",
          "Masuaku",
          "Soler",
          "Wan-Bissaka",
          "Todibo",
          "Lascelles",
          "Coleman",
          "Diop",
          "Igor",
          "Robertson",
          "A.Jimenez",
          "Doherty",
          "Pinnock",
          "Savona",
          "Kiwior",
          "Clarke",
          "Kacurri",
          "Nichols",
          "Hincapie",
          "A.García",
          "Alex Moreno",
          "Sousa",
          "Yasin",
          "Rowe",
          "Patterson",
          "Roberts",
          "Delcroix",
          "Dodgson",
          "Humphreys",
          "Jordan",
          "Lucas Pires",
          "Sambo",
          "Tuanzebe",
          "Zabarnyi",
          "Akinmboni",
          "Bevan",
          "J.Araujo",
          "Mepham",
          "Roerslev",
          "Arthur",
          "Fredrick",
          "Ji-soo",
          "Meghoma",
          "Boscagli",
          "Estupiñan",
          "Lamptey",
          "Webster",
          "Cashin",
          "Slater",
          "Tasker",
          "Colwill",
          "M.Sarr",
          "Anselmino",
          "Sosa",
          "Chadi Riad",
          "Holding",
          "Kporha",
          "Canvot",
          "Branthwaite",
          "Patterson",
          "Dixon",
          "Welch",
          "Aznou",
          "Campbell",
          "Amissah",
          "Bijol",
          "Bornauw",
          "Schmidt",
          "Tsimikas",
          "Nallo",
          "R.Williams",
          "Ramsay",
          "Leoni",
          "Akanji",
          "Vitor Reis",
          "Mfuni",
          "Martinez",
          "D.Leon",
          "Amass",
          "Fredricson",
          "Malacia",
          "Krafth",
          "A.Murphy",
          "Ashby",
          "Pivas",
          "Targett",
          "David Carmo",
          "Jair Cunha",
          "O.Richards",
          "Abbott",
          "Boly",
          "Cuiabano",
          "Alese",
          "Anderson",
          "Cirkin",
          "Hjelde",
          "Huggins",
          "Johnson",
          "O'Nien",
          "Pembele",
          "Davies",
          "Dragusin",
          "Phillips",
          "Takai",
          "Vuskovic",
          "Emerson",
          "Scarles",
          "Casey",
          "Meupiyou",
          "Pedro Lima",
          "Pond",
          "B.Badiashile"
         ],
         "type": "scatter",
         "x": {
          "bdata": "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",
          "dtype": "f8"
         },
         "xaxis": "x",
         "y": {
          "bdata": "AAAAAAAAAEAAAAAAAAAAQAAAAAAAAAhAAAAAAAAA8D8AAAAAAADwPwAAAAAAAPA/AAAAAAAA8D8AAAAAAAAIQAAAAAAAAPA/AAAAAAAAAAAAAAAAAAAAAAAAAAAAAAhAAAAAAAAACEAAAAAAAADwPwAAAAAAAAAAAAAAAAAA8D8AAAAAAADwPwAAAAAAAAAAAAAAAAAAAAAAAAAAAADwPwAAAAAAAAAAAAAAAAAAAAAAAAAAAAAAAAAAAAAAABBAAAAAAAAAAAAAAAAAAAAAAAAAAAAAAPA/AAAAAAAAAAAAAAAAAAAAAAAAAAAAAAAAAAAAAAAAAAAAAAAAAADwPwAAAAAAAPA/AAAAAAAA8D8AAAAAAAAAAAAAAAAAAPA/AAAAAAAAAAAAAAAAAAAAAAAAAAAAAAAAAAAAAAAAAAAAAAAAAAAAAAAAAAAAAAAAAAAAAAAAAAAAAAAAAADwPwAAAAAAAAAAAAAAAAAAAAAAAAAAAAAAAAAAAAAAAAAAAAAAAAAA8D8AAAAAAAAAAAAAAAAAAPA/AAAAAAAAAAAAAAAAAAAAAAAAAAAAAAAAAAAAAAAAAAAAAAAAAAAAAAAAAAAAAPA/AAAAAAAAAAAAAAAAAADwPwAAAAAAAPA/AAAAAAAAAAAAAAAAAAAAQAAAAAAAAPA/AAAAAAAAAAAAAAAAAAAAAAAAAAAAAPA/AAAAAAAAAEAAAAAAAAAAAAAAAAAAAAAAAAAAAAAAAAAAAAAAAAAAAAAAAAAAAAAAAAAAAAAAAAAAAAAAAAAAAAAAAAAAAAAAAAAAAAAA8D8AAAAAAADwPwAAAAAAAAAAAAAAAAAAAAAAAAAAAAAAAAAAAAAAAAAAAAAAAAAAAAAAAAAAAAAAAAAAAAAAAPA/AAAAAAAAAAAAAAAAAAAAAAAAAAAAAAAAAAAAAAAAAAAAAAAAAAAAAAAAAAAAAAAAAAAAAAAAAAAAAAAAAADwPwAAAAAAAAAAAAAAAAAAAAAAAAAAAAAAAAAAAAAAAPA/AAAAAAAA8D8AAAAAAAAAAAAAAAAAAAAAAAAAAAAAAAAAAAAAAAAAAAAAAAAAAAAAAAAAAAAAAAAAAAAAAADwPwAAAAAAAAAAAAAAAAAAAAAAAAAAAAAAAAAAAAAAAAAAAAAAAAAAAAAAAAAAAAAAAAAAAAAAAAAAAAAAAAAAAAAAAAAAAAAAAAAAAAAAAAAAAAAAAAAAAAAAAAAAAAAAAAAAAAAAAAAAAAAAAAAAAAAAAAAAAAAAAAAAAAAAAAAAAAAAAAAAAAAAAAAAAAAAAAAAAAAAAAAAAAAAAAAAAAAAAAAAAAAAAAAAAAAAAAAAAAAAAAAAAAAAAAAAAAAAAAAAAAAAAAAAAAAAAAAAAAAAAAAAAAAAAAAAAAAAAAAAAAAAAAAAAAAAAAAAAAAAAAAAAAAAAAAAAAAAAAAAAAAAAAAAAAAAAAAAAAAAAAAAAAAAAAAAAAAAAAAAAAAAAAAAAAAAAAAAAAAAAAAAAAAAAAAAAAAAAAAAAAAAAAAAAAAAAAAAAAAAAAAAAAAAAAAAAAAAAAAAAAAAAAAAAAAAAAAAAAAAAAAAAAAAAAAAAAAAAAAAAAAAAAAAAAAAAAAAAAAAAAAAAAAAAAAAAAAAAAAAAAAAAAAAAAAAAAAAAAAAAAAAAAAAAAAAAAAAAAAAAAAAAAAAAAAAAAAAAAAAAAAAAAAAAAAAAAAAAAAAAAAAAAAAAAAAAAAAAAAAAAAAAAAAAAAAAAAAAAAAAAAAAAAAAAAAAAAAAAAAAAAAAAAAAAAAAAAAAAAAAAAAAAAAAAAAAAAAAAAAAAAAAAAAAAAAAAAAAAAAAAAAAAAAAAAAAAAAAAAAAAAAAAAAAAAAAAAAAAAAAAAAAAAAAAAAAAAAAAAAAAAAAAAAAAAAAAAAAAAAAAAAAAAAAAAAAAAAAAAAAAAAAAAAAAAAAAAAAAAAAAAAAAAAAAAAAAAAAAAAAAAAAAAAAAAAAAAAAAAAAAAAAAAAAAAAAAAAAAAAAAAAAAAAAAAAAAAAAAAAAAAAAAAAAAAAAAAAAAAAAAAAAAAAAAAAAAAAAAAAAAAAAAAAAAAAAAAAAAAAAAAAAAAAAAAAAAAAAAAAAAAAAAAAAAAAAAAAAAAAAAAAAAAAAAAAAAAAAAAAAAAAAAAAAAAAAAAAAAAAAAAAAAAAAAAAAAAAAAAAAAAAAAAAAAAAAAAAAAAAAAAAAAAAAAAAAAAAAAAAAAAAAAAAAAAAAAAAAAAAAAAAAAAAAAAAAAAAAAAAAAAAAAAAAAAAAAAAAAAAAAAAAAAAAAAAAAAAAAAAAAAAAAAAAAAAAAAAAAAAAAAAAAAAAAAAAAAAAAAAAAAAAAAAAAAAAAAAAAAAAAAAAAAAAAAAAAAAAAAAAAAAAAAAAAAAAAAAAAAAAAAAAAAAAAAAAAAAAAAAAAAAAAAAAAAAAAAAAAAAAAAAAAAAAAAAAAAAAAAAAAAAAAAAAAAAAAAAAAAAAAAAAAAAAAAAAAAAAAAAAAAAAAAAAAAAAAAAAAAAAAAAAAAAAAAAAAAAAAAAAAAAAAAAAAAAAAAAAAAAAAAAAAAAAAAAAAAAAAAAAAAAAA==",
          "dtype": "f8"
         },
         "yaxis": "y"
        },
        {
         "hovertemplate": "position=GKP<br>expected_goal_involvements=%{x}<br>goal_involvements=%{y}<br>web_name=%{text}<extra></extra>",
         "legendgroup": "GKP",
         "marker": {
          "color": "#EF553B",
          "symbol": "circle"
         },
         "mode": "markers+text",
         "name": "GKP",
         "orientation": "v",
         "showlegend": true,
         "text": [
          "Roefs",
          "Pope",
          "Vicario",
          "Petrović",
          "Raya",
          "Henderson",
          "Pickford",
          "Dúbravka",
          "Kelleher",
          "Leno",
          "A.Becker",
          "Sánchez",
          "Martinez",
          "Perri",
          "Sels",
          "Trafford",
          "Verbruggen",
          "Bayindir",
          "Hermansen",
          "Darlow",
          "Donnarumma",
          "M.Bizot",
          "José Sá",
          "Johnstone",
          "Areola",
          "Jörgensen",
          "Arrizabalaga",
          "Hein",
          "Setford",
          "Gauci",
          "Marschall",
          "Wright",
          "Proctor",
          "Weiss",
          "Green",
          "Hladký",
          "Neto",
          "Dennis",
          "McKenna",
          "Paulsen",
          "Balcombe",
          "Cox",
          "Eyestone",
          "Valdimarsson",
          "Steele",
          "McGill",
          "Rushworth",
          "Scherpen",
          "Penders",
          "Slonina",
          "Benitez",
          "Matthews",
          "Travers",
          "Tyrer",
          "King",
          "Benda",
          "Lecomte",
          "Meslier",
          "Cairns",
          "Mamardashvili",
          "Pécsi",
          "Woodman",
          "Ederson M.",
          "Ortega Moreno",
          "Bettinelli",
          "Onana",
          "Harrison",
          "Heaton",
          "Mee",
          "Lammens",
          "Gillespie",
          "Odysseas",
          "Ramsdale",
          "C.Miguel",
          "Turner",
          "Gunn",
          "John",
          "Patterson",
          "Moore",
          "Nna Noukeu",
          "Austin",
          "Kinsky",
          "Foderingham",
          "Hegyi",
          "Fabianski",
          "Bentley"
         ],
         "type": "scatter",
         "x": {
          "bdata": "exSuR+F6hD8AAAAAAAAAAHsUrkfheoQ/AAAAAAAAAAB7FK5H4XqkP7gehetRuJ4/exSuR+F6pD8AAAAAAAAAAHsUrkfheoQ/AAAAAAAAAAB7FK5H4XqEPwAAAAAAAAAAuB6F61G4nj8AAAAAAAAAAAAAAAAAAAAAAAAAAAAAAAB7FK5H4XqEP5qZmZmZmak/exSuR+F6hD8AAAAAAAAAAAAAAAAAAAAAAAAAAAAAAAC4HoXrUbiePwAAAAAAAAAAAAAAAAAAAAAAAAAAAAAAAAAAAAAAAAAAAAAAAAAAAAAAAAAAAAAAAAAAAAAAAAAAAAAAAAAAAAAAAAAAAAAAAAAAAAAAAAAAAAAAAAAAAAAAAAAAAAAAAAAAAAAAAAAAAAAAAAAAAAAAAAAAAAAAAAAAAAAAAAAAAAAAAAAAAAAAAAAAAAAAAAAAAAAAAAAAAAAAAAAAAAAAAAAAAAAAAAAAAAAAAAAAAAAAAAAAAAAAAAAAAAAAAAAAAAAAAAAAAAAAAAAAAAAAAAAAAAAAAAAAAAAAAAAAAAAAAAAAAAAAAAAAAAAAAAAAAAAAAAAAAAAAAAAAAAAAAAAAAAAAAAAAAAAAAAAAAAAAAAAAAAAAAAAAAAAAAAAAAAAAAAAAAAAAAAAAAAAAAAAAAAAAAAAAAAAAAAAAAAAAAAAAAAAAAAAAAAAAAAAAAAAAAAAAAAAAAAAAAAAAAAAAAAAAAAAAAAAAAAAAAAAAAAAAAAAAAAAAAAAAAAAAAAAAAAAAAAAAAAAAAAAAAAAAAAAAAAAAAAAAAAAAAAAAAAAAAAAAAAAAAAAAAAAAAAAAAAAAAAAAAAAAAAAAAAAAAAAAAAAAAAAAAAAAAAAAAAAAAAAAAAAAAAAAAAAAAAAAAAAAAAAAAAAAAAAAAAAAAAAAAA==",
          "dtype": "f8"
         },
         "xaxis": "x",
         "y": {
          "bdata": "AAAAAAAAAAAAAAAAAADwPwAAAAAAAAAAAAAAAAAAAAAAAAAAAAAAAAAAAAAAAAAAAAAAAAAAAAAAAAAAAAAAAAAAAAAAAAAAAAAAAAAAAAAAAAAAAAAAAAAAAAAAAAAAAAAAAAAAAAAAAAAAAAAAAAAAAAAAAAAAAAAAAAAAAAAAAAAAAAAAAAAAAAAAAAAAAAAAAAAAAAAAAAAAAAAAAAAAAAAAAAAAAAAAAAAAAAAAAAAAAAAAAAAAAAAAAAAAAAAAAAAAAAAAAAAAAAAAAAAAAAAAAAAAAAAAAAAAAAAAAAAAAAAAAAAAAAAAAAAAAAAAAAAAAAAAAAAAAAAAAAAAAAAAAAAAAAAAAAAAAAAAAAAAAAAAAAAAAAAAAAAAAAAAAAAAAAAAAAAAAAAAAAAAAAAAAAAAAAAAAAAAAAAAAAAAAAAAAAAAAAAAAAAAAAAAAAAAAAAAAAAAAAAAAAAAAAAAAAAAAAAAAAAAAAAAAAAAAAAAAAAAAAAAAAAAAAAAAAAAAAAAAAAAAAAAAAAAAAAAAAAAAAAAAAAAAAAAAAAAAAAAAAAAAAAAAAAAAAAAAAAAAAAAAAAAAAAAAAAAAAAAAAAAAAAAAAAAAAAAAAAAAAAAAAAAAAAAAAAAAAAAAAAAAAAAAAAAAAAAAAAAAAAAAAAAAAAAAAAAAAAAAAAAAAAAAAAAAAAAAAAAAAAAAAAAAAAAAAAAAAAAAAAAAAAAAAAAAAAAAAAAAAAAAAAAAAAAAAAAAAAAAAAAAAAAAAAAAAAAAAAAAAAAAAAAAAAAAAAAAAAAAAAAAAAAAAAAAAAAAAAAAAAAAAAAAAAAAAAAAAAAAAAAAAAAAAAAAAAAAAAAAAAAAAAAAAAAAAAAAAAAAAAAAAAAAAAAAAAAAAAAAAAAAAAAAAAAAA==",
          "dtype": "f8"
         },
         "yaxis": "y"
        },
        {
         "hovertemplate": "position=MID<br>expected_goal_involvements=%{x}<br>goal_involvements=%{y}<br>web_name=%{text}<extra></extra>",
         "legendgroup": "MID",
         "marker": {
          "color": "#00cc96",
          "symbol": "circle"
         },
         "mode": "markers+text",
         "name": "MID",
         "orientation": "v",
         "showlegend": true,
         "text": [
          "Anthony",
          "Garner",
          "Semenyo",
          "Gravenberch",
          "Stach",
          "Cullen",
          "Caicedo",
          "Enzo",
          "Xhaka",
          "Longstaff",
          "Zubimendi",
          "J.Palhinha",
          "Minteh",
          "Reijnders",
          "L.Paquetá",
          "Ndiaye",
          "P.M.Sarr",
          "Tavernier",
          "Sarr",
          "Rice",
          "Iwobi",
          "Doku",
          "Scott",
          "Yarmoliuk",
          "Henderson",
          "Gana",
          "Kudus",
          "Szoboszlai",
          "Dewsbury-Hall",
          "Grealish",
          "Anderson",
          "Bergvall",
          "Talbi",
          "Tonali",
          "Ayari",
          "E.Le Fée",
          "Ndoye",
          "Lukić",
          "Wilson",
          "Gakpo",
          "Brooks",
          "Adams",
          "McGinn",
          "Buendía",
          "Wharton",
          "Kamada",
          "O.Dango",
          "Gruda",
          "Mitoma",
          "Johnson",
          "Berge",
          "Damsgaard",
          "Hudson-Odoi",
          "B.Fernandes",
          "Sessegnon",
          "Sadiki",
          "Mbeumo",
          "Aaronson",
          "Munetsi",
          "Gomes",
          "André",
          "Georginio",
          "J.Murphy",
          "Neto",
          "Rogers",
          "Bruno G.",
          "Tchaouna",
          "Ampadu",
          "Hannibal",
          "Schade",
          "Merino",
          "Okafor",
          "Summerville",
          "Adingra",
          "Hughes",
          "Jensen",
          "Wieffer",
          "Carvalho",
          "Diarra",
          "King",
          "M.Salah",
          "Sangaré",
          "Bernardo",
          "Chiesa",
          "O'Riley",
          "Bobb",
          "J.Arias",
          "Eze",
          "Foden",
          "Mac Allister",
          "Kamara",
          "Hee Chan",
          "Casemiro",
          "Onyeka",
          "Ward-Prowse",
          "Smith Rowe",
          "Gibbs-White",
          "Bruun Larsen",
          "Martinelli",
          "Bentancur",
          "Estêvão",
          "Laurent",
          "Ugarte",
          "Milner",
          "Ngumoha",
          "Amad",
          "Joelinton",
          "Barnes",
          "C.Jones",
          "Baleba",
          "M.Fernandes",
          "Florentino",
          "Rodrigo",
          "Devenny",
          "Ødegaard",
          "Wirtz",
          "Madueke",
          "Lerma",
          "Iroegbunam",
          "Gruev",
          "Christie",
          "Malen",
          "L.Miley",
          "Tielemans",
          "Mount",
          "N.Gonzalez",
          "Yeremy",
          "Bellegarde",
          "Odobert",
          "James",
          "Trossard",
          "Elanga",
          "Guessand",
          "Saka",
          "Onana",
          "Tanaka",
          "Ugochukwu",
          "Gnonto",
          "Fer López",
          "Xavi",
          "Cherki",
          "Andrey Santos",
          "Dowman",
          "Marmoush",
          "Palmer",
          "Gomez",
          "Endo",
          "Cunha",
          "Douglas Luiz",
          "Tel",
          "Adama",
          "Nwaneri",
          "Harrison",
          "Adli",
          "Irving",
          "H.Traorè",
          "Mainoo",
          "Rigg",
          "Gray",
          "Willock",
          "Hinshelwood",
          "McAtee",
          "Alcaraz",
          "Elliott",
          "Kluivert",
          "Souček",
          "Bakwa",
          "Gittens",
          "Yates",
          "George",
          "L.Guilherme",
          "Cairney",
          "Savinho",
          "Hutchinson",
          "Gordon",
          "Potts",
          "Janelt",
          "G.Rodriguez",
          "S.Magassa",
          "J.Ramsey",
          "Dibling",
          "Kevin",
          "Burrowes",
          "Winterburn",
          "Armstrong",
          "Buonanotte",
          "Esse",
          "Edwards",
          "Gannon-Doak",
          "Lavia",
          "Cook",
          "Neil",
          "Röhl",
          "Milambo",
          "Roberts",
          "Chukwueze",
          "Jota",
          "Traoré",
          "McNeil",
          "Sancho",
          "Garnacho",
          "Dominguez",
          "Fábio Vieira",
          "Nørgaard",
          "Kabia",
          "Sambi",
          "Harriman-Annous",
          "Bailey",
          "Iling Jr",
          "Barkley",
          "Barrenechea",
          "Dobbin",
          "Broggio",
          "Dendoncker",
          "Jimoh-Aloba",
          "Young",
          "Benson",
          "Boateng",
          "Churlinov",
          "Koleosho",
          "A.Ramsey",
          "Adewumi",
          "Banel",
          "Trésor",
          "Philip",
          "Sinisterra",
          "Faivre",
          "Sadi",
          "Silcott-Duberry",
          "Rees-Dottin",
          "Nelson",
          "Nunes",
          "Donovan",
          "Konak",
          "Maghoma",
          "Peart-Harris",
          "Trevitt",
          "March",
          "Enciso",
          "Sima",
          "Sarmiento",
          "Watson",
          "Yalcouye",
          "Knight",
          "Mazilu",
          "Moran",
          "Nkunku",
          "Mudryk",
          "D.Essugo",
          "Paez",
          "Doucouré",
          "Agbinone",
          "Ahamada",
          "Ebiowei",
          "J.Rak-Sakyi",
          "M.França",
          "Ozoh",
          "Rodney",
          "Umeh",
          "Cardines",
          "Bates",
          "Ebere",
          "Heath",
          "Metcalfe",
          "Onyango",
          "Andreas",
          "Godo",
          "Harris",
          "Reed",
          "Greenwood",
          "Ramazani",
          "Crew",
          "Gelhardt",
          "Gyabi",
          "Luis Díaz",
          "Bajcetic",
          "McConnell",
          "Morton",
          "Nyoni",
          "Gündoğan",
          "Kovačić",
          "Echeverri",
          "Nypan",
          "Phillips",
          "Mukasa",
          "McAidoo",
          "Rashford",
          "Antony",
          "Collyer",
          "Fitzgerald",
          "J.Fletcher",
          "Kone",
          "Moorhouse",
          "Antoñito C.",
          "Hayden",
          "Kuol",
          "White",
          "Seung soo",
          "O'Brien",
          "Da Silva Moreira",
          "Stamenic",
          "Aleksić",
          "Mundle",
          "Poveda",
          "Ba",
          "Browne",
          "Ekwah",
          "H.Jones",
          "Matete",
          "Triantis",
          "Son",
          "Maddison",
          "Kulusevski",
          "Bissouma",
          "Solomon",
          "Bryan",
          "Moore",
          "Min-hyeok",
          "Olusesi",
          "Álvarez",
          "Cornet",
          "Earthy",
          "Orford",
          "Guedes",
          "B.Traore",
          "Chirewa",
          "Edozie",
          "Gonzalez",
          "Hodge"
         ],
         "type": "scatter",
         "x": {
          "bdata": "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",
          "dtype": "f8"
         },
         "xaxis": "x",
         "y": {
          "bdata": "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",
          "dtype": "f8"
         },
         "yaxis": "y"
        },
        {
         "hovertemplate": "position=FWD<br>expected_goal_involvements=%{x}<br>goal_involvements=%{y}<br>web_name=%{text}<extra></extra>",
         "legendgroup": "FWD",
         "marker": {
          "color": "#ab63fa",
          "symbol": "circle"
         },
         "mode": "markers+text",
         "name": "FWD",
         "orientation": "v",
         "showlegend": true,
         "text": [
          "Thiago",
          "Isidor",
          "João Pedro",
          "Richarlison",
          "Haaland",
          "Bowen",
          "Foster",
          "Ekitiké",
          "Evanilson",
          "Wood",
          "Calvert-Lewin",
          "Muniz",
          "Welbeck",
          "Gyökeres",
          "Beto",
          "Woltemade",
          "Mateta",
          "Mayenda",
          "Nmecha",
          "Watkins",
          "Osula",
          "Kroupi.Jr",
          "Šeško",
          "Raúl",
          "Wilson",
          "Füllkrug",
          "Barry",
          "Strand Larsen",
          "Nketiah",
          "Tolu",
          "Igor Jesus",
          "Kalimuendo",
          "Delap",
          "Piroe",
          "Flemming",
          "Zirkzee",
          "Marc Guiu",
          "Broja",
          "Tzimas",
          "Brobbey",
          "Isak",
          "Solanke",
          "Kalajdžić",
          "Édouard",
          "Uche",
          "Havertz",
          "G.Jesus",
          "Redmond",
          "Amdouni",
          "Barnes",
          "Obafemi",
          "Enes Ünal",
          "Adu-Adjei",
          "Morgan",
          "Ferguson",
          "Kostoulas",
          "N.Jackson",
          "Marsh",
          "Y.Chermiti",
          "Sherif",
          "Kusi-Asare",
          "Bamford",
          "Mateo Joseph",
          "Gray",
          "Darwin",
          "Danns",
          "Højlund",
          "Obi",
          "Wheatley",
          "Wissa",
          "Neave",
          "Awoniyi",
          "Abdullahi",
          "Luís Hemir",
          "Rusyn",
          "Lankshear",
          "Scarlett",
          "Kolo Muani",
          "Marshall",
          "Fábio Silva",
          "Chiwome",
          "Fraser"
         ],
         "type": "scatter",
         "x": {
          "bdata": "rkfhehSuAUApXI/C9Sj0P65H4XoUrvs/mpmZmZmZ/T+kcD0K16MfQEjhehSuR/U/pHA9Ctej8D+F61G4HoX/P/YoXI/C9fQ/XI/C9ShcB0DNzMzMzMz0P9ejcD0K1+s/UrgehetRBkA9CtejcD0GQClcj8L1KAJAhetRuB6F4z8fhetRuB4QQPYoXI/C9dg/XI/C9Shc7z/D9Shcj8L5P+F6FK5H4do/cT0K16NwzT+4HoXrUbj2P3E9CtejcN0/FK5H4XoU8j+4HoXrUbjmP7gehetRuN4/AAAAAAAA6D+F61G4HoXjPwAAAAAAANA/ZmZmZmZm1j+uR+F6FK7XP6RwPQrXo9A/exSuR+F61D8pXI/C9Si8Pz0K16NwPeo/uB6F61G4nj8AAAAAAAAAAOxRuB6F69E/AAAAAAAAAAApXI/C9SjcP5qZmZmZmck/exSuR+F6hD8AAAAAAAAAAHsUrkfheoQ/exSuR+F6hD8AAAAAAAAAAAAAAAAAAAAAAAAAAAAAAAAAAAAAAAAAAAAAAAAAAAAAAAAAAAAAAAAAAAAAAAAAAAAAAAAAAAAAAAAAAAAAAAAAAAAAAAAAAAAAAAAAAAAAAAAAAAAAAAAAAAAAAAAAAAAAAAAAAAAAAAAAAAAAAAAAAAAAAAAAAAAAAAAAAAAAAAAAAAAAAAAAAAAAAAAAAAAAAAAAAAAAAAAAAAAAAAAAAAAAAAAAAAAAAAAAAAAAAAAAAAAAAAAAAAAAAAAAAAAAAAAAAAAAAAAAAAAAAAAAAAAAAAAAAAAAAAAAAAAAAAAAAAAAAAAAAAAAAAAAAAAAAAAAAAAAAAAAAAAAAAAAAAAAAAAAAAAAAAAAAAAAAAAAAAAAAAA=",
          "dtype": "f8"
         },
         "xaxis": "x",
         "y": {
          "bdata": "AAAAAAAAEEAAAAAAAAAIQAAAAAAAABRAAAAAAAAAEEAAAAAAAAAiQAAAAAAAAAhAAAAAAAAAAEAAAAAAAAAQQAAAAAAAAABAAAAAAAAAAEAAAAAAAAAAQAAAAAAAAABAAAAAAAAAAEAAAAAAAAAIQAAAAAAAAPA/AAAAAAAAAEAAAAAAAAAAQAAAAAAAAPA/AAAAAAAA8D8AAAAAAADwPwAAAAAAAPA/AAAAAAAA8D8AAAAAAADwPwAAAAAAAPA/AAAAAAAA8D8AAAAAAAAAAAAAAAAAAAAAAAAAAAAAAAAAAAAAAADwPwAAAAAAAAAAAAAAAAAAAAAAAAAAAAAAAAAAAAAAAAAAAAAAAAAAAAAAAAAAAAAAAAAAAAAAAAAAAAAAAAAAAAAAAAAAAAAAAAAAAAAAAAAAAAAAAAAAAAAAAAAAAAAAAAAAAAAAAAAAAAAAAAAAAAAAAAAAAAAAAAAAAAAAAAAAAAAAAAAAAAAAAAAAAAAAAAAAAAAAAAAAAAAAAAAAAAAAAAAAAAAAAAAAAAAAAAAAAAAAAAAAAAAAAAAAAAAAAAAAAAAAAAAAAAAAAAAAAAAAAAAAAAAAAAAAAAAAAAAAAAAAAAAAAAAAAAAAAAAAAAAAAAAAAAAAAAAAAAAAAAAAAAAAAAAAAAAAAAAAAAAAAAAAAAAAAAAAAAAAAAAAAAAAAAAAAAAAAAAAAAAAAAAAAAAAAAAAAAAAAAAAAAAAAAAAAAAAAAAAAAAAAAAAAAAAAAAAAAAAAAAAAAAAAAAAAAAAAAAAAAAAAAAAAAAAAAAAAAAAAAAAAAAAAAAAAAAAAAAAAAAAAAAAAAAAAAAAAAAAAAAAAAAAAAAAAAAAAAAAAAAAAAA=",
          "dtype": "f8"
         },
         "yaxis": "y"
        }
       ],
       "layout": {
        "hovermode": "closest",
        "legend": {
         "title": {
          "text": "position"
         },
         "tracegroupgap": 0
        },
        "template": {
         "data": {
          "bar": [
           {
            "error_x": {
             "color": "#2a3f5f"
            },
            "error_y": {
             "color": "#2a3f5f"
            },
            "marker": {
             "line": {
              "color": "#E5ECF6",
              "width": 0.5
             },
             "pattern": {
              "fillmode": "overlay",
              "size": 10,
              "solidity": 0.2
             }
            },
            "type": "bar"
           }
          ],
          "barpolar": [
           {
            "marker": {
             "line": {
              "color": "#E5ECF6",
              "width": 0.5
             },
             "pattern": {
              "fillmode": "overlay",
              "size": 10,
              "solidity": 0.2
             }
            },
            "type": "barpolar"
           }
          ],
          "carpet": [
           {
            "aaxis": {
             "endlinecolor": "#2a3f5f",
             "gridcolor": "white",
             "linecolor": "white",
             "minorgridcolor": "white",
             "startlinecolor": "#2a3f5f"
            },
            "baxis": {
             "endlinecolor": "#2a3f5f",
             "gridcolor": "white",
             "linecolor": "white",
             "minorgridcolor": "white",
             "startlinecolor": "#2a3f5f"
            },
            "type": "carpet"
           }
          ],
          "choropleth": [
           {
            "colorbar": {
             "outlinewidth": 0,
             "ticks": ""
            },
            "type": "choropleth"
           }
          ],
          "contour": [
           {
            "colorbar": {
             "outlinewidth": 0,
             "ticks": ""
            },
            "colorscale": [
             [
              0,
              "#0d0887"
             ],
             [
              0.1111111111111111,
              "#46039f"
             ],
             [
              0.2222222222222222,
              "#7201a8"
             ],
             [
              0.3333333333333333,
              "#9c179e"
             ],
             [
              0.4444444444444444,
              "#bd3786"
             ],
             [
              0.5555555555555556,
              "#d8576b"
             ],
             [
              0.6666666666666666,
              "#ed7953"
             ],
             [
              0.7777777777777778,
              "#fb9f3a"
             ],
             [
              0.8888888888888888,
              "#fdca26"
             ],
             [
              1,
              "#f0f921"
             ]
            ],
            "type": "contour"
           }
          ],
          "contourcarpet": [
           {
            "colorbar": {
             "outlinewidth": 0,
             "ticks": ""
            },
            "type": "contourcarpet"
           }
          ],
          "heatmap": [
           {
            "colorbar": {
             "outlinewidth": 0,
             "ticks": ""
            },
            "colorscale": [
             [
              0,
              "#0d0887"
             ],
             [
              0.1111111111111111,
              "#46039f"
             ],
             [
              0.2222222222222222,
              "#7201a8"
             ],
             [
              0.3333333333333333,
              "#9c179e"
             ],
             [
              0.4444444444444444,
              "#bd3786"
             ],
             [
              0.5555555555555556,
              "#d8576b"
             ],
             [
              0.6666666666666666,
              "#ed7953"
             ],
             [
              0.7777777777777778,
              "#fb9f3a"
             ],
             [
              0.8888888888888888,
              "#fdca26"
             ],
             [
              1,
              "#f0f921"
             ]
            ],
            "type": "heatmap"
           }
          ],
          "histogram": [
           {
            "marker": {
             "pattern": {
              "fillmode": "overlay",
              "size": 10,
              "solidity": 0.2
             }
            },
            "type": "histogram"
           }
          ],
          "histogram2d": [
           {
            "colorbar": {
             "outlinewidth": 0,
             "ticks": ""
            },
            "colorscale": [
             [
              0,
              "#0d0887"
             ],
             [
              0.1111111111111111,
              "#46039f"
             ],
             [
              0.2222222222222222,
              "#7201a8"
             ],
             [
              0.3333333333333333,
              "#9c179e"
             ],
             [
              0.4444444444444444,
              "#bd3786"
             ],
             [
              0.5555555555555556,
              "#d8576b"
             ],
             [
              0.6666666666666666,
              "#ed7953"
             ],
             [
              0.7777777777777778,
              "#fb9f3a"
             ],
             [
              0.8888888888888888,
              "#fdca26"
             ],
             [
              1,
              "#f0f921"
             ]
            ],
            "type": "histogram2d"
           }
          ],
          "histogram2dcontour": [
           {
            "colorbar": {
             "outlinewidth": 0,
             "ticks": ""
            },
            "colorscale": [
             [
              0,
              "#0d0887"
             ],
             [
              0.1111111111111111,
              "#46039f"
             ],
             [
              0.2222222222222222,
              "#7201a8"
             ],
             [
              0.3333333333333333,
              "#9c179e"
             ],
             [
              0.4444444444444444,
              "#bd3786"
             ],
             [
              0.5555555555555556,
              "#d8576b"
             ],
             [
              0.6666666666666666,
              "#ed7953"
             ],
             [
              0.7777777777777778,
              "#fb9f3a"
             ],
             [
              0.8888888888888888,
              "#fdca26"
             ],
             [
              1,
              "#f0f921"
             ]
            ],
            "type": "histogram2dcontour"
           }
          ],
          "mesh3d": [
           {
            "colorbar": {
             "outlinewidth": 0,
             "ticks": ""
            },
            "type": "mesh3d"
           }
          ],
          "parcoords": [
           {
            "line": {
             "colorbar": {
              "outlinewidth": 0,
              "ticks": ""
             }
            },
            "type": "parcoords"
           }
          ],
          "pie": [
           {
            "automargin": true,
            "type": "pie"
           }
          ],
          "scatter": [
           {
            "fillpattern": {
             "fillmode": "overlay",
             "size": 10,
             "solidity": 0.2
            },
            "type": "scatter"
           }
          ],
          "scatter3d": [
           {
            "line": {
             "colorbar": {
              "outlinewidth": 0,
              "ticks": ""
             }
            },
            "marker": {
             "colorbar": {
              "outlinewidth": 0,
              "ticks": ""
             }
            },
            "type": "scatter3d"
           }
          ],
          "scattercarpet": [
           {
            "marker": {
             "colorbar": {
              "outlinewidth": 0,
              "ticks": ""
             }
            },
            "type": "scattercarpet"
           }
          ],
          "scattergeo": [
           {
            "marker": {
             "colorbar": {
              "outlinewidth": 0,
              "ticks": ""
             }
            },
            "type": "scattergeo"
           }
          ],
          "scattergl": [
           {
            "marker": {
             "colorbar": {
              "outlinewidth": 0,
              "ticks": ""
             }
            },
            "type": "scattergl"
           }
          ],
          "scattermap": [
           {
            "marker": {
             "colorbar": {
              "outlinewidth": 0,
              "ticks": ""
             }
            },
            "type": "scattermap"
           }
          ],
          "scattermapbox": [
           {
            "marker": {
             "colorbar": {
              "outlinewidth": 0,
              "ticks": ""
             }
            },
            "type": "scattermapbox"
           }
          ],
          "scatterpolar": [
           {
            "marker": {
             "colorbar": {
              "outlinewidth": 0,
              "ticks": ""
             }
            },
            "type": "scatterpolar"
           }
          ],
          "scatterpolargl": [
           {
            "marker": {
             "colorbar": {
              "outlinewidth": 0,
              "ticks": ""
             }
            },
            "type": "scatterpolargl"
           }
          ],
          "scatterternary": [
           {
            "marker": {
             "colorbar": {
              "outlinewidth": 0,
              "ticks": ""
             }
            },
            "type": "scatterternary"
           }
          ],
          "surface": [
           {
            "colorbar": {
             "outlinewidth": 0,
             "ticks": ""
            },
            "colorscale": [
             [
              0,
              "#0d0887"
             ],
             [
              0.1111111111111111,
              "#46039f"
             ],
             [
              0.2222222222222222,
              "#7201a8"
             ],
             [
              0.3333333333333333,
              "#9c179e"
             ],
             [
              0.4444444444444444,
              "#bd3786"
             ],
             [
              0.5555555555555556,
              "#d8576b"
             ],
             [
              0.6666666666666666,
              "#ed7953"
             ],
             [
              0.7777777777777778,
              "#fb9f3a"
             ],
             [
              0.8888888888888888,
              "#fdca26"
             ],
             [
              1,
              "#f0f921"
             ]
            ],
            "type": "surface"
           }
          ],
          "table": [
           {
            "cells": {
             "fill": {
              "color": "#EBF0F8"
             },
             "line": {
              "color": "white"
             }
            },
            "header": {
             "fill": {
              "color": "#C8D4E3"
             },
             "line": {
              "color": "white"
             }
            },
            "type": "table"
           }
          ]
         },
         "layout": {
          "annotationdefaults": {
           "arrowcolor": "#2a3f5f",
           "arrowhead": 0,
           "arrowwidth": 1
          },
          "autotypenumbers": "strict",
          "coloraxis": {
           "colorbar": {
            "outlinewidth": 0,
            "ticks": ""
           }
          },
          "colorscale": {
           "diverging": [
            [
             0,
             "#8e0152"
            ],
            [
             0.1,
             "#c51b7d"
            ],
            [
             0.2,
             "#de77ae"
            ],
            [
             0.3,
             "#f1b6da"
            ],
            [
             0.4,
             "#fde0ef"
            ],
            [
             0.5,
             "#f7f7f7"
            ],
            [
             0.6,
             "#e6f5d0"
            ],
            [
             0.7,
             "#b8e186"
            ],
            [
             0.8,
             "#7fbc41"
            ],
            [
             0.9,
             "#4d9221"
            ],
            [
             1,
             "#276419"
            ]
           ],
           "sequential": [
            [
             0,
             "#0d0887"
            ],
            [
             0.1111111111111111,
             "#46039f"
            ],
            [
             0.2222222222222222,
             "#7201a8"
            ],
            [
             0.3333333333333333,
             "#9c179e"
            ],
            [
             0.4444444444444444,
             "#bd3786"
            ],
            [
             0.5555555555555556,
             "#d8576b"
            ],
            [
             0.6666666666666666,
             "#ed7953"
            ],
            [
             0.7777777777777778,
             "#fb9f3a"
            ],
            [
             0.8888888888888888,
             "#fdca26"
            ],
            [
             1,
             "#f0f921"
            ]
           ],
           "sequentialminus": [
            [
             0,
             "#0d0887"
            ],
            [
             0.1111111111111111,
             "#46039f"
            ],
            [
             0.2222222222222222,
             "#7201a8"
            ],
            [
             0.3333333333333333,
             "#9c179e"
            ],
            [
             0.4444444444444444,
             "#bd3786"
            ],
            [
             0.5555555555555556,
             "#d8576b"
            ],
            [
             0.6666666666666666,
             "#ed7953"
            ],
            [
             0.7777777777777778,
             "#fb9f3a"
            ],
            [
             0.8888888888888888,
             "#fdca26"
            ],
            [
             1,
             "#f0f921"
            ]
           ]
          },
          "colorway": [
           "#636efa",
           "#EF553B",
           "#00cc96",
           "#ab63fa",
           "#FFA15A",
           "#19d3f3",
           "#FF6692",
           "#B6E880",
           "#FF97FF",
           "#FECB52"
          ],
          "font": {
           "color": "#2a3f5f"
          },
          "geo": {
           "bgcolor": "white",
           "lakecolor": "white",
           "landcolor": "#E5ECF6",
           "showlakes": true,
           "showland": true,
           "subunitcolor": "white"
          },
          "hoverlabel": {
           "align": "left"
          },
          "hovermode": "closest",
          "mapbox": {
           "style": "light"
          },
          "paper_bgcolor": "white",
          "plot_bgcolor": "#E5ECF6",
          "polar": {
           "angularaxis": {
            "gridcolor": "white",
            "linecolor": "white",
            "ticks": ""
           },
           "bgcolor": "#E5ECF6",
           "radialaxis": {
            "gridcolor": "white",
            "linecolor": "white",
            "ticks": ""
           }
          },
          "scene": {
           "xaxis": {
            "backgroundcolor": "#E5ECF6",
            "gridcolor": "white",
            "gridwidth": 2,
            "linecolor": "white",
            "showbackground": true,
            "ticks": "",
            "zerolinecolor": "white"
           },
           "yaxis": {
            "backgroundcolor": "#E5ECF6",
            "gridcolor": "white",
            "gridwidth": 2,
            "linecolor": "white",
            "showbackground": true,
            "ticks": "",
            "zerolinecolor": "white"
           },
           "zaxis": {
            "backgroundcolor": "#E5ECF6",
            "gridcolor": "white",
            "gridwidth": 2,
            "linecolor": "white",
            "showbackground": true,
            "ticks": "",
            "zerolinecolor": "white"
           }
          },
          "shapedefaults": {
           "line": {
            "color": "#2a3f5f"
           }
          },
          "ternary": {
           "aaxis": {
            "gridcolor": "white",
            "linecolor": "white",
            "ticks": ""
           },
           "baxis": {
            "gridcolor": "white",
            "linecolor": "white",
            "ticks": ""
           },
           "bgcolor": "#E5ECF6",
           "caxis": {
            "gridcolor": "white",
            "linecolor": "white",
            "ticks": ""
           }
          },
          "title": {
           "x": 0.05
          },
          "xaxis": {
           "automargin": true,
           "gridcolor": "white",
           "linecolor": "white",
           "ticks": "",
           "title": {
            "standoff": 15
           },
           "zerolinecolor": "white",
           "zerolinewidth": 2
          },
          "yaxis": {
           "automargin": true,
           "gridcolor": "white",
           "linecolor": "white",
           "ticks": "",
           "title": {
            "standoff": 15
           },
           "zerolinecolor": "white",
           "zerolinewidth": 2
          }
         }
        },
        "title": {
         "text": "Relation linéaire entre expected_goal_involvements et goal_involvements (Hover pour nom du joueur)"
        },
        "xaxis": {
         "anchor": "y",
         "domain": [
          0,
          1
         ],
         "title": {
          "text": "expected_goal_involvements"
         }
        },
        "yaxis": {
         "anchor": "x",
         "domain": [
          0,
          1
         ],
         "title": {
          "text": "goal_involvements"
         }
        }
       }
      }
     },
     "metadata": {},
     "output_type": "display_data"
    }
   ],
   "source": [
    "import plotly.express as px\n",
    "\n",
    "fig = px.scatter(\n",
    "    df_players,\n",
    "    x='expected_goal_involvements',\n",
    "    y='goal_involvements',\n",
    "    text='web_name',  # Affiche le nom au survol\n",
    "    color='position', # Optionnel, couleur par poste\n",
    "    title='Relation linéaire entre expected_goal_involvements et goal_involvements (Hover pour nom du joueur)'\n",
    ")\n",
    "\n",
    "fig.update_traces(marker=dict(size=10, opacity=0.7),\n",
    "                  selector=dict(mode='markers'))\n",
    "fig.update_layout(hovermode='closest')\n",
    "fig.show()"
   ]
  },
  {
   "cell_type": "code",
   "execution_count": null,
   "id": "bcafed94",
   "metadata": {},
   "outputs": [],
   "source": []
  },
  {
   "cell_type": "code",
   "execution_count": null,
   "id": "68219f6c",
   "metadata": {},
   "outputs": [],
   "source": []
  },
  {
   "cell_type": "code",
   "execution_count": null,
   "id": "2d3e11c6",
   "metadata": {},
   "outputs": [],
   "source": []
  },
  {
   "cell_type": "code",
   "execution_count": null,
   "id": "32ec3cde",
   "metadata": {},
   "outputs": [],
   "source": []
  }
 ],
 "metadata": {
  "kernelspec": {
   "display_name": "Python 3",
   "language": "python",
   "name": "python3"
  },
  "language_info": {
   "codemirror_mode": {
    "name": "ipython",
    "version": 3
   },
   "file_extension": ".py",
   "mimetype": "text/x-python",
   "name": "python",
   "nbconvert_exporter": "python",
   "pygments_lexer": "ipython3",
   "version": "3.12.1"
  }
 },
 "nbformat": 4,
 "nbformat_minor": 5
}
