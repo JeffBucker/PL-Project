{
 "cells": [
  {
   "cell_type": "code",
   "execution_count": null,
   "id": "b1be241e",
   "metadata": {},
   "outputs": [],
   "source": [
    "import pandas as pd\n",
    "import numpy as np\n",
    "from pulp import LpProblem, LpVariable, LpMaximize, lpSum, LpBinary\n",
    "import matplotlib.pyplot as plt\n",
    "import seaborn as sns\n",
    "import plotly.express as px\n",
    "\n",
    "pd.set_option('display.max_columns', None)\n",
    "pd.set_option('display.max_rows', None)\n",
    "\n",
    "df_players = pd.read_parquet('df_players.parquet')\n",
    "df_positions = pd.read_parquet('df_positions.parquet')\n",
    "df_teams = pd.read_parquet('df_teams.parquet')"
   ]
  },
  {
   "cell_type": "code",
   "execution_count": 44,
   "id": "5657ee98",
   "metadata": {},
   "outputs": [
    {
     "data": {
      "text/html": [
       "<div>\n",
       "<style scoped>\n",
       "    .dataframe tbody tr th:only-of-type {\n",
       "        vertical-align: middle;\n",
       "    }\n",
       "\n",
       "    .dataframe tbody tr th {\n",
       "        vertical-align: top;\n",
       "    }\n",
       "\n",
       "    .dataframe thead th {\n",
       "        text-align: right;\n",
       "    }\n",
       "</style>\n",
       "<table border=\"1\" class=\"dataframe\">\n",
       "  <thead>\n",
       "    <tr style=\"text-align: right;\">\n",
       "      <th></th>\n",
       "      <th>first_name</th>\n",
       "      <th>web_name</th>\n",
       "      <th>team_short</th>\n",
       "      <th>team_name</th>\n",
       "      <th>position</th>\n",
       "      <th>price</th>\n",
       "      <th>total_points</th>\n",
       "      <th>points_per_cost</th>\n",
       "      <th>ict_index</th>\n",
       "      <th>selected_by_percent</th>\n",
       "      <th>selected_rank</th>\n",
       "      <th>value_form</th>\n",
       "      <th>minutes</th>\n",
       "      <th>transfers_in</th>\n",
       "      <th>transfers_in_event</th>\n",
       "      <th>transfers_out</th>\n",
       "      <th>transfers_out_event</th>\n",
       "      <th>expected_goals_per_90</th>\n",
       "      <th>saves_per_90</th>\n",
       "      <th>expected_assists_per_90</th>\n",
       "      <th>expected_goal_involvements_per_90</th>\n",
       "      <th>expected_goals_conceded_per_90</th>\n",
       "      <th>goals_conceded_per_90</th>\n",
       "      <th>defensive_contribution_per_90</th>\n",
       "    </tr>\n",
       "    <tr>\n",
       "      <th>id</th>\n",
       "      <th></th>\n",
       "      <th></th>\n",
       "      <th></th>\n",
       "      <th></th>\n",
       "      <th></th>\n",
       "      <th></th>\n",
       "      <th></th>\n",
       "      <th></th>\n",
       "      <th></th>\n",
       "      <th></th>\n",
       "      <th></th>\n",
       "      <th></th>\n",
       "      <th></th>\n",
       "      <th></th>\n",
       "      <th></th>\n",
       "      <th></th>\n",
       "      <th></th>\n",
       "      <th></th>\n",
       "      <th></th>\n",
       "      <th></th>\n",
       "      <th></th>\n",
       "      <th></th>\n",
       "      <th></th>\n",
       "      <th></th>\n",
       "    </tr>\n",
       "  </thead>\n",
       "  <tbody>\n",
       "    <tr>\n",
       "      <th>260</th>\n",
       "      <td>Marc</td>\n",
       "      <td>Guéhi</td>\n",
       "      <td>CRY</td>\n",
       "      <td>Crystal Palace</td>\n",
       "      <td>DEF</td>\n",
       "      <td>47</td>\n",
       "      <td>29.0</td>\n",
       "      <td>0.617021</td>\n",
       "      <td>14.9</td>\n",
       "      <td>21.5</td>\n",
       "      <td>19</td>\n",
       "      <td>1.6</td>\n",
       "      <td>360.0</td>\n",
       "      <td>1278510</td>\n",
       "      <td>240180</td>\n",
       "      <td>261248</td>\n",
       "      <td>14035</td>\n",
       "      <td>0.05</td>\n",
       "      <td>0.00</td>\n",
       "      <td>0.01</td>\n",
       "      <td>0.06</td>\n",
       "      <td>1.00</td>\n",
       "      <td>0.25</td>\n",
       "      <td>6.50</td>\n",
       "    </tr>\n",
       "    <tr>\n",
       "      <th>72</th>\n",
       "      <td>Marcos</td>\n",
       "      <td>Senesi</td>\n",
       "      <td>BOU</td>\n",
       "      <td>Bournemouth</td>\n",
       "      <td>DEF</td>\n",
       "      <td>46</td>\n",
       "      <td>28.0</td>\n",
       "      <td>0.608696</td>\n",
       "      <td>16.2</td>\n",
       "      <td>9.1</td>\n",
       "      <td>46</td>\n",
       "      <td>1.9</td>\n",
       "      <td>360.0</td>\n",
       "      <td>999452</td>\n",
       "      <td>140007</td>\n",
       "      <td>116328</td>\n",
       "      <td>22141</td>\n",
       "      <td>0.04</td>\n",
       "      <td>0.00</td>\n",
       "      <td>0.03</td>\n",
       "      <td>0.07</td>\n",
       "      <td>0.87</td>\n",
       "      <td>1.25</td>\n",
       "      <td>13.75</td>\n",
       "    </tr>\n",
       "    <tr>\n",
       "      <th>575</th>\n",
       "      <td>Micky</td>\n",
       "      <td>Van de Ven</td>\n",
       "      <td>TOT</td>\n",
       "      <td>Spurs</td>\n",
       "      <td>DEF</td>\n",
       "      <td>46</td>\n",
       "      <td>27.0</td>\n",
       "      <td>0.586957</td>\n",
       "      <td>14.6</td>\n",
       "      <td>30.6</td>\n",
       "      <td>8</td>\n",
       "      <td>1.5</td>\n",
       "      <td>349.0</td>\n",
       "      <td>952781</td>\n",
       "      <td>249627</td>\n",
       "      <td>458715</td>\n",
       "      <td>11350</td>\n",
       "      <td>0.18</td>\n",
       "      <td>0.00</td>\n",
       "      <td>0.01</td>\n",
       "      <td>0.19</td>\n",
       "      <td>1.21</td>\n",
       "      <td>0.26</td>\n",
       "      <td>6.19</td>\n",
       "    </tr>\n",
       "    <tr>\n",
       "      <th>348</th>\n",
       "      <td>Joe</td>\n",
       "      <td>Rodon</td>\n",
       "      <td>LEE</td>\n",
       "      <td>Leeds</td>\n",
       "      <td>DEF</td>\n",
       "      <td>40</td>\n",
       "      <td>20.0</td>\n",
       "      <td>0.500000</td>\n",
       "      <td>8.4</td>\n",
       "      <td>3.2</td>\n",
       "      <td>96</td>\n",
       "      <td>1.2</td>\n",
       "      <td>360.0</td>\n",
       "      <td>207687</td>\n",
       "      <td>44238</td>\n",
       "      <td>89294</td>\n",
       "      <td>6777</td>\n",
       "      <td>0.00</td>\n",
       "      <td>0.00</td>\n",
       "      <td>0.00</td>\n",
       "      <td>0.00</td>\n",
       "      <td>1.18</td>\n",
       "      <td>1.50</td>\n",
       "      <td>9.50</td>\n",
       "    </tr>\n",
       "    <tr>\n",
       "      <th>38</th>\n",
       "      <td>Ezri</td>\n",
       "      <td>Konsa</td>\n",
       "      <td>AVL</td>\n",
       "      <td>Aston Villa</td>\n",
       "      <td>DEF</td>\n",
       "      <td>45</td>\n",
       "      <td>10.0</td>\n",
       "      <td>0.222222</td>\n",
       "      <td>5.6</td>\n",
       "      <td>12.8</td>\n",
       "      <td>33</td>\n",
       "      <td>0.5</td>\n",
       "      <td>245.0</td>\n",
       "      <td>120391</td>\n",
       "      <td>18249</td>\n",
       "      <td>901604</td>\n",
       "      <td>22430</td>\n",
       "      <td>0.00</td>\n",
       "      <td>0.00</td>\n",
       "      <td>0.02</td>\n",
       "      <td>0.02</td>\n",
       "      <td>2.15</td>\n",
       "      <td>1.10</td>\n",
       "      <td>4.41</td>\n",
       "    </tr>\n",
       "    <tr>\n",
       "      <th>249</th>\n",
       "      <td>João Pedro</td>\n",
       "      <td>João Pedro</td>\n",
       "      <td>CHE</td>\n",
       "      <td>Chelsea</td>\n",
       "      <td>FWD</td>\n",
       "      <td>77</td>\n",
       "      <td>33.0</td>\n",
       "      <td>0.428571</td>\n",
       "      <td>33.2</td>\n",
       "      <td>66.7</td>\n",
       "      <td>1</td>\n",
       "      <td>1.3</td>\n",
       "      <td>330.0</td>\n",
       "      <td>2120245</td>\n",
       "      <td>176491</td>\n",
       "      <td>682920</td>\n",
       "      <td>45238</td>\n",
       "      <td>0.41</td>\n",
       "      <td>0.00</td>\n",
       "      <td>0.05</td>\n",
       "      <td>0.46</td>\n",
       "      <td>0.83</td>\n",
       "      <td>0.55</td>\n",
       "      <td>5.18</td>\n",
       "    </tr>\n",
       "    <tr>\n",
       "      <th>430</th>\n",
       "      <td>Erling</td>\n",
       "      <td>Haaland</td>\n",
       "      <td>MCI</td>\n",
       "      <td>Man City</td>\n",
       "      <td>FWD</td>\n",
       "      <td>141</td>\n",
       "      <td>37.0</td>\n",
       "      <td>0.262411</td>\n",
       "      <td>45.0</td>\n",
       "      <td>35.6</td>\n",
       "      <td>4</td>\n",
       "      <td>0.6</td>\n",
       "      <td>338.0</td>\n",
       "      <td>1494929</td>\n",
       "      <td>246771</td>\n",
       "      <td>492013</td>\n",
       "      <td>29190</td>\n",
       "      <td>1.51</td>\n",
       "      <td>0.00</td>\n",
       "      <td>0.08</td>\n",
       "      <td>1.59</td>\n",
       "      <td>1.38</td>\n",
       "      <td>1.07</td>\n",
       "      <td>3.99</td>\n",
       "    </tr>\n",
       "    <tr>\n",
       "      <th>100</th>\n",
       "      <td>Eli Junior</td>\n",
       "      <td>Kroupi.Jr</td>\n",
       "      <td>BOU</td>\n",
       "      <td>Bournemouth</td>\n",
       "      <td>FWD</td>\n",
       "      <td>45</td>\n",
       "      <td>3.0</td>\n",
       "      <td>0.066667</td>\n",
       "      <td>0.2</td>\n",
       "      <td>1.4</td>\n",
       "      <td>162</td>\n",
       "      <td>0.2</td>\n",
       "      <td>12.0</td>\n",
       "      <td>126021</td>\n",
       "      <td>18350</td>\n",
       "      <td>94619</td>\n",
       "      <td>8663</td>\n",
       "      <td>0.00</td>\n",
       "      <td>0.00</td>\n",
       "      <td>0.00</td>\n",
       "      <td>0.00</td>\n",
       "      <td>1.80</td>\n",
       "      <td>7.50</td>\n",
       "      <td>7.50</td>\n",
       "    </tr>\n",
       "    <tr>\n",
       "      <th>220</th>\n",
       "      <td>Robert</td>\n",
       "      <td>Sánchez</td>\n",
       "      <td>CHE</td>\n",
       "      <td>Chelsea</td>\n",
       "      <td>GKP</td>\n",
       "      <td>50</td>\n",
       "      <td>19.0</td>\n",
       "      <td>0.380000</td>\n",
       "      <td>7.9</td>\n",
       "      <td>23.0</td>\n",
       "      <td>15</td>\n",
       "      <td>0.7</td>\n",
       "      <td>360.0</td>\n",
       "      <td>446980</td>\n",
       "      <td>12463</td>\n",
       "      <td>565790</td>\n",
       "      <td>97500</td>\n",
       "      <td>0.00</td>\n",
       "      <td>2.75</td>\n",
       "      <td>0.00</td>\n",
       "      <td>0.00</td>\n",
       "      <td>0.96</td>\n",
       "      <td>0.75</td>\n",
       "      <td>0.00</td>\n",
       "    </tr>\n",
       "    <tr>\n",
       "      <th>470</th>\n",
       "      <td>Martin</td>\n",
       "      <td>Dúbravka</td>\n",
       "      <td>BUR</td>\n",
       "      <td>Burnley</td>\n",
       "      <td>GKP</td>\n",
       "      <td>40</td>\n",
       "      <td>13.0</td>\n",
       "      <td>0.325000</td>\n",
       "      <td>9.3</td>\n",
       "      <td>34.0</td>\n",
       "      <td>5</td>\n",
       "      <td>0.9</td>\n",
       "      <td>360.0</td>\n",
       "      <td>511127</td>\n",
       "      <td>46814</td>\n",
       "      <td>269991</td>\n",
       "      <td>23571</td>\n",
       "      <td>0.00</td>\n",
       "      <td>3.00</td>\n",
       "      <td>0.00</td>\n",
       "      <td>0.00</td>\n",
       "      <td>2.29</td>\n",
       "      <td>1.75</td>\n",
       "      <td>0.00</td>\n",
       "    </tr>\n",
       "    <tr>\n",
       "      <th>241</th>\n",
       "      <td>Moisés</td>\n",
       "      <td>Caicedo</td>\n",
       "      <td>CHE</td>\n",
       "      <td>Chelsea</td>\n",
       "      <td>MID</td>\n",
       "      <td>55</td>\n",
       "      <td>29.0</td>\n",
       "      <td>0.527273</td>\n",
       "      <td>21.9</td>\n",
       "      <td>8.5</td>\n",
       "      <td>50</td>\n",
       "      <td>1.5</td>\n",
       "      <td>360.0</td>\n",
       "      <td>469426</td>\n",
       "      <td>183119</td>\n",
       "      <td>206077</td>\n",
       "      <td>15767</td>\n",
       "      <td>0.10</td>\n",
       "      <td>0.00</td>\n",
       "      <td>0.04</td>\n",
       "      <td>0.14</td>\n",
       "      <td>0.96</td>\n",
       "      <td>0.75</td>\n",
       "      <td>14.75</td>\n",
       "    </tr>\n",
       "    <tr>\n",
       "      <th>82</th>\n",
       "      <td>Antoine</td>\n",
       "      <td>Semenyo</td>\n",
       "      <td>BOU</td>\n",
       "      <td>Bournemouth</td>\n",
       "      <td>MID</td>\n",
       "      <td>75</td>\n",
       "      <td>36.0</td>\n",
       "      <td>0.480000</td>\n",
       "      <td>38.3</td>\n",
       "      <td>39.9</td>\n",
       "      <td>3</td>\n",
       "      <td>0.9</td>\n",
       "      <td>360.0</td>\n",
       "      <td>3894850</td>\n",
       "      <td>551967</td>\n",
       "      <td>379017</td>\n",
       "      <td>19085</td>\n",
       "      <td>0.67</td>\n",
       "      <td>0.00</td>\n",
       "      <td>0.05</td>\n",
       "      <td>0.72</td>\n",
       "      <td>0.87</td>\n",
       "      <td>1.25</td>\n",
       "      <td>7.00</td>\n",
       "    </tr>\n",
       "    <tr>\n",
       "      <th>427</th>\n",
       "      <td>Tijjani</td>\n",
       "      <td>Reijnders</td>\n",
       "      <td>MCI</td>\n",
       "      <td>Man City</td>\n",
       "      <td>MID</td>\n",
       "      <td>57</td>\n",
       "      <td>17.0</td>\n",
       "      <td>0.298246</td>\n",
       "      <td>21.4</td>\n",
       "      <td>31.1</td>\n",
       "      <td>7</td>\n",
       "      <td>0.4</td>\n",
       "      <td>360.0</td>\n",
       "      <td>1995781</td>\n",
       "      <td>59000</td>\n",
       "      <td>832803</td>\n",
       "      <td>139805</td>\n",
       "      <td>0.15</td>\n",
       "      <td>0.00</td>\n",
       "      <td>0.08</td>\n",
       "      <td>0.23</td>\n",
       "      <td>1.37</td>\n",
       "      <td>1.00</td>\n",
       "      <td>5.00</td>\n",
       "    </tr>\n",
       "    <tr>\n",
       "      <th>449</th>\n",
       "      <td>Bruno</td>\n",
       "      <td>B.Fernandes</td>\n",
       "      <td>MUN</td>\n",
       "      <td>Man Utd</td>\n",
       "      <td>MID</td>\n",
       "      <td>90</td>\n",
       "      <td>16.0</td>\n",
       "      <td>0.177778</td>\n",
       "      <td>37.4</td>\n",
       "      <td>19.7</td>\n",
       "      <td>20</td>\n",
       "      <td>0.5</td>\n",
       "      <td>360.0</td>\n",
       "      <td>661583</td>\n",
       "      <td>27113</td>\n",
       "      <td>902142</td>\n",
       "      <td>140266</td>\n",
       "      <td>0.48</td>\n",
       "      <td>0.00</td>\n",
       "      <td>0.23</td>\n",
       "      <td>0.71</td>\n",
       "      <td>1.70</td>\n",
       "      <td>1.75</td>\n",
       "      <td>11.50</td>\n",
       "    </tr>\n",
       "    <tr>\n",
       "      <th>381</th>\n",
       "      <td>Mohamed</td>\n",
       "      <td>M.Salah</td>\n",
       "      <td>LIV</td>\n",
       "      <td>Liverpool</td>\n",
       "      <td>MID</td>\n",
       "      <td>145</td>\n",
       "      <td>25.0</td>\n",
       "      <td>0.172414</td>\n",
       "      <td>29.6</td>\n",
       "      <td>53.7</td>\n",
       "      <td>2</td>\n",
       "      <td>0.4</td>\n",
       "      <td>360.0</td>\n",
       "      <td>821379</td>\n",
       "      <td>54945</td>\n",
       "      <td>682041</td>\n",
       "      <td>96588</td>\n",
       "      <td>0.28</td>\n",
       "      <td>0.00</td>\n",
       "      <td>0.12</td>\n",
       "      <td>0.40</td>\n",
       "      <td>0.81</td>\n",
       "      <td>1.00</td>\n",
       "      <td>4.25</td>\n",
       "    </tr>\n",
       "  </tbody>\n",
       "</table>\n",
       "</div>"
      ],
      "text/plain": [
       "     first_name     web_name team_short       team_name position  price  \\\n",
       "id                                                                        \n",
       "260        Marc        Guéhi        CRY  Crystal Palace      DEF     47   \n",
       "72       Marcos       Senesi        BOU     Bournemouth      DEF     46   \n",
       "575       Micky   Van de Ven        TOT           Spurs      DEF     46   \n",
       "348         Joe        Rodon        LEE           Leeds      DEF     40   \n",
       "38         Ezri        Konsa        AVL     Aston Villa      DEF     45   \n",
       "249  João Pedro   João Pedro        CHE         Chelsea      FWD     77   \n",
       "430      Erling      Haaland        MCI        Man City      FWD    141   \n",
       "100  Eli Junior    Kroupi.Jr        BOU     Bournemouth      FWD     45   \n",
       "220      Robert      Sánchez        CHE         Chelsea      GKP     50   \n",
       "470      Martin     Dúbravka        BUR         Burnley      GKP     40   \n",
       "241      Moisés      Caicedo        CHE         Chelsea      MID     55   \n",
       "82      Antoine      Semenyo        BOU     Bournemouth      MID     75   \n",
       "427     Tijjani    Reijnders        MCI        Man City      MID     57   \n",
       "449       Bruno  B.Fernandes        MUN         Man Utd      MID     90   \n",
       "381     Mohamed      M.Salah        LIV       Liverpool      MID    145   \n",
       "\n",
       "     total_points  points_per_cost  ict_index  selected_by_percent  \\\n",
       "id                                                                   \n",
       "260          29.0         0.617021       14.9                 21.5   \n",
       "72           28.0         0.608696       16.2                  9.1   \n",
       "575          27.0         0.586957       14.6                 30.6   \n",
       "348          20.0         0.500000        8.4                  3.2   \n",
       "38           10.0         0.222222        5.6                 12.8   \n",
       "249          33.0         0.428571       33.2                 66.7   \n",
       "430          37.0         0.262411       45.0                 35.6   \n",
       "100           3.0         0.066667        0.2                  1.4   \n",
       "220          19.0         0.380000        7.9                 23.0   \n",
       "470          13.0         0.325000        9.3                 34.0   \n",
       "241          29.0         0.527273       21.9                  8.5   \n",
       "82           36.0         0.480000       38.3                 39.9   \n",
       "427          17.0         0.298246       21.4                 31.1   \n",
       "449          16.0         0.177778       37.4                 19.7   \n",
       "381          25.0         0.172414       29.6                 53.7   \n",
       "\n",
       "     selected_rank value_form  minutes  transfers_in  transfers_in_event  \\\n",
       "id                                                                         \n",
       "260             19        1.6    360.0       1278510              240180   \n",
       "72              46        1.9    360.0        999452              140007   \n",
       "575              8        1.5    349.0        952781              249627   \n",
       "348             96        1.2    360.0        207687               44238   \n",
       "38              33        0.5    245.0        120391               18249   \n",
       "249              1        1.3    330.0       2120245              176491   \n",
       "430              4        0.6    338.0       1494929              246771   \n",
       "100            162        0.2     12.0        126021               18350   \n",
       "220             15        0.7    360.0        446980               12463   \n",
       "470              5        0.9    360.0        511127               46814   \n",
       "241             50        1.5    360.0        469426              183119   \n",
       "82               3        0.9    360.0       3894850              551967   \n",
       "427              7        0.4    360.0       1995781               59000   \n",
       "449             20        0.5    360.0        661583               27113   \n",
       "381              2        0.4    360.0        821379               54945   \n",
       "\n",
       "     transfers_out  transfers_out_event  expected_goals_per_90  saves_per_90  \\\n",
       "id                                                                             \n",
       "260         261248                14035                   0.05          0.00   \n",
       "72          116328                22141                   0.04          0.00   \n",
       "575         458715                11350                   0.18          0.00   \n",
       "348          89294                 6777                   0.00          0.00   \n",
       "38          901604                22430                   0.00          0.00   \n",
       "249         682920                45238                   0.41          0.00   \n",
       "430         492013                29190                   1.51          0.00   \n",
       "100          94619                 8663                   0.00          0.00   \n",
       "220         565790                97500                   0.00          2.75   \n",
       "470         269991                23571                   0.00          3.00   \n",
       "241         206077                15767                   0.10          0.00   \n",
       "82          379017                19085                   0.67          0.00   \n",
       "427         832803               139805                   0.15          0.00   \n",
       "449         902142               140266                   0.48          0.00   \n",
       "381         682041                96588                   0.28          0.00   \n",
       "\n",
       "     expected_assists_per_90  expected_goal_involvements_per_90  \\\n",
       "id                                                                \n",
       "260                     0.01                               0.06   \n",
       "72                      0.03                               0.07   \n",
       "575                     0.01                               0.19   \n",
       "348                     0.00                               0.00   \n",
       "38                      0.02                               0.02   \n",
       "249                     0.05                               0.46   \n",
       "430                     0.08                               1.59   \n",
       "100                     0.00                               0.00   \n",
       "220                     0.00                               0.00   \n",
       "470                     0.00                               0.00   \n",
       "241                     0.04                               0.14   \n",
       "82                      0.05                               0.72   \n",
       "427                     0.08                               0.23   \n",
       "449                     0.23                               0.71   \n",
       "381                     0.12                               0.40   \n",
       "\n",
       "     expected_goals_conceded_per_90  goals_conceded_per_90  \\\n",
       "id                                                           \n",
       "260                            1.00                   0.25   \n",
       "72                             0.87                   1.25   \n",
       "575                            1.21                   0.26   \n",
       "348                            1.18                   1.50   \n",
       "38                             2.15                   1.10   \n",
       "249                            0.83                   0.55   \n",
       "430                            1.38                   1.07   \n",
       "100                            1.80                   7.50   \n",
       "220                            0.96                   0.75   \n",
       "470                            2.29                   1.75   \n",
       "241                            0.96                   0.75   \n",
       "82                             0.87                   1.25   \n",
       "427                            1.37                   1.00   \n",
       "449                            1.70                   1.75   \n",
       "381                            0.81                   1.00   \n",
       "\n",
       "     defensive_contribution_per_90  \n",
       "id                                  \n",
       "260                           6.50  \n",
       "72                           13.75  \n",
       "575                           6.19  \n",
       "348                           9.50  \n",
       "38                            4.41  \n",
       "249                           5.18  \n",
       "430                           3.99  \n",
       "100                           7.50  \n",
       "220                           0.00  \n",
       "470                           0.00  \n",
       "241                          14.75  \n",
       "82                            7.00  \n",
       "427                           5.00  \n",
       "449                          11.50  \n",
       "381                           4.25  "
      ]
     },
     "execution_count": 44,
     "metadata": {},
     "output_type": "execute_result"
    }
   ],
   "source": [
    "# Budget\n",
    "my_budget = 40.0  \n",
    "\n",
    "# Liste des noms des joueurs à ajouter\n",
    "selected_names = [\"Sánchez\", \"Dúbravka\", \"Guéhi\", \"Senesi\", \"Van de Ven\", \"Konsa\", \"Rodon\", \"M.Salah\", \"Reijnders\",  \n",
    "                   \"Semenyo\", \"B.Fernandes\", \"Caicedo\", \"\", \"João Pedro\", \"Haaland\", \"Kroupi.Jr\"]  # Remplace par les noms souhaités\n",
    "\n",
    "# Filtrer df_players pour obtenir les joueurs sélectionnés\n",
    "df_my_team = df_players[df_players[\"web_name\"].isin(selected_names)]\n",
    "\n",
    "# Afficher l'équipe sélectionnée\n",
    "df_my_team.sort_values(by = ['position'])"
   ]
  },
  {
   "cell_type": "code",
   "execution_count": 45,
   "id": "52140b34",
   "metadata": {},
   "outputs": [
    {
     "data": {
      "text/plain": [
       "np.float64(999.0)"
      ]
     },
     "execution_count": 45,
     "metadata": {},
     "output_type": "execute_result"
    }
   ],
   "source": [
    "df_my_team.sum(numeric_only=True)['price'] # Coût total de l'équipe sélectionnée"
   ]
  },
  {
   "cell_type": "code",
   "execution_count": 46,
   "id": "72d4b82a",
   "metadata": {},
   "outputs": [],
   "source": [
    "# Je possède une équipe de 15 joueurs, je veux savoir si je peux l'améliorer en respectant les contraintes suivantes :\n",
    "# Mon budget est défini par la valeur my_budget\n",
    "# Je dois respecter la composition d'équipe suivante : 2 Gardiens (GKP), 5 Défenseurs (DEF), 5 Milieux (MID), 3 Attaquants (FWD)\n",
    "# Je ne peux pas avoir plus de 3 joueurs par équipe\n",
    "# Les critères me permattant de déterminer si un joueur va performer : les points_per_cost, l'ict_index, les minutes "
   ]
  },
  {
   "cell_type": "code",
   "execution_count": 47,
   "id": "50e03d6d",
   "metadata": {},
   "outputs": [
    {
     "name": "stdout",
     "output_type": "stream",
     "text": [
      "Corrélation entre ict_index et total_points : 0.860\n"
     ]
    }
   ],
   "source": [
    "corr = df_players['ict_index'].corr(df_players['total_points'])\n",
    "print(f\"Corrélation entre ict_index et total_points : {corr:.3f}\")\n"
   ]
  },
  {
   "cell_type": "code",
   "execution_count": 54,
   "id": "c8958aa4",
   "metadata": {},
   "outputs": [
    {
     "data": {
      "image/png": "[encoded data removed]",
      "text/plain": [
       "<Figure size 640x480 with 1 Axes>"
      ]
     },
     "metadata": {},
     "output_type": "display_data"
    }
   ],
   "source": [
    "sns.scatterplot(data=df_players, x='ict_index', y='total_points', hue='position')\n",
    "plt.title('ict_index vs total_points par position')\n",
    "plt.show()\n"
   ]
  },
  {
   "cell_type": "code",
   "execution_count": 56,
   "id": "9ff3f80c",
   "metadata": {},
   "outputs": [
    {
     "data": {
      "image/png": "[encoded data removed]",
      "text/plain": [
       "<Figure size 832.5x500 with 1 Axes>"
      ]
     },
     "metadata": {},
     "output_type": "display_data"
    }
   ],
   "source": [
    "sns.lmplot(data=df_players, x='ict_index', y='points_per_cost', hue='position', aspect=1.5)\n",
    "plt.title('Relation linéaire entre ict_index et points_per_cost')\n",
    "plt.show()\n"
   ]
  },
  {
   "cell_type": "code",
   "execution_count": 58,
   "id": "09224312",
   "metadata": {},
   "outputs": [
    {
     "data": {
      "application/vnd.plotly.v1+json": {
       "config": {
        "plotlyServerURL": "https://plot.ly"
       },
       "data": [
        {
         "hovertemplate": "position=DEF<br>ict_index=%{x}<br>points_per_cost=%{y}<extra></extra>",
         "legendgroup": "DEF",
         "marker": {
          "color": "#636efa",
          "opacity": 0.7,
          "size": 10,
          "symbol": "circle"
         },
         "mode": "markers",
         "name": "DEF",
         "orientation": "v",
         "showlegend": true,
         "type": "scatter",
         "x": {
          "bdata": "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",
          "dtype": "f8"
         },
         "xaxis": "x",
         "y": {
          "bdata": "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",
          "dtype": "f8"
         },
         "yaxis": "y"
        },
        {
         "hovertemplate": "position=GKP<br>ict_index=%{x}<br>points_per_cost=%{y}<extra></extra>",
         "legendgroup": "GKP",
         "marker": {
          "color": "#EF553B",
          "opacity": 0.7,
          "size": 10,
          "symbol": "circle"
         },
         "mode": "markers",
         "name": "GKP",
         "orientation": "v",
         "showlegend": true,
         "type": "scatter",
         "x": {
          "bdata": "zczMzMzMKEBmZmZmZmYrQDMzMzMzMx1AAAAAAAAAI0AAAAAAAAAlQAAAAAAAABxAmpmZmZmZH0CamZmZmZkfQJqZmZmZmSJAAAAAAAAAJECamZmZmZkTQDMzMzMzMwdAMzMzMzMzJEAAAAAAAAAhQDMzMzMzMxtAZmZmZmZmCkAAAAAAAAAgQM3MzMzMzARAMzMzMzMzI0AAAAAAAAAgQGZmZmZmZvY/zczMzMzMEkAAAAAAAAAAQM3MzMzMzAhAAAAAAAAAAAAAAAAAAAAAAAAAAAAAAAAAAAAAAAAAAAAAAAAAAAAAAAAAAAAAAAAAAAAAAAAAAAAAAAAAAAAAAAAAAAAAAAAAAAAAAAAAAAAAAAAAAAAAAAAAAAAAAAAAAAAAAAAAAAAAAAAAAAAAAAAAAAAAAAAAAAAAAAAAAAAAAAAAAAAAAAAAAAAAAAAAAAAAAAAAAAAAAAAAAAAAAAAAAAAAAAAAAAAAAAAAAAAAAAAAAAAAAAAAAAAAAAAAAAAAAAAAAAAAAAAAAAAAAAAAAAAAAAAAAAAAAAAAAAAAAAAAAAAAAAAAAAAAAAAAAAAAAAAAAAAAAAAAAAAAAAAAAAAAAAAAAAAAAAAAAAAAAAAAAAAAAAAAAAAAAAAAAAAAAAAAAAAAAAAAAAAAAAAAAAAAAAAAAAAAAAAAAAAAAAAAAAAAAAAAAAAAAAAAAAAAAAAAAAAAAAAAAAAAAAAAAAAAAAAAAAAAAAAAAAAAAAAAAAAAAAAAAAAAAAAAAAAAAAAAAAAAAAAAAAAAAAAAAAAAAAAAAAAAAAAAAAAAAAAAAAAAAAAAAAAAAAAAAAAAAAAAAAAAAAAAAAAAAAAAAAAAAAAAAAAAAAAAAAAAAAAAAAAAAAAAAAAAAAAAAAAAAAAAAAAAAAAAAAAAAA==",
          "dtype": "f8"
         },
         "xaxis": "x",
         "y": {
          "bdata": "MzMzMzMz4z8yMjIyMjLiP6RwPQrXo+A/7RvWvmHt2z/tG9a+Ye3bP+F6FK5H4do/UrgehetR2D9VVVVVVVXVP83MzMzMzNQ/exSuR+F61D+eEuQpQZ7SPxEREREREdE/L6fg5RS8zD+amZmZmZnJP5qZmZmZmck/exSuR+F6xD+UPumTPunDP5Q+6ZM+6cM/7FG4HoXrwT/sUbgehevBP+0b1r5h7bs/F2zBFmzBtj8zMzMzMzOzPxEREREREbE/AAAAAAAAAAAAAAAAAAAAAAAAAAAAAAAAAAAAAAAAAAAAAAAAAAAAAAAAAAAAAAAAAAAAAAAAAAAAAAAAAAAAAAAAAAAAAAAAAAAAAAAAAAAAAAAAAAAAAAAAAAAAAAAAAAAAAAAAAAAAAAAAAAAAAAAAAAAAAAAAAAAAAAAAAAAAAAAAAAAAAAAAAAAAAAAAAAAAAAAAAAAAAAAAAAAAAAAAAAAAAAAAAAAAAAAAAAAAAAAAAAAAAAAAAAAAAAAAAAAAAAAAAAAAAAAAAAAAAAAAAAAAAAAAAAAAAAAAAAAAAAAAAAAAAAAAAAAAAAAAAAAAAAAAAAAAAAAAAAAAAAAAAAAAAAAAAAAAAAAAAAAAAAAAAAAAAAAAAAAAAAAAAAAAAAAAAAAAAAAAAAAAAAAAAAAAAAAAAAAAAAAAAAAAAAAAAAAAAAAAAAAAAAAAAAAAAAAAAAAAAAAAAAAAAAAAAAAAAAAAAAAAAAAAAAAAAAAAAAAAAAAAAAAAAAAAAAAAAAAAAAAAAAAAAAAAAAAAAAAAAAAAAAAAAAAAAAAAAAAAAAAAAAAAAAAAAAAAAAAAAAAAAAAAAAAAAAAAAAAAAAAAAAAAAAAAAAAAAAAAAAAAAAAAAAAAAAAAAAAAAAAAAAAAAAAAAAAAAAAAAA==",
          "dtype": "f8"
         },
         "yaxis": "y"
        },
        {
         "hovertemplate": "position=MID<br>ict_index=%{x}<br>points_per_cost=%{y}<extra></extra>",
         "legendgroup": "MID",
         "marker": {
          "color": "#00cc96",
          "opacity": 0.7,
          "size": 10,
          "symbol": "circle"
         },
         "mode": "markers",
         "name": "MID",
         "orientation": "v",
         "showlegend": true,
         "type": "scatter",
         "x": {
          "bdata": "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",
          "dtype": "f8"
         },
         "xaxis": "x",
         "y": {
          "bdata": "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",
          "dtype": "f8"
         },
         "yaxis": "y"
        },
        {
         "hovertemplate": "position=FWD<br>ict_index=%{x}<br>points_per_cost=%{y}<extra></extra>",
         "legendgroup": "FWD",
         "marker": {
          "color": "#ab63fa",
          "opacity": 0.7,
          "size": 10,
          "symbol": "circle"
         },
         "mode": "markers",
         "name": "FWD",
         "orientation": "v",
         "showlegend": true,
         "type": "scatter",
         "x": {
          "bdata": "mpmZmZmZQEDNzMzMzEw5QGZmZmZmZi1AMzMzMzOzNUAAAAAAAIBGQDMzMzMzMzVAZmZmZmZmKUBmZmZmZmY0QM3MzMzMTDhAMzMzMzMzOUBmZmZmZmYkQAAAAAAAACtAZmZmZmbmOUAAAAAAAAArQAAAAAAAACFAmpmZmZmZKkCamZmZmZkfQDMzMzMzMzJAMzMzMzMzI0DNzMzMzMwwQM3MzMzMzAxAMzMzMzMzJEAAAAAAAAAaQGZmZmZmZgJAAAAAAAAAFkCamZmZmZnJPwAAAAAAABRAmpmZmZmZIUAzMzMzMzMVQJqZmZmZmRdAAAAAAAAA8D8AAAAAAAAIQGZmZmZmZuY/ZmZmZmZm9j8AAAAAAADwP5qZmZmZmR9AzczMzMzMCEBmZmZmZmbmP5qZmZmZmck/mpmZmZmZyT8AAAAAAAAAAGZmZmZmZgJAmpmZmZmZuT8zMzMzMzPjPwAAAAAAAAAAAAAAAAAAAAAAAAAAAAAAAAAAAAAAAAAAAAAAAAAAAAAAAAAAAAAAAAAAAAAAAAAAAAAAAAAAAAAAAAAAAAAAAAAAAAAAAAAAAAAAAAAAAAAAAAAAAAAAAAAAAAAAAAAAAAAAAAAAAAAAAAAAAAAAAAAAAAAAAAAAAAAAAAAAAAAAAAAAAAAAAAAAAAAAAAAAAAAAAAAAAAAAAAAAAAAAAAAAAAAAAAAAAAAAAAAAAAAAAAAAAAAAAAAAAAAAAAAAAAAAAAAAAAAAAAAAAAAAAAAAAAAAAAAAAAAAAAAAAAAAAAAAAAAAAAAAAAAAAAAAAAAAAAAAAAAAAAAAAAAAAAAAAAAAAAAAAAAAAAAAAAAAAAAAAAAAAAAAAAAAAAAA",
          "dtype": "f8"
         },
         "xaxis": "x",
         "y": {
          "bdata": "27Zt27Zt2z+gcnYLvxrTP54S5ClBntI/dNFFF1100T9DB+z2WMvQPwAAAAAAANA/uB6F61G4zj8N5TWU11DOPx3UQR3UQc0/HMdxHMdxzD/tG9a+Ye3LPy+hvYT2Eso/2Ymd2ImdyD9GF1100UXHPwrXo3A9Csc/0HBS9+WxxT/ylCBPCfLEP3kN5TWU18A/UAd1UAd1wD9GF1100UW3P3waYbmnEbY/fBphuacRtj8URVEURVG0PxRFURRFUbQ/whT5rBtMsT8RERERERGxPxAEQRAEQbA/AAAAAAAAsD8iNcF4K/usP+0b1r5h7as/YbmnEZZ7qj+amZmZmZmpP0YXXXTRRac/aC+hvYT2oj+eEuQpQZ6iPw0ndV8eW6E/HMdxHMdxnD85BS+n4OWUP3sUrkfhepQ/aC+hvYT2kj9oL6G9hPaSP54S5ClBnpI/nhLkKUGekj/QusEU+ayLPwAAAAAAAAAAAAAAAAAAAAAAAAAAAAAAAAAAAAAAAAAAAAAAAAAAAAAAAAAAAAAAAAAAAAAAAAAAAAAAAAAAAAAAAAAAAAAAAAAAAAAAAAAAAAAAAAAAAAAAAAAAAAAAAAAAAAAAAAAAAAAAAAAAAAAAAAAAAAAAAAAAAAAAAAAAAAAAAAAAAAAAAAAAAAAAAAAAAAAAAAAAAAAAAAAAAAAAAAAAAAAAAAAAAAAAAAAAAAAAAAAAAAAAAAAAAAAAAAAAAAAAAAAAAAAAAAAAAAAAAAAAAAAAAAAAAAAAAAAAAAAAAAAAAAAAAAAAAAAAAAAAAAAAAAAAAAAAAAAAAAAAAAAAAAAAAAAAAAAAAAAAAAAAAAAAAAAAAAAAAAAAAAAAAAAAAAAA",
          "dtype": "f8"
         },
         "yaxis": "y"
        }
       ],
       "layout": {
        "hovermode": "closest",
        "legend": {
         "title": {
          "text": "position"
         },
         "tracegroupgap": 0
        },
        "template": {
         "data": {
          "bar": [
           {
            "error_x": {
             "color": "#2a3f5f"
            },
            "error_y": {
             "color": "#2a3f5f"
            },
            "marker": {
             "line": {
              "color": "#E5ECF6",
              "width": 0.5
             },
             "pattern": {
              "fillmode": "overlay",
              "size": 10,
              "solidity": 0.2
             }
            },
            "type": "bar"
           }
          ],
          "barpolar": [
           {
            "marker": {
             "line": {
              "color": "#E5ECF6",
              "width": 0.5
             },
             "pattern": {
              "fillmode": "overlay",
              "size": 10,
              "solidity": 0.2
             }
            },
            "type": "barpolar"
           }
          ],
          "carpet": [
           {
            "aaxis": {
             "endlinecolor": "#2a3f5f",
             "gridcolor": "white",
             "linecolor": "white",
             "minorgridcolor": "white",
             "startlinecolor": "#2a3f5f"
            },
            "baxis": {
             "endlinecolor": "#2a3f5f",
             "gridcolor": "white",
             "linecolor": "white",
             "minorgridcolor": "white",
             "startlinecolor": "#2a3f5f"
            },
            "type": "carpet"
           }
          ],
          "choropleth": [
           {
            "colorbar": {
             "outlinewidth": 0,
             "ticks": ""
            },
            "type": "choropleth"
           }
          ],
          "contour": [
           {
            "colorbar": {
             "outlinewidth": 0,
             "ticks": ""
            },
            "colorscale": [
             [
              0,
              "#0d0887"
             ],
             [
              0.1111111111111111,
              "#46039f"
             ],
             [
              0.2222222222222222,
              "#7201a8"
             ],
             [
              0.3333333333333333,
              "#9c179e"
             ],
             [
              0.4444444444444444,
              "#bd3786"
             ],
             [
              0.5555555555555556,
              "#d8576b"
             ],
             [
              0.6666666666666666,
              "#ed7953"
             ],
             [
              0.7777777777777778,
              "#fb9f3a"
             ],
             [
              0.8888888888888888,
              "#fdca26"
             ],
             [
              1,
              "#f0f921"
             ]
            ],
            "type": "contour"
           }
          ],
          "contourcarpet": [
           {
            "colorbar": {
             "outlinewidth": 0,
             "ticks": ""
            },
            "type": "contourcarpet"
           }
          ],
          "heatmap": [
           {
            "colorbar": {
             "outlinewidth": 0,
             "ticks": ""
            },
            "colorscale": [
             [
              0,
              "#0d0887"
             ],
             [
              0.1111111111111111,
              "#46039f"
             ],
             [
              0.2222222222222222,
              "#7201a8"
             ],
             [
              0.3333333333333333,
              "#9c179e"
             ],
             [
              0.4444444444444444,
              "#bd3786"
             ],
             [
              0.5555555555555556,
              "#d8576b"
             ],
             [
              0.6666666666666666,
              "#ed7953"
             ],
             [
              0.7777777777777778,
              "#fb9f3a"
             ],
             [
              0.8888888888888888,
              "#fdca26"
             ],
             [
              1,
              "#f0f921"
             ]
            ],
            "type": "heatmap"
           }
          ],
          "histogram": [
           {
            "marker": {
             "pattern": {
              "fillmode": "overlay",
              "size": 10,
              "solidity": 0.2
             }
            },
            "type": "histogram"
           }
          ],
          "histogram2d": [
           {
            "colorbar": {
             "outlinewidth": 0,
             "ticks": ""
            },
            "colorscale": [
             [
              0,
              "#0d0887"
             ],
             [
              0.1111111111111111,
              "#46039f"
             ],
             [
              0.2222222222222222,
              "#7201a8"
             ],
             [
              0.3333333333333333,
              "#9c179e"
             ],
             [
              0.4444444444444444,
              "#bd3786"
             ],
             [
              0.5555555555555556,
              "#d8576b"
             ],
             [
              0.6666666666666666,
              "#ed7953"
             ],
             [
              0.7777777777777778,
              "#fb9f3a"
             ],
             [
              0.8888888888888888,
              "#fdca26"
             ],
             [
              1,
              "#f0f921"
             ]
            ],
            "type": "histogram2d"
           }
          ],
          "histogram2dcontour": [
           {
            "colorbar": {
             "outlinewidth": 0,
             "ticks": ""
            },
            "colorscale": [
             [
              0,
              "#0d0887"
             ],
             [
              0.1111111111111111,
              "#46039f"
             ],
             [
              0.2222222222222222,
              "#7201a8"
             ],
             [
              0.3333333333333333,
              "#9c179e"
             ],
             [
              0.4444444444444444,
              "#bd3786"
             ],
             [
              0.5555555555555556,
              "#d8576b"
             ],
             [
              0.6666666666666666,
              "#ed7953"
             ],
             [
              0.7777777777777778,
              "#fb9f3a"
             ],
             [
              0.8888888888888888,
              "#fdca26"
             ],
             [
              1,
              "#f0f921"
             ]
            ],
            "type": "histogram2dcontour"
           }
          ],
          "mesh3d": [
           {
            "colorbar": {
             "outlinewidth": 0,
             "ticks": ""
            },
            "type": "mesh3d"
           }
          ],
          "parcoords": [
           {
            "line": {
             "colorbar": {
              "outlinewidth": 0,
              "ticks": ""
             }
            },
            "type": "parcoords"
           }
          ],
          "pie": [
           {
            "automargin": true,
            "type": "pie"
           }
          ],
          "scatter": [
           {
            "fillpattern": {
             "fillmode": "overlay",
             "size": 10,
             "solidity": 0.2
            },
            "type": "scatter"
           }
          ],
          "scatter3d": [
           {
            "line": {
             "colorbar": {
              "outlinewidth": 0,
              "ticks": ""
             }
            },
            "marker": {
             "colorbar": {
              "outlinewidth": 0,
              "ticks": ""
             }
            },
            "type": "scatter3d"
           }
          ],
          "scattercarpet": [
           {
            "marker": {
             "colorbar": {
              "outlinewidth": 0,
              "ticks": ""
             }
            },
            "type": "scattercarpet"
           }
          ],
          "scattergeo": [
           {
            "marker": {
             "colorbar": {
              "outlinewidth": 0,
              "ticks": ""
             }
            },
            "type": "scattergeo"
           }
          ],
          "scattergl": [
           {
            "marker": {
             "colorbar": {
              "outlinewidth": 0,
              "ticks": ""
             }
            },
            "type": "scattergl"
           }
          ],
          "scattermap": [
           {
            "marker": {
             "colorbar": {
              "outlinewidth": 0,
              "ticks": ""
             }
            },
            "type": "scattermap"
           }
          ],
          "scattermapbox": [
           {
            "marker": {
             "colorbar": {
              "outlinewidth": 0,
              "ticks": ""
             }
            },
            "type": "scattermapbox"
           }
          ],
          "scatterpolar": [
           {
            "marker": {
             "colorbar": {
              "outlinewidth": 0,
              "ticks": ""
             }
            },
            "type": "scatterpolar"
           }
          ],
          "scatterpolargl": [
           {
            "marker": {
             "colorbar": {
              "outlinewidth": 0,
              "ticks": ""
             }
            },
            "type": "scatterpolargl"
           }
          ],
          "scatterternary": [
           {
            "marker": {
             "colorbar": {
              "outlinewidth": 0,
              "ticks": ""
             }
            },
            "type": "scatterternary"
           }
          ],
          "surface": [
           {
            "colorbar": {
             "outlinewidth": 0,
             "ticks": ""
            },
            "colorscale": [
             [
              0,
              "#0d0887"
             ],
             [
              0.1111111111111111,
              "#46039f"
             ],
             [
              0.2222222222222222,
              "#7201a8"
             ],
             [
              0.3333333333333333,
              "#9c179e"
             ],
             [
              0.4444444444444444,
              "#bd3786"
             ],
             [
              0.5555555555555556,
              "#d8576b"
             ],
             [
              0.6666666666666666,
              "#ed7953"
             ],
             [
              0.7777777777777778,
              "#fb9f3a"
             ],
             [
              0.8888888888888888,
              "#fdca26"
             ],
             [
              1,
              "#f0f921"
             ]
            ],
            "type": "surface"
           }
          ],
          "table": [
           {
            "cells": {
             "fill": {
              "color": "#EBF0F8"
             },
             "line": {
              "color": "white"
             }
            },
            "header": {
             "fill": {
              "color": "#C8D4E3"
             },
             "line": {
              "color": "white"
             }
            },
            "type": "table"
           }
          ]
         },
         "layout": {
          "annotationdefaults": {
           "arrowcolor": "#2a3f5f",
           "arrowhead": 0,
           "arrowwidth": 1
          },
          "autotypenumbers": "strict",
          "coloraxis": {
           "colorbar": {
            "outlinewidth": 0,
            "ticks": ""
           }
          },
          "colorscale": {
           "diverging": [
            [
             0,
             "#8e0152"
            ],
            [
             0.1,
             "#c51b7d"
            ],
            [
             0.2,
             "#de77ae"
            ],
            [
             0.3,
             "#f1b6da"
            ],
            [
             0.4,
             "#fde0ef"
            ],
            [
             0.5,
             "#f7f7f7"
            ],
            [
             0.6,
             "#e6f5d0"
            ],
            [
             0.7,
             "#b8e186"
            ],
            [
             0.8,
             "#7fbc41"
            ],
            [
             0.9,
             "#4d9221"
            ],
            [
             1,
             "#276419"
            ]
           ],
           "sequential": [
            [
             0,
             "#0d0887"
            ],
            [
             0.1111111111111111,
             "#46039f"
            ],
            [
             0.2222222222222222,
             "#7201a8"
            ],
            [
             0.3333333333333333,
             "#9c179e"
            ],
            [
             0.4444444444444444,
             "#bd3786"
            ],
            [
             0.5555555555555556,
             "#d8576b"
            ],
            [
             0.6666666666666666,
             "#ed7953"
            ],
            [
             0.7777777777777778,
             "#fb9f3a"
            ],
            [
             0.8888888888888888,
             "#fdca26"
            ],
            [
             1,
             "#f0f921"
            ]
           ],
           "sequentialminus": [
            [
             0,
             "#0d0887"
            ],
            [
             0.1111111111111111,
             "#46039f"
            ],
            [
             0.2222222222222222,
             "#7201a8"
            ],
            [
             0.3333333333333333,
             "#9c179e"
            ],
            [
             0.4444444444444444,
             "#bd3786"
            ],
            [
             0.5555555555555556,
             "#d8576b"
            ],
            [
             0.6666666666666666,
             "#ed7953"
            ],
            [
             0.7777777777777778,
             "#fb9f3a"
            ],
            [
             0.8888888888888888,
             "#fdca26"
            ],
            [
             1,
             "#f0f921"
            ]
           ]
          },
          "colorway": [
           "#636efa",
           "#EF553B",
           "#00cc96",
           "#ab63fa",
           "#FFA15A",
           "#19d3f3",
           "#FF6692",
           "#B6E880",
           "#FF97FF",
           "#FECB52"
          ],
          "font": {
           "color": "#2a3f5f"
          },
          "geo": {
           "bgcolor": "white",
           "lakecolor": "white",
           "landcolor": "#E5ECF6",
           "showlakes": true,
           "showland": true,
           "subunitcolor": "white"
          },
          "hoverlabel": {
           "align": "left"
          },
          "hovermode": "closest",
          "mapbox": {
           "style": "light"
          },
          "paper_bgcolor": "white",
          "plot_bgcolor": "#E5ECF6",
          "polar": {
           "angularaxis": {
            "gridcolor": "white",
            "linecolor": "white",
            "ticks": ""
           },
           "bgcolor": "#E5ECF6",
           "radialaxis": {
            "gridcolor": "white",
            "linecolor": "white",
            "ticks": ""
           }
          },
          "scene": {
           "xaxis": {
            "backgroundcolor": "#E5ECF6",
            "gridcolor": "white",
            "gridwidth": 2,
            "linecolor": "white",
            "showbackground": true,
            "ticks": "",
            "zerolinecolor": "white"
           },
           "yaxis": {
            "backgroundcolor": "#E5ECF6",
            "gridcolor": "white",
            "gridwidth": 2,
            "linecolor": "white",
            "showbackground": true,
            "ticks": "",
            "zerolinecolor": "white"
           },
           "zaxis": {
            "backgroundcolor": "#E5ECF6",
            "gridcolor": "white",
            "gridwidth": 2,
            "linecolor": "white",
            "showbackground": true,
            "ticks": "",
            "zerolinecolor": "white"
           }
          },
          "shapedefaults": {
           "line": {
            "color": "#2a3f5f"
           }
          },
          "ternary": {
           "aaxis": {
            "gridcolor": "white",
            "linecolor": "white",
            "ticks": ""
           },
           "baxis": {
            "gridcolor": "white",
            "linecolor": "white",
            "ticks": ""
           },
           "bgcolor": "#E5ECF6",
           "caxis": {
            "gridcolor": "white",
            "linecolor": "white",
            "ticks": ""
           }
          },
          "title": {
           "x": 0.05
          },
          "xaxis": {
           "automargin": true,
           "gridcolor": "white",
           "linecolor": "white",
           "ticks": "",
           "title": {
            "standoff": 15
           },
           "zerolinecolor": "white",
           "zerolinewidth": 2
          },
          "yaxis": {
           "automargin": true,
           "gridcolor": "white",
           "linecolor": "white",
           "ticks": "",
           "title": {
            "standoff": 15
           },
           "zerolinecolor": "white",
           "zerolinewidth": 2
          }
         }
        },
        "title": {
         "text": "ict_index vs total_points (Hover pour nom du joueur)"
        },
        "xaxis": {
         "anchor": "y",
         "domain": [
          0,
          1
         ],
         "title": {
          "text": "ict_index"
         }
        },
        "yaxis": {
         "anchor": "x",
         "domain": [
          0,
          1
         ],
         "title": {
          "text": "points_per_cost"
         }
        }
       }
      }
     },
     "metadata": {},
     "output_type": "display_data"
    }
   ],
   "source": [
    "import plotly.express as px\n",
    "\n",
    "fig = px.scatter(\n",
    "    df_players,\n",
    "    x='ict_index',\n",
    "    y='points_per_cost',\n",
    "    #text='web_name',  # Affiche le nom au survol\n",
    "    color='position', # Optionnel, couleur par poste\n",
    "    title='ict_index vs total_points (Hover pour nom du joueur)'\n",
    ")\n",
    "\n",
    "fig.update_traces(marker=dict(size=10, opacity=0.7),\n",
    "                  selector=dict(mode='markers'))\n",
    "fig.update_layout(hovermode='closest')\n",
    "fig.show()\n"
   ]
  },
  {
   "cell_type": "code",
   "execution_count": null,
   "id": "cc23512f",
   "metadata": {},
   "outputs": [],
   "source": []
  },
  {
   "cell_type": "code",
   "execution_count": null,
   "id": "60c5829e",
   "metadata": {},
   "outputs": [],
   "source": []
  },
  {
   "cell_type": "code",
   "execution_count": null,
   "id": "bcafed94",
   "metadata": {},
   "outputs": [],
   "source": []
  }
 ],
 "metadata": {
  "kernelspec": {
   "display_name": "Python 3",
   "language": "python",
   "name": "python3"
  },
  "language_info": {
   "codemirror_mode": {
    "name": "ipython",
    "version": 3
   },
   "file_extension": ".py",
   "mimetype": "text/x-python",
   "name": "python",
   "nbconvert_exporter": "python",
   "pygments_lexer": "ipython3",
   "version": "3.12.1"
  }
 },
 "nbformat": 4,
 "nbformat_minor": 5
}
